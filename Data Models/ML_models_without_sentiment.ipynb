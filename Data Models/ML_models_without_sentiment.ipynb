{
  "cells": [
    {
      "cell_type": "code",
      "execution_count": 1,
      "metadata": {
        "id": "11OWjs4eE39z"
      },
      "outputs": [],
      "source": [
        "import pandas as pd\n",
        "import numpy as np"
      ]
    },
    {
      "cell_type": "code",
      "execution_count": 2,
      "metadata": {
        "id": "5RGKWKkUMLpB"
      },
      "outputs": [],
      "source": [
        "stock = pd.read_csv('final_stock_data.csv')"
      ]
    },
    {
      "cell_type": "code",
      "execution_count": 3,
      "metadata": {
        "colab": {
          "base_uri": "https://localhost:8080/",
          "height": 206
        },
        "id": "6pAhA9sxMQr0",
        "outputId": "ccb0c23a-ba55-4812-ea45-9891b11f5bb1"
      },
      "outputs": [
        {
          "data": {
            "text/html": [
              "<div>\n",
              "<style scoped>\n",
              "    .dataframe tbody tr th:only-of-type {\n",
              "        vertical-align: middle;\n",
              "    }\n",
              "\n",
              "    .dataframe tbody tr th {\n",
              "        vertical-align: top;\n",
              "    }\n",
              "\n",
              "    .dataframe thead th {\n",
              "        text-align: right;\n",
              "    }\n",
              "</style>\n",
              "<table border=\"1\" class=\"dataframe\">\n",
              "  <thead>\n",
              "    <tr style=\"text-align: right;\">\n",
              "      <th></th>\n",
              "      <th>Date</th>\n",
              "      <th>Open</th>\n",
              "      <th>High</th>\n",
              "      <th>Low</th>\n",
              "      <th>Close</th>\n",
              "      <th>Volume</th>\n",
              "      <th>Dividends</th>\n",
              "      <th>Stock Splits</th>\n",
              "      <th>Movement</th>\n",
              "    </tr>\n",
              "  </thead>\n",
              "  <tbody>\n",
              "    <tr>\n",
              "      <th>0</th>\n",
              "      <td>2012-07-16</td>\n",
              "      <td>18.478158</td>\n",
              "      <td>18.676643</td>\n",
              "      <td>18.475103</td>\n",
              "      <td>18.532818</td>\n",
              "      <td>301260400</td>\n",
              "      <td>0.0</td>\n",
              "      <td>0.0</td>\n",
              "      <td>1</td>\n",
              "    </tr>\n",
              "    <tr>\n",
              "      <th>1</th>\n",
              "      <td>2012-07-19</td>\n",
              "      <td>18.666261</td>\n",
              "      <td>18.790544</td>\n",
              "      <td>18.505029</td>\n",
              "      <td>18.759092</td>\n",
              "      <td>436861600</td>\n",
              "      <td>0.0</td>\n",
              "      <td>0.0</td>\n",
              "      <td>1</td>\n",
              "    </tr>\n",
              "    <tr>\n",
              "      <th>2</th>\n",
              "      <td>2012-07-23</td>\n",
              "      <td>18.150808</td>\n",
              "      <td>18.501977</td>\n",
              "      <td>17.946521</td>\n",
              "      <td>18.438766</td>\n",
              "      <td>487975600</td>\n",
              "      <td>0.0</td>\n",
              "      <td>0.0</td>\n",
              "      <td>0</td>\n",
              "    </tr>\n",
              "    <tr>\n",
              "      <th>3</th>\n",
              "      <td>2012-07-24</td>\n",
              "      <td>18.547165</td>\n",
              "      <td>18.617399</td>\n",
              "      <td>18.276307</td>\n",
              "      <td>18.349901</td>\n",
              "      <td>565132400</td>\n",
              "      <td>0.0</td>\n",
              "      <td>0.0</td>\n",
              "      <td>0</td>\n",
              "    </tr>\n",
              "    <tr>\n",
              "      <th>4</th>\n",
              "      <td>2012-07-27</td>\n",
              "      <td>17.558705</td>\n",
              "      <td>17.889109</td>\n",
              "      <td>17.454271</td>\n",
              "      <td>17.868649</td>\n",
              "      <td>403936400</td>\n",
              "      <td>0.0</td>\n",
              "      <td>0.0</td>\n",
              "      <td>1</td>\n",
              "    </tr>\n",
              "  </tbody>\n",
              "</table>\n",
              "</div>"
            ],
            "text/plain": [
              "         Date       Open       High        Low      Close     Volume  \\\n",
              "0  2012-07-16  18.478158  18.676643  18.475103  18.532818  301260400   \n",
              "1  2012-07-19  18.666261  18.790544  18.505029  18.759092  436861600   \n",
              "2  2012-07-23  18.150808  18.501977  17.946521  18.438766  487975600   \n",
              "3  2012-07-24  18.547165  18.617399  18.276307  18.349901  565132400   \n",
              "4  2012-07-27  17.558705  17.889109  17.454271  17.868649  403936400   \n",
              "\n",
              "   Dividends  Stock Splits  Movement  \n",
              "0        0.0           0.0         1  \n",
              "1        0.0           0.0         1  \n",
              "2        0.0           0.0         0  \n",
              "3        0.0           0.0         0  \n",
              "4        0.0           0.0         1  "
            ]
          },
          "execution_count": 3,
          "metadata": {},
          "output_type": "execute_result"
        }
      ],
      "source": [
        "stock.head()"
      ]
    },
    {
      "cell_type": "code",
      "execution_count": 4,
      "metadata": {
        "id": "CdRU7iN-MT5W"
      },
      "outputs": [],
      "source": [
        "labels = pd.read_csv('news_label.csv')"
      ]
    },
    {
      "cell_type": "code",
      "execution_count": 5,
      "metadata": {
        "colab": {
          "base_uri": "https://localhost:8080/",
          "height": 206
        },
        "id": "_kxphjqfMuiJ",
        "outputId": "c4926531-7e4d-4505-e40b-d35e765623bb"
      },
      "outputs": [
        {
          "data": {
            "text/html": [
              "<div>\n",
              "<style scoped>\n",
              "    .dataframe tbody tr th:only-of-type {\n",
              "        vertical-align: middle;\n",
              "    }\n",
              "\n",
              "    .dataframe tbody tr th {\n",
              "        vertical-align: top;\n",
              "    }\n",
              "\n",
              "    .dataframe thead th {\n",
              "        text-align: right;\n",
              "    }\n",
              "</style>\n",
              "<table border=\"1\" class=\"dataframe\">\n",
              "  <thead>\n",
              "    <tr style=\"text-align: right;\">\n",
              "      <th></th>\n",
              "      <th>Date</th>\n",
              "      <th>Sentiment</th>\n",
              "    </tr>\n",
              "  </thead>\n",
              "  <tbody>\n",
              "    <tr>\n",
              "      <th>0</th>\n",
              "      <td>2012-07-16</td>\n",
              "      <td>0.0</td>\n",
              "    </tr>\n",
              "    <tr>\n",
              "      <th>1</th>\n",
              "      <td>2012-07-19</td>\n",
              "      <td>0.0</td>\n",
              "    </tr>\n",
              "    <tr>\n",
              "      <th>2</th>\n",
              "      <td>2012-07-23</td>\n",
              "      <td>0.0</td>\n",
              "    </tr>\n",
              "    <tr>\n",
              "      <th>3</th>\n",
              "      <td>2012-07-24</td>\n",
              "      <td>0.0</td>\n",
              "    </tr>\n",
              "    <tr>\n",
              "      <th>4</th>\n",
              "      <td>2012-07-27</td>\n",
              "      <td>0.0</td>\n",
              "    </tr>\n",
              "  </tbody>\n",
              "</table>\n",
              "</div>"
            ],
            "text/plain": [
              "         Date  Sentiment\n",
              "0  2012-07-16        0.0\n",
              "1  2012-07-19        0.0\n",
              "2  2012-07-23        0.0\n",
              "3  2012-07-24        0.0\n",
              "4  2012-07-27        0.0"
            ]
          },
          "execution_count": 5,
          "metadata": {},
          "output_type": "execute_result"
        }
      ],
      "source": [
        "labels.head()"
      ]
    },
    {
      "cell_type": "code",
      "execution_count": 6,
      "metadata": {
        "id": "ZxEywx58MxMb"
      },
      "outputs": [],
      "source": [
        "final = pd.merge(stock, labels) "
      ]
    },
    {
      "cell_type": "code",
      "execution_count": 7,
      "metadata": {
        "colab": {
          "base_uri": "https://localhost:8080/",
          "height": 206
        },
        "id": "jhf0Px5kNIZ6",
        "outputId": "96258659-cba5-489e-ca96-666696e0674d"
      },
      "outputs": [
        {
          "data": {
            "text/html": [
              "<div>\n",
              "<style scoped>\n",
              "    .dataframe tbody tr th:only-of-type {\n",
              "        vertical-align: middle;\n",
              "    }\n",
              "\n",
              "    .dataframe tbody tr th {\n",
              "        vertical-align: top;\n",
              "    }\n",
              "\n",
              "    .dataframe thead th {\n",
              "        text-align: right;\n",
              "    }\n",
              "</style>\n",
              "<table border=\"1\" class=\"dataframe\">\n",
              "  <thead>\n",
              "    <tr style=\"text-align: right;\">\n",
              "      <th></th>\n",
              "      <th>Date</th>\n",
              "      <th>Open</th>\n",
              "      <th>High</th>\n",
              "      <th>Low</th>\n",
              "      <th>Close</th>\n",
              "      <th>Volume</th>\n",
              "      <th>Dividends</th>\n",
              "      <th>Stock Splits</th>\n",
              "      <th>Movement</th>\n",
              "      <th>Sentiment</th>\n",
              "    </tr>\n",
              "  </thead>\n",
              "  <tbody>\n",
              "    <tr>\n",
              "      <th>0</th>\n",
              "      <td>2012-07-16</td>\n",
              "      <td>18.478158</td>\n",
              "      <td>18.676643</td>\n",
              "      <td>18.475103</td>\n",
              "      <td>18.532818</td>\n",
              "      <td>301260400</td>\n",
              "      <td>0.0</td>\n",
              "      <td>0.0</td>\n",
              "      <td>1</td>\n",
              "      <td>0.0</td>\n",
              "    </tr>\n",
              "    <tr>\n",
              "      <th>1</th>\n",
              "      <td>2012-07-19</td>\n",
              "      <td>18.666261</td>\n",
              "      <td>18.790544</td>\n",
              "      <td>18.505029</td>\n",
              "      <td>18.759092</td>\n",
              "      <td>436861600</td>\n",
              "      <td>0.0</td>\n",
              "      <td>0.0</td>\n",
              "      <td>1</td>\n",
              "      <td>0.0</td>\n",
              "    </tr>\n",
              "    <tr>\n",
              "      <th>2</th>\n",
              "      <td>2012-07-23</td>\n",
              "      <td>18.150808</td>\n",
              "      <td>18.501977</td>\n",
              "      <td>17.946521</td>\n",
              "      <td>18.438766</td>\n",
              "      <td>487975600</td>\n",
              "      <td>0.0</td>\n",
              "      <td>0.0</td>\n",
              "      <td>0</td>\n",
              "      <td>0.0</td>\n",
              "    </tr>\n",
              "    <tr>\n",
              "      <th>3</th>\n",
              "      <td>2012-07-24</td>\n",
              "      <td>18.547165</td>\n",
              "      <td>18.617399</td>\n",
              "      <td>18.276307</td>\n",
              "      <td>18.349901</td>\n",
              "      <td>565132400</td>\n",
              "      <td>0.0</td>\n",
              "      <td>0.0</td>\n",
              "      <td>0</td>\n",
              "      <td>0.0</td>\n",
              "    </tr>\n",
              "    <tr>\n",
              "      <th>4</th>\n",
              "      <td>2012-07-27</td>\n",
              "      <td>17.558705</td>\n",
              "      <td>17.889109</td>\n",
              "      <td>17.454271</td>\n",
              "      <td>17.868649</td>\n",
              "      <td>403936400</td>\n",
              "      <td>0.0</td>\n",
              "      <td>0.0</td>\n",
              "      <td>1</td>\n",
              "      <td>0.0</td>\n",
              "    </tr>\n",
              "  </tbody>\n",
              "</table>\n",
              "</div>"
            ],
            "text/plain": [
              "         Date       Open       High        Low      Close     Volume  \\\n",
              "0  2012-07-16  18.478158  18.676643  18.475103  18.532818  301260400   \n",
              "1  2012-07-19  18.666261  18.790544  18.505029  18.759092  436861600   \n",
              "2  2012-07-23  18.150808  18.501977  17.946521  18.438766  487975600   \n",
              "3  2012-07-24  18.547165  18.617399  18.276307  18.349901  565132400   \n",
              "4  2012-07-27  17.558705  17.889109  17.454271  17.868649  403936400   \n",
              "\n",
              "   Dividends  Stock Splits  Movement  Sentiment  \n",
              "0        0.0           0.0         1        0.0  \n",
              "1        0.0           0.0         1        0.0  \n",
              "2        0.0           0.0         0        0.0  \n",
              "3        0.0           0.0         0        0.0  \n",
              "4        0.0           0.0         1        0.0  "
            ]
          },
          "execution_count": 7,
          "metadata": {},
          "output_type": "execute_result"
        }
      ],
      "source": [
        "final.head()"
      ]
    },
    {
      "cell_type": "code",
      "execution_count": 8,
      "metadata": {
        "id": "C1ws6g5_NKGJ"
      },
      "outputs": [],
      "source": [
        "final = final.drop(['Dividends','Stock Splits','Date', 'Sentiment'], axis=1)"
      ]
    },
    {
      "cell_type": "code",
      "execution_count": 9,
      "metadata": {
        "colab": {
          "base_uri": "https://localhost:8080/",
          "height": 206
        },
        "id": "R3DKzQamNTwn",
        "outputId": "cd1727ac-68a9-42ca-de3a-5d04c4ae2c84"
      },
      "outputs": [
        {
          "data": {
            "text/html": [
              "<div>\n",
              "<style scoped>\n",
              "    .dataframe tbody tr th:only-of-type {\n",
              "        vertical-align: middle;\n",
              "    }\n",
              "\n",
              "    .dataframe tbody tr th {\n",
              "        vertical-align: top;\n",
              "    }\n",
              "\n",
              "    .dataframe thead th {\n",
              "        text-align: right;\n",
              "    }\n",
              "</style>\n",
              "<table border=\"1\" class=\"dataframe\">\n",
              "  <thead>\n",
              "    <tr style=\"text-align: right;\">\n",
              "      <th></th>\n",
              "      <th>Open</th>\n",
              "      <th>High</th>\n",
              "      <th>Low</th>\n",
              "      <th>Close</th>\n",
              "      <th>Volume</th>\n",
              "      <th>Movement</th>\n",
              "    </tr>\n",
              "  </thead>\n",
              "  <tbody>\n",
              "    <tr>\n",
              "      <th>0</th>\n",
              "      <td>18.478158</td>\n",
              "      <td>18.676643</td>\n",
              "      <td>18.475103</td>\n",
              "      <td>18.532818</td>\n",
              "      <td>301260400</td>\n",
              "      <td>1</td>\n",
              "    </tr>\n",
              "    <tr>\n",
              "      <th>1</th>\n",
              "      <td>18.666261</td>\n",
              "      <td>18.790544</td>\n",
              "      <td>18.505029</td>\n",
              "      <td>18.759092</td>\n",
              "      <td>436861600</td>\n",
              "      <td>1</td>\n",
              "    </tr>\n",
              "    <tr>\n",
              "      <th>2</th>\n",
              "      <td>18.150808</td>\n",
              "      <td>18.501977</td>\n",
              "      <td>17.946521</td>\n",
              "      <td>18.438766</td>\n",
              "      <td>487975600</td>\n",
              "      <td>0</td>\n",
              "    </tr>\n",
              "    <tr>\n",
              "      <th>3</th>\n",
              "      <td>18.547165</td>\n",
              "      <td>18.617399</td>\n",
              "      <td>18.276307</td>\n",
              "      <td>18.349901</td>\n",
              "      <td>565132400</td>\n",
              "      <td>0</td>\n",
              "    </tr>\n",
              "    <tr>\n",
              "      <th>4</th>\n",
              "      <td>17.558705</td>\n",
              "      <td>17.889109</td>\n",
              "      <td>17.454271</td>\n",
              "      <td>17.868649</td>\n",
              "      <td>403936400</td>\n",
              "      <td>1</td>\n",
              "    </tr>\n",
              "  </tbody>\n",
              "</table>\n",
              "</div>"
            ],
            "text/plain": [
              "        Open       High        Low      Close     Volume  Movement\n",
              "0  18.478158  18.676643  18.475103  18.532818  301260400         1\n",
              "1  18.666261  18.790544  18.505029  18.759092  436861600         1\n",
              "2  18.150808  18.501977  17.946521  18.438766  487975600         0\n",
              "3  18.547165  18.617399  18.276307  18.349901  565132400         0\n",
              "4  17.558705  17.889109  17.454271  17.868649  403936400         1"
            ]
          },
          "execution_count": 9,
          "metadata": {},
          "output_type": "execute_result"
        }
      ],
      "source": [
        "final.head()"
      ]
    },
    {
      "cell_type": "code",
      "execution_count": 10,
      "metadata": {
        "colab": {
          "base_uri": "https://localhost:8080/"
        },
        "id": "10moQZHlNhxN",
        "outputId": "1714c747-9380-4357-e3b3-9ce440b9e121"
      },
      "outputs": [
        {
          "ename": "KeyError",
          "evalue": "'Sentiment'",
          "output_type": "error",
          "traceback": [
            "\u001b[1;31m---------------------------------------------------------------------------\u001b[0m",
            "\u001b[1;31mKeyError\u001b[0m                                  Traceback (most recent call last)",
            "File \u001b[1;32mc:\\Users\\ANSHU\\anaconda3\\envs\\gaip-tf\\lib\\site-packages\\pandas\\core\\indexes\\base.py:3621\u001b[0m, in \u001b[0;36mIndex.get_loc\u001b[1;34m(self, key, method, tolerance)\u001b[0m\n\u001b[0;32m   3620\u001b[0m \u001b[39mtry\u001b[39;00m:\n\u001b[1;32m-> 3621\u001b[0m     \u001b[39mreturn\u001b[39;00m \u001b[39mself\u001b[39;49m\u001b[39m.\u001b[39;49m_engine\u001b[39m.\u001b[39;49mget_loc(casted_key)\n\u001b[0;32m   3622\u001b[0m \u001b[39mexcept\u001b[39;00m \u001b[39mKeyError\u001b[39;00m \u001b[39mas\u001b[39;00m err:\n",
            "File \u001b[1;32mc:\\Users\\ANSHU\\anaconda3\\envs\\gaip-tf\\lib\\site-packages\\pandas\\_libs\\index.pyx:136\u001b[0m, in \u001b[0;36mpandas._libs.index.IndexEngine.get_loc\u001b[1;34m()\u001b[0m\n",
            "File \u001b[1;32mc:\\Users\\ANSHU\\anaconda3\\envs\\gaip-tf\\lib\\site-packages\\pandas\\_libs\\index.pyx:163\u001b[0m, in \u001b[0;36mpandas._libs.index.IndexEngine.get_loc\u001b[1;34m()\u001b[0m\n",
            "File \u001b[1;32mpandas\\_libs\\hashtable_class_helper.pxi:5198\u001b[0m, in \u001b[0;36mpandas._libs.hashtable.PyObjectHashTable.get_item\u001b[1;34m()\u001b[0m\n",
            "File \u001b[1;32mpandas\\_libs\\hashtable_class_helper.pxi:5206\u001b[0m, in \u001b[0;36mpandas._libs.hashtable.PyObjectHashTable.get_item\u001b[1;34m()\u001b[0m\n",
            "\u001b[1;31mKeyError\u001b[0m: 'Sentiment'",
            "\nThe above exception was the direct cause of the following exception:\n",
            "\u001b[1;31mKeyError\u001b[0m                                  Traceback (most recent call last)",
            "\u001b[1;32mc:\\Users\\ANSHU\\Desktop\\Stock-Market-Movement-Predictor\\ML_models_without_sentiment.ipynb Cell 10'\u001b[0m in \u001b[0;36m<cell line: 1>\u001b[1;34m()\u001b[0m\n\u001b[1;32m----> <a href='vscode-notebook-cell:/c%3A/Users/ANSHU/Desktop/Stock-Market-Movement-Predictor/ML_models_without_sentiment.ipynb#ch0000009?line=0'>1</a>\u001b[0m final[\u001b[39m'\u001b[39;49m\u001b[39mSentiment\u001b[39;49m\u001b[39m'\u001b[39;49m]\u001b[39m.\u001b[39mvalue_counts()\n",
            "File \u001b[1;32mc:\\Users\\ANSHU\\anaconda3\\envs\\gaip-tf\\lib\\site-packages\\pandas\\core\\frame.py:3505\u001b[0m, in \u001b[0;36mDataFrame.__getitem__\u001b[1;34m(self, key)\u001b[0m\n\u001b[0;32m   3503\u001b[0m \u001b[39mif\u001b[39;00m \u001b[39mself\u001b[39m\u001b[39m.\u001b[39mcolumns\u001b[39m.\u001b[39mnlevels \u001b[39m>\u001b[39m \u001b[39m1\u001b[39m:\n\u001b[0;32m   3504\u001b[0m     \u001b[39mreturn\u001b[39;00m \u001b[39mself\u001b[39m\u001b[39m.\u001b[39m_getitem_multilevel(key)\n\u001b[1;32m-> 3505\u001b[0m indexer \u001b[39m=\u001b[39m \u001b[39mself\u001b[39;49m\u001b[39m.\u001b[39;49mcolumns\u001b[39m.\u001b[39;49mget_loc(key)\n\u001b[0;32m   3506\u001b[0m \u001b[39mif\u001b[39;00m is_integer(indexer):\n\u001b[0;32m   3507\u001b[0m     indexer \u001b[39m=\u001b[39m [indexer]\n",
            "File \u001b[1;32mc:\\Users\\ANSHU\\anaconda3\\envs\\gaip-tf\\lib\\site-packages\\pandas\\core\\indexes\\base.py:3623\u001b[0m, in \u001b[0;36mIndex.get_loc\u001b[1;34m(self, key, method, tolerance)\u001b[0m\n\u001b[0;32m   3621\u001b[0m     \u001b[39mreturn\u001b[39;00m \u001b[39mself\u001b[39m\u001b[39m.\u001b[39m_engine\u001b[39m.\u001b[39mget_loc(casted_key)\n\u001b[0;32m   3622\u001b[0m \u001b[39mexcept\u001b[39;00m \u001b[39mKeyError\u001b[39;00m \u001b[39mas\u001b[39;00m err:\n\u001b[1;32m-> 3623\u001b[0m     \u001b[39mraise\u001b[39;00m \u001b[39mKeyError\u001b[39;00m(key) \u001b[39mfrom\u001b[39;00m \u001b[39merr\u001b[39;00m\n\u001b[0;32m   3624\u001b[0m \u001b[39mexcept\u001b[39;00m \u001b[39mTypeError\u001b[39;00m:\n\u001b[0;32m   3625\u001b[0m     \u001b[39m# If we have a listlike key, _check_indexing_error will raise\u001b[39;00m\n\u001b[0;32m   3626\u001b[0m     \u001b[39m#  InvalidIndexError. Otherwise we fall through and re-raise\u001b[39;00m\n\u001b[0;32m   3627\u001b[0m     \u001b[39m#  the TypeError.\u001b[39;00m\n\u001b[0;32m   3628\u001b[0m     \u001b[39mself\u001b[39m\u001b[39m.\u001b[39m_check_indexing_error(key)\n",
            "\u001b[1;31mKeyError\u001b[0m: 'Sentiment'"
          ]
        }
      ],
      "source": [
        "final['Sentiment'].value_counts()"
      ]
    },
    {
      "cell_type": "code",
      "execution_count": null,
      "metadata": {
        "colab": {
          "base_uri": "https://localhost:8080/"
        },
        "id": "1M0L4228NqfX",
        "outputId": "2a5aeced-9416-41b1-97e5-f0ac918cb0e6"
      },
      "outputs": [
        {
          "name": "stdout",
          "output_type": "stream",
          "text": [
            "<class 'pandas.core.frame.DataFrame'>\n",
            "Int64Index: 1991 entries, 0 to 1990\n",
            "Data columns (total 7 columns):\n",
            " #   Column     Non-Null Count  Dtype  \n",
            "---  ------     --------------  -----  \n",
            " 0   Open       1991 non-null   float64\n",
            " 1   High       1991 non-null   float64\n",
            " 2   Low        1991 non-null   float64\n",
            " 3   Close      1991 non-null   float64\n",
            " 4   Volume     1991 non-null   int64  \n",
            " 5   Movement   1991 non-null   int64  \n",
            " 6   Sentiment  1991 non-null   float64\n",
            "dtypes: float64(5), int64(2)\n",
            "memory usage: 124.4 KB\n"
          ]
        }
      ],
      "source": [
        "final.info()"
      ]
    },
    {
      "cell_type": "code",
      "execution_count": null,
      "metadata": {
        "colab": {
          "base_uri": "https://localhost:8080/",
          "height": 269
        },
        "id": "VRqOg4QLN8Xu",
        "outputId": "d1018a71-301e-4c4d-9ae0-a039fcaaa646"
      },
      "outputs": [
        {
          "data": {
            "text/html": [
              "<div>\n",
              "<style scoped>\n",
              "    .dataframe tbody tr th:only-of-type {\n",
              "        vertical-align: middle;\n",
              "    }\n",
              "\n",
              "    .dataframe tbody tr th {\n",
              "        vertical-align: top;\n",
              "    }\n",
              "\n",
              "    .dataframe thead th {\n",
              "        text-align: right;\n",
              "    }\n",
              "</style>\n",
              "<table border=\"1\" class=\"dataframe\">\n",
              "  <thead>\n",
              "    <tr style=\"text-align: right;\">\n",
              "      <th></th>\n",
              "      <th>Open</th>\n",
              "      <th>High</th>\n",
              "      <th>Low</th>\n",
              "      <th>Close</th>\n",
              "      <th>Volume</th>\n",
              "      <th>Movement</th>\n",
              "      <th>Sentiment</th>\n",
              "    </tr>\n",
              "  </thead>\n",
              "  <tbody>\n",
              "    <tr>\n",
              "      <th>Open</th>\n",
              "      <td>1.000000</td>\n",
              "      <td>0.999912</td>\n",
              "      <td>0.999892</td>\n",
              "      <td>0.999749</td>\n",
              "      <td>-0.390073</td>\n",
              "      <td>-0.005057</td>\n",
              "      <td>-0.049931</td>\n",
              "    </tr>\n",
              "    <tr>\n",
              "      <th>High</th>\n",
              "      <td>0.999912</td>\n",
              "      <td>1.000000</td>\n",
              "      <td>0.999875</td>\n",
              "      <td>0.999879</td>\n",
              "      <td>-0.388443</td>\n",
              "      <td>-0.001179</td>\n",
              "      <td>-0.050084</td>\n",
              "    </tr>\n",
              "    <tr>\n",
              "      <th>Low</th>\n",
              "      <td>0.999892</td>\n",
              "      <td>0.999875</td>\n",
              "      <td>1.000000</td>\n",
              "      <td>0.999890</td>\n",
              "      <td>-0.392467</td>\n",
              "      <td>0.000166</td>\n",
              "      <td>-0.049125</td>\n",
              "    </tr>\n",
              "    <tr>\n",
              "      <th>Close</th>\n",
              "      <td>0.999749</td>\n",
              "      <td>0.999879</td>\n",
              "      <td>0.999890</td>\n",
              "      <td>1.000000</td>\n",
              "      <td>-0.390661</td>\n",
              "      <td>0.004701</td>\n",
              "      <td>-0.048916</td>\n",
              "    </tr>\n",
              "    <tr>\n",
              "      <th>Volume</th>\n",
              "      <td>-0.390073</td>\n",
              "      <td>-0.388443</td>\n",
              "      <td>-0.392467</td>\n",
              "      <td>-0.390661</td>\n",
              "      <td>1.000000</td>\n",
              "      <td>-0.065470</td>\n",
              "      <td>-0.067169</td>\n",
              "    </tr>\n",
              "    <tr>\n",
              "      <th>Movement</th>\n",
              "      <td>-0.005057</td>\n",
              "      <td>-0.001179</td>\n",
              "      <td>0.000166</td>\n",
              "      <td>0.004701</td>\n",
              "      <td>-0.065470</td>\n",
              "      <td>1.000000</td>\n",
              "      <td>0.050534</td>\n",
              "    </tr>\n",
              "    <tr>\n",
              "      <th>Sentiment</th>\n",
              "      <td>-0.049931</td>\n",
              "      <td>-0.050084</td>\n",
              "      <td>-0.049125</td>\n",
              "      <td>-0.048916</td>\n",
              "      <td>-0.067169</td>\n",
              "      <td>0.050534</td>\n",
              "      <td>1.000000</td>\n",
              "    </tr>\n",
              "  </tbody>\n",
              "</table>\n",
              "</div>"
            ],
            "text/plain": [
              "               Open      High       Low     Close    Volume  Movement  \\\n",
              "Open       1.000000  0.999912  0.999892  0.999749 -0.390073 -0.005057   \n",
              "High       0.999912  1.000000  0.999875  0.999879 -0.388443 -0.001179   \n",
              "Low        0.999892  0.999875  1.000000  0.999890 -0.392467  0.000166   \n",
              "Close      0.999749  0.999879  0.999890  1.000000 -0.390661  0.004701   \n",
              "Volume    -0.390073 -0.388443 -0.392467 -0.390661  1.000000 -0.065470   \n",
              "Movement  -0.005057 -0.001179  0.000166  0.004701 -0.065470  1.000000   \n",
              "Sentiment -0.049931 -0.050084 -0.049125 -0.048916 -0.067169  0.050534   \n",
              "\n",
              "           Sentiment  \n",
              "Open       -0.049931  \n",
              "High       -0.050084  \n",
              "Low        -0.049125  \n",
              "Close      -0.048916  \n",
              "Volume     -0.067169  \n",
              "Movement    0.050534  \n",
              "Sentiment   1.000000  "
            ]
          },
          "execution_count": 34,
          "metadata": {},
          "output_type": "execute_result"
        }
      ],
      "source": [
        "final.corr(method='pearson')"
      ]
    },
    {
      "cell_type": "code",
      "execution_count": 12,
      "metadata": {
        "colab": {
          "base_uri": "https://localhost:8080/",
          "height": 329
        },
        "id": "txD2NK01N_tK",
        "outputId": "91bc61b4-7dec-45f6-cac0-9fba7962d4fe"
      },
      "outputs": [
        {
          "data": {
            "text/plain": [
              "<AxesSubplot:>"
            ]
          },
          "execution_count": 12,
          "metadata": {},
          "output_type": "execute_result"
        },
        {
          "data": {
            "image/png": "[encoded data removed]",
            "text/plain": [
              "<Figure size 432x288 with 2 Axes>"
            ]
          },
          "metadata": {
            "needs_background": "light"
          },
          "output_type": "display_data"
        }
      ],
      "source": [
        "import seaborn as sns\n",
        "sns.heatmap(final.corr(), linewidth=0.5, annot=True)"
      ]
    },
    {
      "cell_type": "code",
      "execution_count": 13,
      "metadata": {
        "colab": {
          "base_uri": "https://localhost:8080/",
          "height": 424
        },
        "id": "EZJa0prEzth9",
        "outputId": "0a6bc775-6cb0-48ea-8b60-ef75aafeac03"
      },
      "outputs": [
        {
          "data": {
            "text/html": [
              "<div>\n",
              "<style scoped>\n",
              "    .dataframe tbody tr th:only-of-type {\n",
              "        vertical-align: middle;\n",
              "    }\n",
              "\n",
              "    .dataframe tbody tr th {\n",
              "        vertical-align: top;\n",
              "    }\n",
              "\n",
              "    .dataframe thead th {\n",
              "        text-align: right;\n",
              "    }\n",
              "</style>\n",
              "<table border=\"1\" class=\"dataframe\">\n",
              "  <thead>\n",
              "    <tr style=\"text-align: right;\">\n",
              "      <th></th>\n",
              "      <th>Open</th>\n",
              "      <th>High</th>\n",
              "      <th>Low</th>\n",
              "      <th>Close</th>\n",
              "      <th>Volume</th>\n",
              "      <th>Movement</th>\n",
              "      <th>Close next data</th>\n",
              "    </tr>\n",
              "  </thead>\n",
              "  <tbody>\n",
              "    <tr>\n",
              "      <th>0</th>\n",
              "      <td>18.478158</td>\n",
              "      <td>18.676643</td>\n",
              "      <td>18.475103</td>\n",
              "      <td>18.532818</td>\n",
              "      <td>301260400</td>\n",
              "      <td>1</td>\n",
              "      <td>18.759092</td>\n",
              "    </tr>\n",
              "    <tr>\n",
              "      <th>1</th>\n",
              "      <td>18.666261</td>\n",
              "      <td>18.790544</td>\n",
              "      <td>18.505029</td>\n",
              "      <td>18.759092</td>\n",
              "      <td>436861600</td>\n",
              "      <td>1</td>\n",
              "      <td>18.438766</td>\n",
              "    </tr>\n",
              "    <tr>\n",
              "      <th>2</th>\n",
              "      <td>18.150808</td>\n",
              "      <td>18.501977</td>\n",
              "      <td>17.946521</td>\n",
              "      <td>18.438766</td>\n",
              "      <td>487975600</td>\n",
              "      <td>0</td>\n",
              "      <td>18.349901</td>\n",
              "    </tr>\n",
              "    <tr>\n",
              "      <th>3</th>\n",
              "      <td>18.547165</td>\n",
              "      <td>18.617399</td>\n",
              "      <td>18.276307</td>\n",
              "      <td>18.349901</td>\n",
              "      <td>565132400</td>\n",
              "      <td>0</td>\n",
              "      <td>17.868649</td>\n",
              "    </tr>\n",
              "    <tr>\n",
              "      <th>4</th>\n",
              "      <td>17.558705</td>\n",
              "      <td>17.889109</td>\n",
              "      <td>17.454271</td>\n",
              "      <td>17.868649</td>\n",
              "      <td>403936400</td>\n",
              "      <td>1</td>\n",
              "      <td>18.170046</td>\n",
              "    </tr>\n",
              "    <tr>\n",
              "      <th>...</th>\n",
              "      <td>...</td>\n",
              "      <td>...</td>\n",
              "      <td>...</td>\n",
              "      <td>...</td>\n",
              "      <td>...</td>\n",
              "      <td>...</td>\n",
              "      <td>...</td>\n",
              "    </tr>\n",
              "    <tr>\n",
              "      <th>1986</th>\n",
              "      <td>134.289993</td>\n",
              "      <td>137.339996</td>\n",
              "      <td>132.160004</td>\n",
              "      <td>135.429993</td>\n",
              "      <td>91533000</td>\n",
              "      <td>1</td>\n",
              "      <td>130.059998</td>\n",
              "    </tr>\n",
              "    <tr>\n",
              "      <th>1987</th>\n",
              "      <td>132.080002</td>\n",
              "      <td>132.389999</td>\n",
              "      <td>129.039993</td>\n",
              "      <td>130.059998</td>\n",
              "      <td>108123900</td>\n",
              "      <td>0</td>\n",
              "      <td>131.559998</td>\n",
              "    </tr>\n",
              "    <tr>\n",
              "      <th>1988</th>\n",
              "      <td>130.070007</td>\n",
              "      <td>133.080002</td>\n",
              "      <td>129.809998</td>\n",
              "      <td>131.559998</td>\n",
              "      <td>134118500</td>\n",
              "      <td>1</td>\n",
              "      <td>135.869995</td>\n",
              "    </tr>\n",
              "    <tr>\n",
              "      <th>1989</th>\n",
              "      <td>133.419998</td>\n",
              "      <td>137.059998</td>\n",
              "      <td>133.320007</td>\n",
              "      <td>135.869995</td>\n",
              "      <td>81000500</td>\n",
              "      <td>1</td>\n",
              "      <td>135.350006</td>\n",
              "    </tr>\n",
              "    <tr>\n",
              "      <th>1990</th>\n",
              "      <td>134.789993</td>\n",
              "      <td>137.759995</td>\n",
              "      <td>133.910004</td>\n",
              "      <td>135.350006</td>\n",
              "      <td>73237900</td>\n",
              "      <td>0</td>\n",
              "      <td>NaN</td>\n",
              "    </tr>\n",
              "  </tbody>\n",
              "</table>\n",
              "<p>1991 rows × 7 columns</p>\n",
              "</div>"
            ],
            "text/plain": [
              "            Open        High         Low       Close     Volume  Movement  \\\n",
              "0      18.478158   18.676643   18.475103   18.532818  301260400         1   \n",
              "1      18.666261   18.790544   18.505029   18.759092  436861600         1   \n",
              "2      18.150808   18.501977   17.946521   18.438766  487975600         0   \n",
              "3      18.547165   18.617399   18.276307   18.349901  565132400         0   \n",
              "4      17.558705   17.889109   17.454271   17.868649  403936400         1   \n",
              "...          ...         ...         ...         ...        ...       ...   \n",
              "1986  134.289993  137.339996  132.160004  135.429993   91533000         1   \n",
              "1987  132.080002  132.389999  129.039993  130.059998  108123900         0   \n",
              "1988  130.070007  133.080002  129.809998  131.559998  134118500         1   \n",
              "1989  133.419998  137.059998  133.320007  135.869995   81000500         1   \n",
              "1990  134.789993  137.759995  133.910004  135.350006   73237900         0   \n",
              "\n",
              "      Close next data  \n",
              "0           18.759092  \n",
              "1           18.438766  \n",
              "2           18.349901  \n",
              "3           17.868649  \n",
              "4           18.170046  \n",
              "...               ...  \n",
              "1986       130.059998  \n",
              "1987       131.559998  \n",
              "1988       135.869995  \n",
              "1989       135.350006  \n",
              "1990              NaN  \n",
              "\n",
              "[1991 rows x 7 columns]"
            ]
          },
          "execution_count": 13,
          "metadata": {},
          "output_type": "execute_result"
        }
      ],
      "source": [
        "final['Close next data'] = final['Close'].shift(-1)\n",
        "final"
      ]
    },
    {
      "cell_type": "code",
      "execution_count": 14,
      "metadata": {
        "id": "HJeACvCnT3HY"
      },
      "outputs": [],
      "source": [
        "X = final.drop(['Movement', 'Close next data','High', 'Low'],axis=1)"
      ]
    },
    {
      "cell_type": "code",
      "execution_count": 15,
      "metadata": {
        "colab": {
          "base_uri": "https://localhost:8080/",
          "height": 424
        },
        "id": "qb53vJZRV8QJ",
        "outputId": "caee345c-8322-49ba-adc5-9046c4b37fb4"
      },
      "outputs": [
        {
          "data": {
            "text/html": [
              "<div>\n",
              "<style scoped>\n",
              "    .dataframe tbody tr th:only-of-type {\n",
              "        vertical-align: middle;\n",
              "    }\n",
              "\n",
              "    .dataframe tbody tr th {\n",
              "        vertical-align: top;\n",
              "    }\n",
              "\n",
              "    .dataframe thead th {\n",
              "        text-align: right;\n",
              "    }\n",
              "</style>\n",
              "<table border=\"1\" class=\"dataframe\">\n",
              "  <thead>\n",
              "    <tr style=\"text-align: right;\">\n",
              "      <th></th>\n",
              "      <th>Open</th>\n",
              "      <th>Close</th>\n",
              "      <th>Volume</th>\n",
              "    </tr>\n",
              "  </thead>\n",
              "  <tbody>\n",
              "    <tr>\n",
              "      <th>0</th>\n",
              "      <td>18.478158</td>\n",
              "      <td>18.532818</td>\n",
              "      <td>301260400</td>\n",
              "    </tr>\n",
              "    <tr>\n",
              "      <th>1</th>\n",
              "      <td>18.666261</td>\n",
              "      <td>18.759092</td>\n",
              "      <td>436861600</td>\n",
              "    </tr>\n",
              "    <tr>\n",
              "      <th>2</th>\n",
              "      <td>18.150808</td>\n",
              "      <td>18.438766</td>\n",
              "      <td>487975600</td>\n",
              "    </tr>\n",
              "    <tr>\n",
              "      <th>3</th>\n",
              "      <td>18.547165</td>\n",
              "      <td>18.349901</td>\n",
              "      <td>565132400</td>\n",
              "    </tr>\n",
              "    <tr>\n",
              "      <th>4</th>\n",
              "      <td>17.558705</td>\n",
              "      <td>17.868649</td>\n",
              "      <td>403936400</td>\n",
              "    </tr>\n",
              "    <tr>\n",
              "      <th>...</th>\n",
              "      <td>...</td>\n",
              "      <td>...</td>\n",
              "      <td>...</td>\n",
              "    </tr>\n",
              "    <tr>\n",
              "      <th>1985</th>\n",
              "      <td>133.130005</td>\n",
              "      <td>132.759995</td>\n",
              "      <td>84784300</td>\n",
              "    </tr>\n",
              "    <tr>\n",
              "      <th>1986</th>\n",
              "      <td>134.289993</td>\n",
              "      <td>135.429993</td>\n",
              "      <td>91533000</td>\n",
              "    </tr>\n",
              "    <tr>\n",
              "      <th>1987</th>\n",
              "      <td>132.080002</td>\n",
              "      <td>130.059998</td>\n",
              "      <td>108123900</td>\n",
              "    </tr>\n",
              "    <tr>\n",
              "      <th>1988</th>\n",
              "      <td>130.070007</td>\n",
              "      <td>131.559998</td>\n",
              "      <td>134118500</td>\n",
              "    </tr>\n",
              "    <tr>\n",
              "      <th>1989</th>\n",
              "      <td>133.419998</td>\n",
              "      <td>135.869995</td>\n",
              "      <td>81000500</td>\n",
              "    </tr>\n",
              "  </tbody>\n",
              "</table>\n",
              "<p>1990 rows × 3 columns</p>\n",
              "</div>"
            ],
            "text/plain": [
              "            Open       Close     Volume\n",
              "0      18.478158   18.532818  301260400\n",
              "1      18.666261   18.759092  436861600\n",
              "2      18.150808   18.438766  487975600\n",
              "3      18.547165   18.349901  565132400\n",
              "4      17.558705   17.868649  403936400\n",
              "...          ...         ...        ...\n",
              "1985  133.130005  132.759995   84784300\n",
              "1986  134.289993  135.429993   91533000\n",
              "1987  132.080002  130.059998  108123900\n",
              "1988  130.070007  131.559998  134118500\n",
              "1989  133.419998  135.869995   81000500\n",
              "\n",
              "[1990 rows x 3 columns]"
            ]
          },
          "execution_count": 15,
          "metadata": {},
          "output_type": "execute_result"
        }
      ],
      "source": [
        "X[:-1]"
      ]
    },
    {
      "cell_type": "code",
      "execution_count": 16,
      "metadata": {
        "id": "ik255ak2V_9X"
      },
      "outputs": [],
      "source": [
        "y = final['Movement'][:-1]"
      ]
    },
    {
      "cell_type": "code",
      "execution_count": 17,
      "metadata": {
        "colab": {
          "base_uri": "https://localhost:8080/"
        },
        "id": "BopDHTftWKkd",
        "outputId": "3cf31aae-78d4-4919-9783-bf84c783d8a8"
      },
      "outputs": [
        {
          "data": {
            "text/plain": [
              "0       1\n",
              "1       1\n",
              "2       0\n",
              "3       0\n",
              "4       1\n",
              "       ..\n",
              "1985    1\n",
              "1986    1\n",
              "1987    0\n",
              "1988    1\n",
              "1989    1\n",
              "Name: Movement, Length: 1990, dtype: int64"
            ]
          },
          "execution_count": 17,
          "metadata": {},
          "output_type": "execute_result"
        }
      ],
      "source": [
        "y"
      ]
    },
    {
      "cell_type": "markdown",
      "metadata": {
        "id": "3-V3N5FHSpgG"
      },
      "source": [
        "# Splitting into train and test"
      ]
    },
    {
      "cell_type": "code",
      "execution_count": 18,
      "metadata": {
        "id": "YVNOEORaSCj3"
      },
      "outputs": [],
      "source": [
        "import sklearn\n",
        "from sklearn.model_selection import train_test_split\n",
        "X_train, X_test, y_train, y_test = train_test_split(X[:-1], y, test_size=0.2, shuffle=False)"
      ]
    },
    {
      "cell_type": "code",
      "execution_count": 19,
      "metadata": {
        "id": "eXkAyikvztiD"
      },
      "outputs": [],
      "source": [
        "from sklearn.preprocessing import MinMaxScaler\n",
        "\n",
        "scaler_close, scaler_open, scaler_volume = MinMaxScaler(feature_range=(0,1)), MinMaxScaler(feature_range=(0,1)), MinMaxScaler(feature_range=(0,1))\n",
        "\n",
        "scaled_close_data = scaler_close.fit_transform(X_train.iloc[:, 0:1])\n",
        "scaled_open_data = scaler_open.fit_transform(X_train.iloc[:, 1:2])\n",
        "scaled_volume = scaler_volume.fit_transform(X_train.iloc[:, 2:3])\n",
        "\n",
        "X_train = np.concatenate([scaled_close_data, scaled_open_data, scaled_volume, X_train.iloc[:, 3:4]], axis=1)"
      ]
    },
    {
      "cell_type": "code",
      "execution_count": 20,
      "metadata": {
        "id": "jE8htTY5ztiE"
      },
      "outputs": [],
      "source": [
        "scaled_close_data_test = scaler_close.transform(X_test.iloc[:, 0:1])\n",
        "scaled_open_data_test = scaler_open.transform(X_test.iloc[:, 1:2])\n",
        "scaled_volume_test = scaler_volume.transform(X_test.iloc[:, 2:3])\n",
        "\n",
        "X_test = np.concatenate([scaled_close_data_test, scaled_open_data_test, scaled_volume_test, X_test.iloc[:, 3:4]], axis=1)"
      ]
    },
    {
      "cell_type": "code",
      "execution_count": 21,
      "metadata": {},
      "outputs": [],
      "source": [
        "import pickle\n",
        "scalerfile = 'scaler_close.sav'\n",
        "pickle.dump(scaler_close, open(scalerfile, 'wb'))\n",
        "\n",
        "scalerfile = 'scaler_open.sav'\n",
        "pickle.dump(scaler_open, open(scalerfile, 'wb'))\n",
        "\n",
        "scalerfile = 'scaler_volume.sav'\n",
        "pickle.dump(scaler_volume, open(scalerfile, 'wb'))\n"
      ]
    },
    {
      "cell_type": "code",
      "execution_count": 22,
      "metadata": {
        "colab": {
          "base_uri": "https://localhost:8080/"
        },
        "id": "NkIb-oHyztiF",
        "outputId": "a12298a8-421e-442b-9f07-4650d93d7b3f"
      },
      "outputs": [
        {
          "name": "stdout",
          "output_type": "stream",
          "text": [
            "(1592, 3)\n",
            "(398, 3)\n"
          ]
        }
      ],
      "source": [
        "print(X_train.shape)\n",
        "print(X_test.shape)"
      ]
    },
    {
      "cell_type": "code",
      "execution_count": 23,
      "metadata": {
        "colab": {
          "base_uri": "https://localhost:8080/"
        },
        "id": "2aTBqh_IztiF",
        "outputId": "b80b4dd9-eed0-48ed-ad57-54b4fd522ef8"
      },
      "outputs": [
        {
          "name": "stdout",
          "output_type": "stream",
          "text": [
            "(1592,)\n",
            "(398,)\n"
          ]
        }
      ],
      "source": [
        "print(y_train.shape)\n",
        "print(y_test.shape)"
      ]
    },
    {
      "cell_type": "markdown",
      "metadata": {
        "id": "LvwPx4L8ztiG"
      },
      "source": [
        "# Logistic Regression"
      ]
    },
    {
      "cell_type": "code",
      "execution_count": 24,
      "metadata": {
        "colab": {
          "base_uri": "https://localhost:8080/"
        },
        "id": "WuVDLxAWztiH",
        "outputId": "897f8d8c-2919-4b95-d998-fcb94bb3b00c"
      },
      "outputs": [
        {
          "name": "stdout",
          "output_type": "stream",
          "text": [
            "0.44974874371859297\n",
            "0.550251256281407\n",
            "0.550251256281407\n"
          ]
        }
      ],
      "source": [
        "from sklearn.linear_model import LogisticRegression\n",
        "from sklearn.metrics import mean_squared_error\n",
        "model = LogisticRegression()\n",
        "model.fit(X_train, y_train)\n",
        "pred = model.predict(X_test)\n",
        "print(mean_squared_error(pred,y_test))\n",
        "print(model.score(X_train,y_train))\n",
        "print(model.score(X_test,y_test))"
      ]
    },
    {
      "cell_type": "code",
      "execution_count": 25,
      "metadata": {
        "colab": {
          "base_uri": "https://localhost:8080/"
        },
        "id": "UkFtql20ztiJ",
        "outputId": "cef0b713-c9e5-46a7-e043-e34ca859e275"
      },
      "outputs": [
        {
          "data": {
            "text/plain": [
              "0.550251256281407"
            ]
          },
          "execution_count": 25,
          "metadata": {},
          "output_type": "execute_result"
        }
      ],
      "source": [
        "valid = pd.DataFrame({'actual': y_test, 'predicted': pred})\n",
        "from sklearn.metrics import accuracy_score\n",
        "accuracy_score(valid['actual'], valid['predicted'])"
      ]
    },
    {
      "cell_type": "markdown",
      "metadata": {
        "id": "SqH4ARvyQiD-"
      },
      "source": [
        "# Support Vector Machine"
      ]
    },
    {
      "cell_type": "code",
      "execution_count": 26,
      "metadata": {
        "colab": {
          "base_uri": "https://localhost:8080/"
        },
        "id": "BI6f6GgGQnhY",
        "outputId": "cd8cda36-b7db-4a0b-9a12-65a520ed3c64"
      },
      "outputs": [
        {
          "name": "stdout",
          "output_type": "stream",
          "text": [
            "0.5251256281407035\n",
            "0.5672110552763819\n",
            "0.5251256281407035\n"
          ]
        }
      ],
      "source": [
        "from sklearn import svm\n",
        "from sklearn import metrics\n",
        "from sklearn.metrics import accuracy_score\n",
        "model = svm.SVC() \n",
        "model.fit(X_train, y_train)\n",
        "pred = model.predict(X_test)\n",
        "print(metrics.accuracy_score(pred,y_test))\n",
        "print(model.score(X_train, y_train))\n",
        "print(model.score(X_test,y_test))"
      ]
    },
    {
      "cell_type": "code",
      "execution_count": 27,
      "metadata": {
        "colab": {
          "base_uri": "https://localhost:8080/"
        },
        "id": "8pNZdlVGztiK",
        "outputId": "bc8ead75-3b13-4ca3-a75d-c33c3cb761e0"
      },
      "outputs": [
        {
          "data": {
            "text/plain": [
              "0.5251256281407035"
            ]
          },
          "execution_count": 27,
          "metadata": {},
          "output_type": "execute_result"
        }
      ],
      "source": [
        "valid = pd.DataFrame({'actual': y_test, 'predicted': pred})\n",
        "from sklearn.metrics import accuracy_score\n",
        "accuracy_score(valid['actual'], valid['predicted'])"
      ]
    },
    {
      "cell_type": "markdown",
      "metadata": {
        "id": "nt6wp3Ao_0lD"
      },
      "source": [
        "# Decision tree"
      ]
    },
    {
      "cell_type": "code",
      "execution_count": 2,
      "metadata": {
        "colab": {
          "base_uri": "https://localhost:8080/"
        },
        "id": "P8546S60XGxs",
        "outputId": "39dc8a97-9638-4fb7-c309-40856fe7b5bd"
      },
      "outputs": [
        {
          "name": "stdout",
          "output_type": "stream",
          "text": [
            "49.28554534655\n",
            "1\n",
            "-0.7226366575858647\n"
          ]
        }
      ],
      "source": [
        "from sklearn.tree import DecisionTreeRegressor\n",
        "model = DecisionTreeRegressor()\n",
        "model.fit(X_train, y_train)\n",
        "pred = model.predict(X_test)\n",
        "print(metrics.accuracy_score(pred,y_test))\n",
        "print(model.score(X_train, y_train))\n",
        "print(model.score(X_test,y_test))"
      ]
    },
    {
      "cell_type": "code",
      "execution_count": 3,
      "metadata": {
        "colab": {
          "base_uri": "https://localhost:8080/"
        },
        "id": "VNZnUhZ4ztiN",
        "outputId": "1a95a199-aefd-4351-88cc-32d6734f5361"
      },
      "outputs": [
        {
          "name": "stdout",
          "output_type": "stream",
          "text": [
            "49.28554534655\n"
          ]
        }
      ],
      "source": [
        "valid = pd.DataFrame({'actual': y_test, 'predicted': pred})\n",
        "from sklearn.metrics import accuracy_score\n",
        "accuracy_score(valid['actual'], valid['predicted'])"
      ]
    },
    {
      "cell_type": "markdown",
      "metadata": {
        "id": "FEc0008r_4as"
      },
      "source": [
        "# Random forest"
      ]
    },
    {
      "cell_type": "code",
      "execution_count": 30,
      "metadata": {
        "colab": {
          "base_uri": "https://localhost:8080/"
        },
        "id": "4193_mqs_vFW",
        "outputId": "b3561eee-ac6a-4a35-864c-5458e7433bd2"
      },
      "outputs": [
        {
          "name": "stdout",
          "output_type": "stream",
          "text": [
            "0.5653266331658291\n",
            "0.8921704031956851\n",
            "-0.049154629936094985\n"
          ]
        }
      ],
      "source": [
        "from sklearn.ensemble import RandomForestRegressor\n",
        "model = RandomForestRegressor()\n",
        "model.fit(X_train, y_train)\n",
        "pred = model.predict(X_test)\n",
        "print(metrics.accuracy_score(pred.round(),y_test))\n",
        "print(model.score(X_train, y_train))\n",
        "print(model.score(X_test,y_test))"
      ]
    },
    {
      "cell_type": "code",
      "execution_count": 31,
      "metadata": {
        "colab": {
          "base_uri": "https://localhost:8080/"
        },
        "id": "wWmQS0j_ztiQ",
        "outputId": "5af88e90-4ee9-4c95-c2a2-dfde3ad906d9"
      },
      "outputs": [
        {
          "data": {
            "text/plain": [
              "0.5603015075376885"
            ]
          },
          "execution_count": 31,
          "metadata": {},
          "output_type": "execute_result"
        }
      ],
      "source": [
        "valid = pd.DataFrame({'actual': y_test, 'predicted': pred})\n",
        "label = lambda x: 1 if x>=0.5 else 0\n",
        "valid['predicted'] = valid.predicted.apply(label)\n",
        "from sklearn.metrics import accuracy_score\n",
        "accuracy_score(valid['actual'], valid['predicted'])"
      ]
    },
    {
      "cell_type": "markdown",
      "metadata": {
        "id": "1U-P-A9w1hyU"
      },
      "source": [
        "# Dense"
      ]
    },
    {
      "cell_type": "code",
      "execution_count": 32,
      "metadata": {
        "id": "ga1g1eiF1kN_"
      },
      "outputs": [],
      "source": [
        "import tensorflow as tf\n",
        "\n",
        "from tensorflow.keras import layers\n",
        "from tensorflow.keras import models\n",
        "\n",
        "from tensorflow.keras.models import Sequential\n",
        "from tensorflow.keras.layers import Dense\n",
        "from tensorflow.keras.layers import Dropout\n",
        "from tensorflow.keras.layers import LSTM"
      ]
    },
    {
      "cell_type": "code",
      "execution_count": 33,
      "metadata": {
        "id": "Xu_wc73Q4W-O"
      },
      "outputs": [],
      "source": [
        "model = Sequential()\n",
        "\n",
        "model.add(layers.InputLayer((3,)))\n",
        "model.add(Dense(128))\n",
        "model.add(Dropout(0.1))\n",
        "model.add(Dense(128, activation='relu'))\n",
        "model.add(Dropout(0.1))\n",
        "model.add(Dense(1, activation=\"sigmoid\"))"
      ]
    },
    {
      "cell_type": "code",
      "execution_count": 34,
      "metadata": {
        "colab": {
          "base_uri": "https://localhost:8080/"
        },
        "id": "2GEac_Xz4v0B",
        "outputId": "e3b321ef-7033-4476-8bdf-f3e676161894"
      },
      "outputs": [
        {
          "name": "stdout",
          "output_type": "stream",
          "text": [
            "Model: \"sequential\"\n",
            "_________________________________________________________________\n",
            "Layer (type)                 Output Shape              Param #   \n",
            "=================================================================\n",
            "dense (Dense)                (None, 128)               512       \n",
            "_________________________________________________________________\n",
            "dropout (Dropout)            (None, 128)               0         \n",
            "_________________________________________________________________\n",
            "dense_1 (Dense)              (None, 128)               16512     \n",
            "_________________________________________________________________\n",
            "dropout_1 (Dropout)          (None, 128)               0         \n",
            "_________________________________________________________________\n",
            "dense_2 (Dense)              (None, 1)                 129       \n",
            "=================================================================\n",
            "Total params: 17,153\n",
            "Trainable params: 17,153\n",
            "Non-trainable params: 0\n",
            "_________________________________________________________________\n"
          ]
        }
      ],
      "source": [
        "model.compile(loss='binary_crossentropy', optimizer='adam', metrics=['accuracy'])\n",
        "model.summary()"
      ]
    },
    {
      "cell_type": "code",
      "execution_count": 35,
      "metadata": {
        "colab": {
          "base_uri": "https://localhost:8080/"
        },
        "id": "fbruy6G94-xm",
        "outputId": "24806638-7cf6-4144-d67b-3619b9d3998c"
      },
      "outputs": [
        {
          "name": "stdout",
          "output_type": "stream",
          "text": [
            "Epoch 1/100\n",
            "25/25 [==============================] - 2s 17ms/step - loss: 0.6923 - accuracy: 0.5232 - val_loss: 0.6897 - val_accuracy: 0.6106\n",
            "Epoch 2/100\n",
            "25/25 [==============================] - 0s 8ms/step - loss: 0.6921 - accuracy: 0.5214 - val_loss: 0.7506 - val_accuracy: 0.5452\n",
            "Epoch 3/100\n",
            "25/25 [==============================] - 0s 8ms/step - loss: 0.6916 - accuracy: 0.5302 - val_loss: 0.6923 - val_accuracy: 0.4548\n",
            "Epoch 4/100\n",
            "25/25 [==============================] - 0s 7ms/step - loss: 0.6896 - accuracy: 0.5471 - val_loss: 0.7211 - val_accuracy: 0.5452\n",
            "Epoch 5/100\n",
            "25/25 [==============================] - 0s 7ms/step - loss: 0.6882 - accuracy: 0.5496 - val_loss: 0.6848 - val_accuracy: 0.5302\n",
            "Epoch 6/100\n",
            "25/25 [==============================] - 0s 7ms/step - loss: 0.6906 - accuracy: 0.5396 - val_loss: 0.7125 - val_accuracy: 0.4548\n",
            "Epoch 7/100\n",
            "25/25 [==============================] - 0s 6ms/step - loss: 0.6902 - accuracy: 0.5402 - val_loss: 0.7434 - val_accuracy: 0.5452\n",
            "Epoch 8/100\n",
            "25/25 [==============================] - 0s 7ms/step - loss: 0.6863 - accuracy: 0.5465 - val_loss: 0.7002 - val_accuracy: 0.4648\n",
            "Epoch 9/100\n",
            "25/25 [==============================] - 0s 7ms/step - loss: 0.6877 - accuracy: 0.5452 - val_loss: 0.6672 - val_accuracy: 0.5678\n",
            "Epoch 10/100\n",
            "25/25 [==============================] - 0s 7ms/step - loss: 0.6866 - accuracy: 0.5546 - val_loss: 0.6726 - val_accuracy: 0.5628\n",
            "Epoch 11/100\n",
            "25/25 [==============================] - 0s 7ms/step - loss: 0.6839 - accuracy: 0.5559 - val_loss: 0.6624 - val_accuracy: 0.5553\n",
            "Epoch 12/100\n",
            "25/25 [==============================] - 0s 7ms/step - loss: 0.6841 - accuracy: 0.5597 - val_loss: 0.6635 - val_accuracy: 0.5477\n",
            "Epoch 13/100\n",
            "25/25 [==============================] - 0s 8ms/step - loss: 0.6831 - accuracy: 0.5616 - val_loss: 0.6609 - val_accuracy: 0.5779\n",
            "Epoch 14/100\n",
            "25/25 [==============================] - 0s 7ms/step - loss: 0.6830 - accuracy: 0.5672 - val_loss: 0.8373 - val_accuracy: 0.4548\n",
            "Epoch 15/100\n",
            "25/25 [==============================] - 0s 6ms/step - loss: 0.6841 - accuracy: 0.5521 - val_loss: 0.7908 - val_accuracy: 0.4548\n",
            "Epoch 16/100\n",
            "25/25 [==============================] - 0s 6ms/step - loss: 0.6825 - accuracy: 0.5540 - val_loss: 0.6381 - val_accuracy: 0.7286\n",
            "Epoch 17/100\n",
            "25/25 [==============================] - 0s 6ms/step - loss: 0.6813 - accuracy: 0.5622 - val_loss: 0.7226 - val_accuracy: 0.4874\n",
            "Epoch 18/100\n",
            "25/25 [==============================] - 0s 6ms/step - loss: 0.6771 - accuracy: 0.5722 - val_loss: 0.6236 - val_accuracy: 0.7714\n",
            "Epoch 19/100\n",
            "25/25 [==============================] - 0s 6ms/step - loss: 0.6813 - accuracy: 0.5565 - val_loss: 0.6204 - val_accuracy: 0.7563\n",
            "Epoch 20/100\n",
            "25/25 [==============================] - 0s 6ms/step - loss: 0.6751 - accuracy: 0.5791 - val_loss: 0.6962 - val_accuracy: 0.4749\n",
            "Epoch 21/100\n",
            "25/25 [==============================] - 0s 6ms/step - loss: 0.6744 - accuracy: 0.5835 - val_loss: 0.6167 - val_accuracy: 0.7739\n",
            "Epoch 22/100\n",
            "25/25 [==============================] - 0s 6ms/step - loss: 0.6800 - accuracy: 0.5653 - val_loss: 0.7207 - val_accuracy: 0.4598\n",
            "Epoch 23/100\n",
            "25/25 [==============================] - 0s 6ms/step - loss: 0.6699 - accuracy: 0.5936 - val_loss: 0.5985 - val_accuracy: 0.6709\n",
            "Epoch 24/100\n",
            "25/25 [==============================] - 0s 6ms/step - loss: 0.6765 - accuracy: 0.5597 - val_loss: 0.5908 - val_accuracy: 0.7513\n",
            "Epoch 25/100\n",
            "25/25 [==============================] - 0s 6ms/step - loss: 0.6715 - accuracy: 0.5879 - val_loss: 0.6032 - val_accuracy: 0.6960\n",
            "Epoch 26/100\n",
            "25/25 [==============================] - 0s 6ms/step - loss: 0.6741 - accuracy: 0.5835 - val_loss: 0.6069 - val_accuracy: 0.6784\n",
            "Epoch 27/100\n",
            "25/25 [==============================] - 0s 6ms/step - loss: 0.6656 - accuracy: 0.6118 - val_loss: 0.6074 - val_accuracy: 0.6382\n",
            "Epoch 28/100\n",
            "25/25 [==============================] - 0s 6ms/step - loss: 0.6681 - accuracy: 0.5754 - val_loss: 0.5763 - val_accuracy: 0.7789\n",
            "Epoch 29/100\n",
            "25/25 [==============================] - 0s 6ms/step - loss: 0.6634 - accuracy: 0.6068 - val_loss: 0.6562 - val_accuracy: 0.4925\n",
            "Epoch 30/100\n",
            "25/25 [==============================] - 0s 6ms/step - loss: 0.6643 - accuracy: 0.5861 - val_loss: 0.7277 - val_accuracy: 0.5603\n",
            "Epoch 31/100\n",
            "25/25 [==============================] - 0s 6ms/step - loss: 0.6669 - accuracy: 0.5986 - val_loss: 0.5804 - val_accuracy: 0.6357\n",
            "Epoch 32/100\n",
            "25/25 [==============================] - 0s 6ms/step - loss: 0.6636 - accuracy: 0.6062 - val_loss: 0.5432 - val_accuracy: 0.7136\n",
            "Epoch 33/100\n",
            "25/25 [==============================] - 0s 6ms/step - loss: 0.6542 - accuracy: 0.6112 - val_loss: 0.5633 - val_accuracy: 0.6583\n",
            "Epoch 34/100\n",
            "25/25 [==============================] - 0s 7ms/step - loss: 0.6480 - accuracy: 0.6577 - val_loss: 0.5115 - val_accuracy: 0.8367\n",
            "Epoch 35/100\n",
            "25/25 [==============================] - 0s 7ms/step - loss: 0.6480 - accuracy: 0.6482 - val_loss: 0.5023 - val_accuracy: 0.8317\n",
            "Epoch 36/100\n",
            "25/25 [==============================] - 0s 6ms/step - loss: 0.6528 - accuracy: 0.6062 - val_loss: 0.5495 - val_accuracy: 0.6658\n",
            "Epoch 37/100\n",
            "25/25 [==============================] - 0s 6ms/step - loss: 0.6388 - accuracy: 0.6476 - val_loss: 0.6460 - val_accuracy: 0.6156\n",
            "Epoch 38/100\n",
            "25/25 [==============================] - 0s 6ms/step - loss: 0.6389 - accuracy: 0.6646 - val_loss: 0.5146 - val_accuracy: 0.7111\n",
            "Epoch 39/100\n",
            "25/25 [==============================] - 0s 6ms/step - loss: 0.6373 - accuracy: 0.6470 - val_loss: 0.4634 - val_accuracy: 0.8593\n",
            "Epoch 40/100\n",
            "25/25 [==============================] - 0s 6ms/step - loss: 0.6438 - accuracy: 0.6137 - val_loss: 0.8733 - val_accuracy: 0.4874\n",
            "Epoch 41/100\n",
            "25/25 [==============================] - 0s 6ms/step - loss: 0.6289 - accuracy: 0.6552 - val_loss: 1.1227 - val_accuracy: 0.5653\n",
            "Epoch 42/100\n",
            "25/25 [==============================] - 0s 6ms/step - loss: 0.6532 - accuracy: 0.6093 - val_loss: 1.8070 - val_accuracy: 0.5452\n",
            "Epoch 43/100\n",
            "25/25 [==============================] - 0s 6ms/step - loss: 0.6320 - accuracy: 0.6583 - val_loss: 0.4513 - val_accuracy: 0.8593\n",
            "Epoch 44/100\n",
            "25/25 [==============================] - 0s 6ms/step - loss: 0.6195 - accuracy: 0.6884 - val_loss: 0.4468 - val_accuracy: 0.8367\n",
            "Epoch 45/100\n",
            "25/25 [==============================] - 0s 7ms/step - loss: 0.6160 - accuracy: 0.6665 - val_loss: 0.4303 - val_accuracy: 0.8618\n",
            "Epoch 46/100\n",
            "25/25 [==============================] - 0s 7ms/step - loss: 0.6206 - accuracy: 0.6646 - val_loss: 0.7824 - val_accuracy: 0.6206\n",
            "Epoch 47/100\n",
            "25/25 [==============================] - 0s 7ms/step - loss: 0.6249 - accuracy: 0.6464 - val_loss: 0.4221 - val_accuracy: 0.8166\n",
            "Epoch 48/100\n",
            "25/25 [==============================] - 0s 6ms/step - loss: 0.6077 - accuracy: 0.6859 - val_loss: 0.4684 - val_accuracy: 0.7462\n",
            "Epoch 49/100\n",
            "25/25 [==============================] - 0s 6ms/step - loss: 0.6026 - accuracy: 0.6891 - val_loss: 0.4238 - val_accuracy: 0.8065\n",
            "Epoch 50/100\n",
            "25/25 [==============================] - 0s 6ms/step - loss: 0.5913 - accuracy: 0.7261 - val_loss: 0.4097 - val_accuracy: 0.8317\n",
            "Epoch 51/100\n",
            "25/25 [==============================] - 0s 7ms/step - loss: 0.6029 - accuracy: 0.6709 - val_loss: 0.4025 - val_accuracy: 0.8191\n",
            "Epoch 52/100\n",
            "25/25 [==============================] - 0s 6ms/step - loss: 0.5803 - accuracy: 0.7186 - val_loss: 0.4099 - val_accuracy: 0.8392\n",
            "Epoch 53/100\n",
            "25/25 [==============================] - 0s 6ms/step - loss: 0.5757 - accuracy: 0.7412 - val_loss: 0.4354 - val_accuracy: 0.8141\n",
            "Epoch 54/100\n",
            "25/25 [==============================] - 0s 6ms/step - loss: 0.5737 - accuracy: 0.7431 - val_loss: 0.8845 - val_accuracy: 0.6432\n",
            "Epoch 55/100\n",
            "25/25 [==============================] - 0s 6ms/step - loss: 0.5788 - accuracy: 0.6960 - val_loss: 0.7134 - val_accuracy: 0.6407\n",
            "Epoch 56/100\n",
            "25/25 [==============================] - 0s 6ms/step - loss: 0.5937 - accuracy: 0.6784 - val_loss: 0.4724 - val_accuracy: 0.7965\n",
            "Epoch 57/100\n",
            "25/25 [==============================] - 0s 7ms/step - loss: 0.5912 - accuracy: 0.6765 - val_loss: 0.6105 - val_accuracy: 0.6935\n",
            "Epoch 58/100\n",
            "25/25 [==============================] - 0s 7ms/step - loss: 0.5761 - accuracy: 0.6922 - val_loss: 0.3882 - val_accuracy: 0.8568\n",
            "Epoch 59/100\n",
            "25/25 [==============================] - 0s 7ms/step - loss: 0.5561 - accuracy: 0.7412 - val_loss: 0.3976 - val_accuracy: 0.8442\n",
            "Epoch 60/100\n",
            "25/25 [==============================] - 0s 6ms/step - loss: 0.5517 - accuracy: 0.7462 - val_loss: 0.3918 - val_accuracy: 0.8467\n",
            "Epoch 61/100\n",
            "25/25 [==============================] - 0s 7ms/step - loss: 0.5434 - accuracy: 0.7368 - val_loss: 0.3905 - val_accuracy: 0.8518\n",
            "Epoch 62/100\n",
            "25/25 [==============================] - 0s 7ms/step - loss: 0.5500 - accuracy: 0.7531 - val_loss: 0.8918 - val_accuracy: 0.6382\n",
            "Epoch 63/100\n",
            "25/25 [==============================] - 0s 6ms/step - loss: 0.5516 - accuracy: 0.7280 - val_loss: 0.4846 - val_accuracy: 0.7915\n",
            "Epoch 64/100\n",
            "25/25 [==============================] - 0s 6ms/step - loss: 0.5463 - accuracy: 0.7293 - val_loss: 0.4262 - val_accuracy: 0.8241\n",
            "Epoch 65/100\n",
            "25/25 [==============================] - 0s 6ms/step - loss: 0.5332 - accuracy: 0.7607 - val_loss: 0.4819 - val_accuracy: 0.8191\n",
            "Epoch 66/100\n",
            "25/25 [==============================] - 0s 7ms/step - loss: 0.5295 - accuracy: 0.7538 - val_loss: 0.4166 - val_accuracy: 0.8417\n",
            "Epoch 67/100\n",
            "25/25 [==============================] - 0s 7ms/step - loss: 0.5194 - accuracy: 0.7569 - val_loss: 0.4115 - val_accuracy: 0.8442\n",
            "Epoch 68/100\n",
            "25/25 [==============================] - 0s 6ms/step - loss: 0.5117 - accuracy: 0.7770 - val_loss: 0.5620 - val_accuracy: 0.7714\n",
            "Epoch 69/100\n",
            "25/25 [==============================] - 0s 6ms/step - loss: 0.5151 - accuracy: 0.7644 - val_loss: 0.4110 - val_accuracy: 0.8543\n",
            "Epoch 70/100\n",
            "25/25 [==============================] - 0s 6ms/step - loss: 0.5050 - accuracy: 0.7644 - val_loss: 0.4168 - val_accuracy: 0.8568\n",
            "Epoch 71/100\n",
            "25/25 [==============================] - 0s 7ms/step - loss: 0.5116 - accuracy: 0.7594 - val_loss: 0.4472 - val_accuracy: 0.8342\n",
            "Epoch 72/100\n",
            "25/25 [==============================] - 0s 7ms/step - loss: 0.5337 - accuracy: 0.7381 - val_loss: 0.4858 - val_accuracy: 0.8291\n",
            "Epoch 73/100\n",
            "25/25 [==============================] - 0s 7ms/step - loss: 0.5275 - accuracy: 0.7462 - val_loss: 0.5231 - val_accuracy: 0.8241\n",
            "Epoch 74/100\n",
            "25/25 [==============================] - 0s 7ms/step - loss: 0.5285 - accuracy: 0.7368 - val_loss: 0.7767 - val_accuracy: 0.7412\n",
            "Epoch 75/100\n",
            "25/25 [==============================] - 0s 7ms/step - loss: 0.4999 - accuracy: 0.7739 - val_loss: 0.4943 - val_accuracy: 0.8317\n",
            "Epoch 76/100\n",
            "25/25 [==============================] - 0s 8ms/step - loss: 0.4970 - accuracy: 0.7776 - val_loss: 0.4707 - val_accuracy: 0.8367\n",
            "Epoch 77/100\n",
            "25/25 [==============================] - 0s 8ms/step - loss: 0.4899 - accuracy: 0.7908 - val_loss: 0.6137 - val_accuracy: 0.7965\n",
            "Epoch 78/100\n",
            "25/25 [==============================] - 0s 8ms/step - loss: 0.4967 - accuracy: 0.7707 - val_loss: 0.4434 - val_accuracy: 0.8492\n",
            "Epoch 79/100\n",
            "25/25 [==============================] - 0s 8ms/step - loss: 0.4862 - accuracy: 0.7833 - val_loss: 0.4701 - val_accuracy: 0.8417\n",
            "Epoch 80/100\n",
            "25/25 [==============================] - 0s 7ms/step - loss: 0.4927 - accuracy: 0.7783 - val_loss: 0.4883 - val_accuracy: 0.8191\n",
            "Epoch 81/100\n",
            "25/25 [==============================] - 0s 8ms/step - loss: 0.4944 - accuracy: 0.7726 - val_loss: 0.4533 - val_accuracy: 0.8593\n",
            "Epoch 82/100\n",
            "25/25 [==============================] - 0s 7ms/step - loss: 0.4810 - accuracy: 0.7852 - val_loss: 0.4949 - val_accuracy: 0.8367\n",
            "Epoch 83/100\n",
            "25/25 [==============================] - 0s 7ms/step - loss: 0.4946 - accuracy: 0.7644 - val_loss: 0.6879 - val_accuracy: 0.7638\n",
            "Epoch 84/100\n",
            "25/25 [==============================] - 0s 7ms/step - loss: 0.5120 - accuracy: 0.7538 - val_loss: 0.5456 - val_accuracy: 0.8317\n",
            "Epoch 85/100\n",
            "25/25 [==============================] - 0s 8ms/step - loss: 0.4836 - accuracy: 0.7889 - val_loss: 0.5448 - val_accuracy: 0.8191\n",
            "Epoch 86/100\n",
            "25/25 [==============================] - 0s 6ms/step - loss: 0.5148 - accuracy: 0.7431 - val_loss: 0.7006 - val_accuracy: 0.7663\n",
            "Epoch 87/100\n",
            "25/25 [==============================] - 0s 7ms/step - loss: 0.4855 - accuracy: 0.7827 - val_loss: 0.4664 - val_accuracy: 0.8518\n",
            "Epoch 88/100\n",
            "25/25 [==============================] - 0s 6ms/step - loss: 0.4800 - accuracy: 0.7657 - val_loss: 0.4987 - val_accuracy: 0.8216\n",
            "Epoch 89/100\n",
            "25/25 [==============================] - 0s 7ms/step - loss: 0.4808 - accuracy: 0.7783 - val_loss: 0.8700 - val_accuracy: 0.7136\n",
            "Epoch 90/100\n",
            "25/25 [==============================] - 0s 7ms/step - loss: 0.5028 - accuracy: 0.7557 - val_loss: 0.8946 - val_accuracy: 0.7111\n",
            "Epoch 91/100\n",
            "25/25 [==============================] - 0s 8ms/step - loss: 0.4924 - accuracy: 0.7714 - val_loss: 0.5166 - val_accuracy: 0.8166\n",
            "Epoch 92/100\n",
            "25/25 [==============================] - 0s 7ms/step - loss: 0.5162 - accuracy: 0.7305 - val_loss: 0.4963 - val_accuracy: 0.8417\n",
            "Epoch 93/100\n",
            "25/25 [==============================] - 0s 7ms/step - loss: 0.4675 - accuracy: 0.7921 - val_loss: 0.4714 - val_accuracy: 0.8543\n",
            "Epoch 94/100\n",
            "25/25 [==============================] - 0s 7ms/step - loss: 0.4784 - accuracy: 0.7827 - val_loss: 0.4782 - val_accuracy: 0.8593\n",
            "Epoch 95/100\n",
            "25/25 [==============================] - 0s 8ms/step - loss: 0.4577 - accuracy: 0.8053 - val_loss: 0.5016 - val_accuracy: 0.8367\n",
            "Epoch 96/100\n",
            "25/25 [==============================] - 0s 7ms/step - loss: 0.4849 - accuracy: 0.7770 - val_loss: 0.5208 - val_accuracy: 0.8367\n",
            "Epoch 97/100\n",
            "25/25 [==============================] - 0s 7ms/step - loss: 0.4636 - accuracy: 0.7927 - val_loss: 0.5286 - val_accuracy: 0.8367\n",
            "Epoch 98/100\n",
            "25/25 [==============================] - 0s 7ms/step - loss: 0.4695 - accuracy: 0.7921 - val_loss: 0.5009 - val_accuracy: 0.8467\n",
            "Epoch 99/100\n",
            "25/25 [==============================] - 0s 7ms/step - loss: 0.4637 - accuracy: 0.7996 - val_loss: 0.4882 - val_accuracy: 0.8518\n",
            "Epoch 100/100\n",
            "25/25 [==============================] - 0s 7ms/step - loss: 0.4648 - accuracy: 0.7845 - val_loss: 0.5983 - val_accuracy: 0.8241\n"
          ]
        }
      ],
      "source": [
        "history = model.fit(X_train, y_train, batch_size=64, epochs=100, validation_data=(X_test, y_test))"
      ]
    },
    {
      "cell_type": "code",
      "execution_count": 36,
      "metadata": {
        "colab": {
          "base_uri": "https://localhost:8080/"
        },
        "id": "i5x684Di5hEu",
        "outputId": "c2d1fa16-0077-4d6e-f8a2-9fdd4e11c299"
      },
      "outputs": [
        {
          "data": {
            "text/plain": [
              "0.8241206030150754"
            ]
          },
          "execution_count": 36,
          "metadata": {},
          "output_type": "execute_result"
        }
      ],
      "source": [
        "from sklearn.metrics import accuracy_score\n",
        "\n",
        "temp = model.predict(X_test)\n",
        "for i in range(len(temp)):\n",
        "  if temp[i]>0.5:\n",
        "    temp[i] = 1\n",
        "  else:\n",
        "    temp[i] = 0\n",
        "  \n",
        "accuracy_score(y_test, temp)"
      ]
    },
    {
      "cell_type": "code",
      "execution_count": 37,
      "metadata": {
        "id": "IL4dyNqaCbP-"
      },
      "outputs": [],
      "source": [
        "import matplotlib.pyplot as plt\n",
        "%matplotlib inline"
      ]
    },
    {
      "cell_type": "code",
      "execution_count": 38,
      "metadata": {
        "colab": {
          "base_uri": "https://localhost:8080/",
          "height": 265
        },
        "id": "vjJR6YW-C0bY",
        "outputId": "db6e1da3-f02d-41ca-a735-707480e79921"
      },
      "outputs": [
        {
          "data": {
            "image/png": "[encoded data removed]",
            "text/plain": [
              "<Figure size 432x288 with 1 Axes>"
            ]
          },
          "metadata": {
            "needs_background": "light"
          },
          "output_type": "display_data"
        }
      ],
      "source": [
        "plt.plot(history.history['loss'], color='red', label=\"Training Loss\")\n",
        "plt.plot(history.history['val_loss'], color='blue', label=\"Testing Loss\")\n",
        "plt.legend()\n",
        "plt.show()"
      ]
    },
    {
      "cell_type": "code",
      "execution_count": 39,
      "metadata": {
        "colab": {
          "base_uri": "https://localhost:8080/",
          "height": 265
        },
        "id": "QOxGf9sZC7SP",
        "outputId": "c824d21c-5b93-42c6-e687-68b048c788b5"
      },
      "outputs": [
        {
          "data": {
            "image/png": "[encoded data removed]",
            "text/plain": [
              "<Figure size 432x288 with 1 Axes>"
            ]
          },
          "metadata": {
            "needs_background": "light"
          },
          "output_type": "display_data"
        }
      ],
      "source": [
        "plt.plot(history.history['accuracy'], color='red', label=\"Training Accuracy\")\n",
        "plt.plot(history.history['val_accuracy'], color='blue', label=\"Testing Accuracy\")\n",
        "plt.legend()\n",
        "plt.show()"
      ]
    },
    {
      "cell_type": "code",
      "execution_count": 40,
      "metadata": {
        "id": "uOpp1cv-Q_of"
      },
      "outputs": [],
      "source": [
        "model.save(\"dense.h5\")"
      ]
    },
    {
      "cell_type": "markdown",
      "metadata": {
        "id": "0twtHVhxTa3d"
      },
      "source": [
        "# LSTM"
      ]
    },
    {
      "cell_type": "code",
      "execution_count": 41,
      "metadata": {
        "id": "uIrxL3giagnq"
      },
      "outputs": [],
      "source": [
        "X_train =X_train.reshape(X_train.shape[0],X_train.shape[1])\n",
        "X_test = X_test.reshape(X_test.shape[0],X_test.shape[1])"
      ]
    },
    {
      "cell_type": "code",
      "execution_count": 42,
      "metadata": {
        "colab": {
          "base_uri": "https://localhost:8080/"
        },
        "id": "QSZ8TVN2eBoe",
        "outputId": "33b204be-f14e-4c0f-a000-8b7f5970015a"
      },
      "outputs": [
        {
          "data": {
            "text/plain": [
              "0"
            ]
          },
          "execution_count": 42,
          "metadata": {},
          "output_type": "execute_result"
        }
      ],
      "source": [
        "y_test.iloc[0]"
      ]
    },
    {
      "cell_type": "code",
      "execution_count": 43,
      "metadata": {
        "id": "p-7f5R4Bc9jd"
      },
      "outputs": [],
      "source": [
        "X_train_lstm = []\n",
        "y_train_lstm = []\n",
        "for i in range(1, 1592):\n",
        "    X_train_lstm.append(X_train[i-1:i, :])\n",
        "    y_train_lstm.append(y_train.iloc[i])\n",
        "\n",
        "X_train_lstm, y_train_lstm = np.array(X_train_lstm), np.array(y_train_lstm)\n",
        "X_train_lstm = np.reshape(X_train_lstm, (X_train_lstm.shape[0], X_train_lstm.shape[1], 3))"
      ]
    },
    {
      "cell_type": "code",
      "execution_count": 44,
      "metadata": {},
      "outputs": [
        {
          "data": {
            "text/plain": [
              "398"
            ]
          },
          "execution_count": 44,
          "metadata": {},
          "output_type": "execute_result"
        }
      ],
      "source": [
        "len(X_test)"
      ]
    },
    {
      "cell_type": "code",
      "execution_count": 45,
      "metadata": {},
      "outputs": [],
      "source": [
        "X_test_lstm = []\n",
        "y_test_lstm = []\n",
        "for i in range(1, 398):\n",
        "    X_test_lstm.append(X_test[i-1:i, :])\n",
        "    y_test_lstm.append(y_test.iloc[i])\n",
        "\n",
        "X_test_lstm, y_test_lstm = np.array(X_test_lstm), np.array(y_test_lstm)\n",
        "X_test_lstm = np.reshape(X_test_lstm, (X_test_lstm.shape[0], X_test_lstm.shape[1], 3))"
      ]
    },
    {
      "cell_type": "code",
      "execution_count": 46,
      "metadata": {
        "id": "rV19u7tRTe9L"
      },
      "outputs": [],
      "source": [
        "model_lstm=Sequential()\n",
        "model_lstm.add(LSTM(10,return_sequences=True,input_shape = (X_train_lstm.shape[1], 3)))\n",
        "model_lstm.add(LSTM(10))\n",
        "model_lstm.add(Dense(1, activation='sigmoid'))\n",
        "model_lstm.compile(loss='binary_crossentropy',optimizer='adam',metrics='accuracy')"
      ]
    },
    {
      "cell_type": "code",
      "execution_count": 47,
      "metadata": {
        "colab": {
          "base_uri": "https://localhost:8080/"
        },
        "id": "T2GjEkIicKGJ",
        "outputId": "2c84feae-09b1-4290-9099-4f932261ca52"
      },
      "outputs": [
        {
          "name": "stdout",
          "output_type": "stream",
          "text": [
            "Epoch 1/100\n",
            "50/50 [==============================] - 10s 39ms/step - loss: 0.6930 - accuracy: 0.5129 - val_loss: 0.6921 - val_accuracy: 0.5466\n",
            "Epoch 2/100\n",
            "50/50 [==============================] - 1s 13ms/step - loss: 0.6925 - accuracy: 0.5261 - val_loss: 0.6911 - val_accuracy: 0.5466\n",
            "Epoch 3/100\n",
            "50/50 [==============================] - 1s 11ms/step - loss: 0.6924 - accuracy: 0.5261 - val_loss: 0.6906 - val_accuracy: 0.5466\n",
            "Epoch 4/100\n",
            "50/50 [==============================] - 1s 10ms/step - loss: 0.6921 - accuracy: 0.5261 - val_loss: 0.6903 - val_accuracy: 0.5466\n",
            "Epoch 5/100\n",
            "50/50 [==============================] - 1s 10ms/step - loss: 0.6919 - accuracy: 0.5261 - val_loss: 0.6900 - val_accuracy: 0.5466\n",
            "Epoch 6/100\n",
            "50/50 [==============================] - 1s 10ms/step - loss: 0.6919 - accuracy: 0.5261 - val_loss: 0.6898 - val_accuracy: 0.5466\n",
            "Epoch 7/100\n",
            "50/50 [==============================] - 1s 10ms/step - loss: 0.6919 - accuracy: 0.5261 - val_loss: 0.6897 - val_accuracy: 0.5466\n",
            "Epoch 8/100\n",
            "50/50 [==============================] - 1s 10ms/step - loss: 0.6919 - accuracy: 0.5261 - val_loss: 0.6898 - val_accuracy: 0.5466\n",
            "Epoch 9/100\n",
            "50/50 [==============================] - 1s 11ms/step - loss: 0.6918 - accuracy: 0.5261 - val_loss: 0.6896 - val_accuracy: 0.5466\n",
            "Epoch 10/100\n",
            "50/50 [==============================] - 0s 10ms/step - loss: 0.6918 - accuracy: 0.5261 - val_loss: 0.6897 - val_accuracy: 0.5466\n",
            "Epoch 11/100\n",
            "50/50 [==============================] - 1s 10ms/step - loss: 0.6918 - accuracy: 0.5261 - val_loss: 0.6895 - val_accuracy: 0.5466\n",
            "Epoch 12/100\n",
            "50/50 [==============================] - 1s 10ms/step - loss: 0.6919 - accuracy: 0.5261 - val_loss: 0.6896 - val_accuracy: 0.5466\n",
            "Epoch 13/100\n",
            "50/50 [==============================] - 1s 10ms/step - loss: 0.6918 - accuracy: 0.5261 - val_loss: 0.6895 - val_accuracy: 0.5466\n",
            "Epoch 14/100\n",
            "50/50 [==============================] - 1s 10ms/step - loss: 0.6918 - accuracy: 0.5261 - val_loss: 0.6896 - val_accuracy: 0.5466\n",
            "Epoch 15/100\n",
            "50/50 [==============================] - 1s 10ms/step - loss: 0.6918 - accuracy: 0.5261 - val_loss: 0.6895 - val_accuracy: 0.5466\n",
            "Epoch 16/100\n",
            "50/50 [==============================] - 1s 10ms/step - loss: 0.6918 - accuracy: 0.5261 - val_loss: 0.6894 - val_accuracy: 0.5466\n",
            "Epoch 17/100\n",
            "50/50 [==============================] - 1s 11ms/step - loss: 0.6919 - accuracy: 0.5261 - val_loss: 0.6895 - val_accuracy: 0.5466\n",
            "Epoch 18/100\n",
            "50/50 [==============================] - 1s 11ms/step - loss: 0.6918 - accuracy: 0.5261 - val_loss: 0.6895 - val_accuracy: 0.5466\n",
            "Epoch 19/100\n",
            "50/50 [==============================] - 1s 11ms/step - loss: 0.6918 - accuracy: 0.5261 - val_loss: 0.6895 - val_accuracy: 0.5466\n",
            "Epoch 20/100\n",
            "50/50 [==============================] - 1s 10ms/step - loss: 0.6918 - accuracy: 0.5261 - val_loss: 0.6895 - val_accuracy: 0.5466\n",
            "Epoch 21/100\n",
            "50/50 [==============================] - 1s 12ms/step - loss: 0.6918 - accuracy: 0.5261 - val_loss: 0.6895 - val_accuracy: 0.5466\n",
            "Epoch 22/100\n",
            "50/50 [==============================] - 1s 11ms/step - loss: 0.6918 - accuracy: 0.5261 - val_loss: 0.6894 - val_accuracy: 0.5466\n",
            "Epoch 23/100\n",
            "50/50 [==============================] - 0s 10ms/step - loss: 0.6918 - accuracy: 0.5261 - val_loss: 0.6896 - val_accuracy: 0.5466\n",
            "Epoch 24/100\n",
            "50/50 [==============================] - 0s 10ms/step - loss: 0.6918 - accuracy: 0.5261 - val_loss: 0.6895 - val_accuracy: 0.5466\n",
            "Epoch 25/100\n",
            "50/50 [==============================] - 0s 10ms/step - loss: 0.6918 - accuracy: 0.5261 - val_loss: 0.6894 - val_accuracy: 0.5466\n",
            "Epoch 26/100\n",
            "50/50 [==============================] - 0s 10ms/step - loss: 0.6918 - accuracy: 0.5261 - val_loss: 0.6894 - val_accuracy: 0.5466\n",
            "Epoch 27/100\n",
            "50/50 [==============================] - 1s 11ms/step - loss: 0.6917 - accuracy: 0.5261 - val_loss: 0.6893 - val_accuracy: 0.5466\n",
            "Epoch 28/100\n",
            "50/50 [==============================] - 0s 9ms/step - loss: 0.6917 - accuracy: 0.5261 - val_loss: 0.6893 - val_accuracy: 0.5466\n",
            "Epoch 29/100\n",
            "50/50 [==============================] - 1s 11ms/step - loss: 0.6917 - accuracy: 0.5261 - val_loss: 0.6894 - val_accuracy: 0.5466\n",
            "Epoch 30/100\n",
            "50/50 [==============================] - 1s 11ms/step - loss: 0.6918 - accuracy: 0.5261 - val_loss: 0.6893 - val_accuracy: 0.5466\n",
            "Epoch 31/100\n",
            "50/50 [==============================] - 1s 11ms/step - loss: 0.6917 - accuracy: 0.5261 - val_loss: 0.6894 - val_accuracy: 0.5466\n",
            "Epoch 32/100\n",
            "50/50 [==============================] - 1s 11ms/step - loss: 0.6918 - accuracy: 0.5261 - val_loss: 0.6893 - val_accuracy: 0.5466\n",
            "Epoch 33/100\n",
            "50/50 [==============================] - 1s 11ms/step - loss: 0.6917 - accuracy: 0.5261 - val_loss: 0.6894 - val_accuracy: 0.5466\n",
            "Epoch 34/100\n",
            "50/50 [==============================] - 0s 10ms/step - loss: 0.6917 - accuracy: 0.5261 - val_loss: 0.6893 - val_accuracy: 0.5466\n",
            "Epoch 35/100\n",
            "50/50 [==============================] - 1s 10ms/step - loss: 0.6919 - accuracy: 0.5267 - val_loss: 0.6893 - val_accuracy: 0.5466\n",
            "Epoch 36/100\n",
            "50/50 [==============================] - 0s 10ms/step - loss: 0.6917 - accuracy: 0.5261 - val_loss: 0.6892 - val_accuracy: 0.5466\n",
            "Epoch 37/100\n",
            "50/50 [==============================] - 0s 10ms/step - loss: 0.6918 - accuracy: 0.5261 - val_loss: 0.6891 - val_accuracy: 0.5466\n",
            "Epoch 38/100\n",
            "50/50 [==============================] - 1s 10ms/step - loss: 0.6917 - accuracy: 0.5267 - val_loss: 0.6893 - val_accuracy: 0.5466\n",
            "Epoch 39/100\n",
            "50/50 [==============================] - 0s 10ms/step - loss: 0.6917 - accuracy: 0.5267 - val_loss: 0.6892 - val_accuracy: 0.5466\n",
            "Epoch 40/100\n",
            "50/50 [==============================] - 1s 12ms/step - loss: 0.6918 - accuracy: 0.5255 - val_loss: 0.6893 - val_accuracy: 0.5466\n",
            "Epoch 41/100\n",
            "50/50 [==============================] - 1s 10ms/step - loss: 0.6917 - accuracy: 0.5261 - val_loss: 0.6891 - val_accuracy: 0.5466\n",
            "Epoch 42/100\n",
            "50/50 [==============================] - 0s 10ms/step - loss: 0.6917 - accuracy: 0.5261 - val_loss: 0.6891 - val_accuracy: 0.5466\n",
            "Epoch 43/100\n",
            "50/50 [==============================] - 1s 13ms/step - loss: 0.6916 - accuracy: 0.5261 - val_loss: 0.6890 - val_accuracy: 0.5466\n",
            "Epoch 44/100\n",
            "50/50 [==============================] - 0s 10ms/step - loss: 0.6917 - accuracy: 0.5255 - val_loss: 0.6893 - val_accuracy: 0.5466\n",
            "Epoch 45/100\n",
            "50/50 [==============================] - 0s 10ms/step - loss: 0.6916 - accuracy: 0.5273 - val_loss: 0.6894 - val_accuracy: 0.5466\n",
            "Epoch 46/100\n",
            "50/50 [==============================] - 0s 10ms/step - loss: 0.6917 - accuracy: 0.5261 - val_loss: 0.6889 - val_accuracy: 0.5466\n",
            "Epoch 47/100\n",
            "50/50 [==============================] - 0s 10ms/step - loss: 0.6917 - accuracy: 0.5261 - val_loss: 0.6892 - val_accuracy: 0.5466\n",
            "Epoch 48/100\n",
            "50/50 [==============================] - 0s 10ms/step - loss: 0.6916 - accuracy: 0.5255 - val_loss: 0.6893 - val_accuracy: 0.5466\n",
            "Epoch 49/100\n",
            "50/50 [==============================] - 0s 10ms/step - loss: 0.6916 - accuracy: 0.5261 - val_loss: 0.6891 - val_accuracy: 0.5466\n",
            "Epoch 50/100\n",
            "50/50 [==============================] - 0s 10ms/step - loss: 0.6916 - accuracy: 0.5261 - val_loss: 0.6893 - val_accuracy: 0.5466\n",
            "Epoch 51/100\n",
            "50/50 [==============================] - 0s 10ms/step - loss: 0.6916 - accuracy: 0.5255 - val_loss: 0.6893 - val_accuracy: 0.5466\n",
            "Epoch 52/100\n",
            "50/50 [==============================] - 1s 10ms/step - loss: 0.6915 - accuracy: 0.5261 - val_loss: 0.6895 - val_accuracy: 0.5466\n",
            "Epoch 53/100\n",
            "50/50 [==============================] - 0s 10ms/step - loss: 0.6916 - accuracy: 0.5248 - val_loss: 0.6895 - val_accuracy: 0.5466\n",
            "Epoch 54/100\n",
            "50/50 [==============================] - 0s 10ms/step - loss: 0.6915 - accuracy: 0.5267 - val_loss: 0.6892 - val_accuracy: 0.5466\n",
            "Epoch 55/100\n",
            "50/50 [==============================] - 0s 10ms/step - loss: 0.6916 - accuracy: 0.5261 - val_loss: 0.6893 - val_accuracy: 0.5466\n",
            "Epoch 56/100\n",
            "50/50 [==============================] - 0s 10ms/step - loss: 0.6915 - accuracy: 0.5248 - val_loss: 0.6897 - val_accuracy: 0.5668\n",
            "Epoch 57/100\n",
            "50/50 [==============================] - 0s 10ms/step - loss: 0.6915 - accuracy: 0.5261 - val_loss: 0.6897 - val_accuracy: 0.5668\n",
            "Epoch 58/100\n",
            "50/50 [==============================] - 1s 11ms/step - loss: 0.6915 - accuracy: 0.5255 - val_loss: 0.6898 - val_accuracy: 0.5642\n",
            "Epoch 59/100\n",
            "50/50 [==============================] - 0s 10ms/step - loss: 0.6915 - accuracy: 0.5236 - val_loss: 0.6899 - val_accuracy: 0.5743\n",
            "Epoch 60/100\n",
            "50/50 [==============================] - 0s 10ms/step - loss: 0.6916 - accuracy: 0.5248 - val_loss: 0.6905 - val_accuracy: 0.5340\n",
            "Epoch 61/100\n",
            "50/50 [==============================] - 1s 10ms/step - loss: 0.6916 - accuracy: 0.5248 - val_loss: 0.6896 - val_accuracy: 0.5617\n",
            "Epoch 62/100\n",
            "50/50 [==============================] - 0s 10ms/step - loss: 0.6916 - accuracy: 0.5236 - val_loss: 0.6908 - val_accuracy: 0.5239\n",
            "Epoch 63/100\n",
            "50/50 [==============================] - 0s 10ms/step - loss: 0.6915 - accuracy: 0.5242 - val_loss: 0.6903 - val_accuracy: 0.5340\n",
            "Epoch 64/100\n",
            "50/50 [==============================] - 0s 10ms/step - loss: 0.6916 - accuracy: 0.5236 - val_loss: 0.6893 - val_accuracy: 0.5592\n",
            "Epoch 65/100\n",
            "50/50 [==============================] - 0s 10ms/step - loss: 0.6915 - accuracy: 0.5248 - val_loss: 0.6906 - val_accuracy: 0.5239\n",
            "Epoch 66/100\n",
            "50/50 [==============================] - 1s 11ms/step - loss: 0.6915 - accuracy: 0.5242 - val_loss: 0.6904 - val_accuracy: 0.5239\n",
            "Epoch 67/100\n",
            "50/50 [==============================] - 0s 10ms/step - loss: 0.6915 - accuracy: 0.5242 - val_loss: 0.6903 - val_accuracy: 0.5214\n",
            "Epoch 68/100\n",
            "50/50 [==============================] - 1s 10ms/step - loss: 0.6914 - accuracy: 0.5242 - val_loss: 0.6911 - val_accuracy: 0.5239\n",
            "Epoch 69/100\n",
            "50/50 [==============================] - 1s 10ms/step - loss: 0.6914 - accuracy: 0.5248 - val_loss: 0.6908 - val_accuracy: 0.5239\n",
            "Epoch 70/100\n",
            "50/50 [==============================] - 1s 11ms/step - loss: 0.6916 - accuracy: 0.5242 - val_loss: 0.6909 - val_accuracy: 0.5239\n",
            "Epoch 71/100\n",
            "50/50 [==============================] - 1s 12ms/step - loss: 0.6916 - accuracy: 0.5280 - val_loss: 0.6919 - val_accuracy: 0.5239\n",
            "Epoch 72/100\n",
            "50/50 [==============================] - 1s 13ms/step - loss: 0.6913 - accuracy: 0.5273 - val_loss: 0.6906 - val_accuracy: 0.5239\n",
            "Epoch 73/100\n",
            "50/50 [==============================] - 1s 12ms/step - loss: 0.6915 - accuracy: 0.5248 - val_loss: 0.6912 - val_accuracy: 0.5239\n",
            "Epoch 74/100\n",
            "50/50 [==============================] - 1s 12ms/step - loss: 0.6914 - accuracy: 0.5242 - val_loss: 0.6918 - val_accuracy: 0.5239\n",
            "Epoch 75/100\n",
            "50/50 [==============================] - 1s 12ms/step - loss: 0.6914 - accuracy: 0.5236 - val_loss: 0.6914 - val_accuracy: 0.5239\n",
            "Epoch 76/100\n",
            "50/50 [==============================] - 1s 13ms/step - loss: 0.6914 - accuracy: 0.5236 - val_loss: 0.6920 - val_accuracy: 0.5214\n",
            "Epoch 77/100\n",
            "50/50 [==============================] - 1s 11ms/step - loss: 0.6915 - accuracy: 0.5273 - val_loss: 0.6917 - val_accuracy: 0.5239\n",
            "Epoch 78/100\n",
            "50/50 [==============================] - 1s 10ms/step - loss: 0.6914 - accuracy: 0.5255 - val_loss: 0.6903 - val_accuracy: 0.5239\n",
            "Epoch 79/100\n",
            "50/50 [==============================] - 0s 10ms/step - loss: 0.6913 - accuracy: 0.5248 - val_loss: 0.6910 - val_accuracy: 0.5239\n",
            "Epoch 80/100\n",
            "50/50 [==============================] - 0s 10ms/step - loss: 0.6914 - accuracy: 0.5280 - val_loss: 0.6921 - val_accuracy: 0.5214\n",
            "Epoch 81/100\n",
            "50/50 [==============================] - 1s 10ms/step - loss: 0.6915 - accuracy: 0.5299 - val_loss: 0.6928 - val_accuracy: 0.5214\n",
            "Epoch 82/100\n",
            "50/50 [==============================] - 0s 10ms/step - loss: 0.6915 - accuracy: 0.5242 - val_loss: 0.6923 - val_accuracy: 0.5214\n",
            "Epoch 83/100\n",
            "50/50 [==============================] - 1s 11ms/step - loss: 0.6913 - accuracy: 0.5248 - val_loss: 0.6924 - val_accuracy: 0.5214\n",
            "Epoch 84/100\n",
            "50/50 [==============================] - 1s 10ms/step - loss: 0.6912 - accuracy: 0.5255 - val_loss: 0.6926 - val_accuracy: 0.5214\n",
            "Epoch 85/100\n",
            "50/50 [==============================] - 0s 9ms/step - loss: 0.6913 - accuracy: 0.5248 - val_loss: 0.6924 - val_accuracy: 0.5214\n",
            "Epoch 86/100\n",
            "50/50 [==============================] - 0s 10ms/step - loss: 0.6914 - accuracy: 0.5261 - val_loss: 0.6934 - val_accuracy: 0.5189\n",
            "Epoch 87/100\n",
            "50/50 [==============================] - 0s 10ms/step - loss: 0.6915 - accuracy: 0.5261 - val_loss: 0.6919 - val_accuracy: 0.5214\n",
            "Epoch 88/100\n",
            "50/50 [==============================] - 1s 10ms/step - loss: 0.6914 - accuracy: 0.5299 - val_loss: 0.6939 - val_accuracy: 0.5214\n",
            "Epoch 89/100\n",
            "50/50 [==============================] - 0s 10ms/step - loss: 0.6913 - accuracy: 0.5292 - val_loss: 0.6938 - val_accuracy: 0.5214\n",
            "Epoch 90/100\n",
            "50/50 [==============================] - 0s 10ms/step - loss: 0.6913 - accuracy: 0.5248 - val_loss: 0.6930 - val_accuracy: 0.5189\n",
            "Epoch 91/100\n",
            "50/50 [==============================] - 0s 10ms/step - loss: 0.6914 - accuracy: 0.5267 - val_loss: 0.6938 - val_accuracy: 0.5189\n",
            "Epoch 92/100\n",
            "50/50 [==============================] - 1s 11ms/step - loss: 0.6913 - accuracy: 0.5311 - val_loss: 0.6943 - val_accuracy: 0.5139\n",
            "Epoch 93/100\n",
            "50/50 [==============================] - 0s 10ms/step - loss: 0.6913 - accuracy: 0.5273 - val_loss: 0.6942 - val_accuracy: 0.5214\n",
            "Epoch 94/100\n",
            "50/50 [==============================] - 0s 10ms/step - loss: 0.6913 - accuracy: 0.5292 - val_loss: 0.6940 - val_accuracy: 0.5214\n",
            "Epoch 95/100\n",
            "50/50 [==============================] - 1s 10ms/step - loss: 0.6913 - accuracy: 0.5299 - val_loss: 0.6941 - val_accuracy: 0.5214\n",
            "Epoch 96/100\n",
            "50/50 [==============================] - 0s 10ms/step - loss: 0.6913 - accuracy: 0.5273 - val_loss: 0.6954 - val_accuracy: 0.5113\n",
            "Epoch 97/100\n",
            "50/50 [==============================] - 1s 10ms/step - loss: 0.6914 - accuracy: 0.5299 - val_loss: 0.6950 - val_accuracy: 0.5113\n",
            "Epoch 98/100\n",
            "50/50 [==============================] - 1s 10ms/step - loss: 0.6912 - accuracy: 0.5317 - val_loss: 0.6949 - val_accuracy: 0.5113\n",
            "Epoch 99/100\n",
            "50/50 [==============================] - 1s 10ms/step - loss: 0.6915 - accuracy: 0.5311 - val_loss: 0.6959 - val_accuracy: 0.4987\n",
            "Epoch 100/100\n",
            "50/50 [==============================] - 0s 10ms/step - loss: 0.6913 - accuracy: 0.5286 - val_loss: 0.6939 - val_accuracy: 0.5189\n"
          ]
        }
      ],
      "source": [
        "history_lstm = model_lstm.fit(X_train_lstm, y_train_lstm, epochs = 100, batch_size = 32, validation_data=(X_test_lstm, y_test_lstm))"
      ]
    },
    {
      "cell_type": "code",
      "execution_count": 48,
      "metadata": {
        "id": "WY6D9FH_ejrI"
      },
      "outputs": [
        {
          "data": {
            "image/png": "[encoded data removed]",
            "text/plain": [
              "<Figure size 432x288 with 1 Axes>"
            ]
          },
          "metadata": {
            "needs_background": "light"
          },
          "output_type": "display_data"
        }
      ],
      "source": [
        "plt.plot(history_lstm.history['loss'], color='red', label=\"Training Loss\")\n",
        "plt.plot(history_lstm.history['val_loss'], color='blue', label=\"Testing Loss\")\n",
        "plt.legend()\n",
        "plt.show()"
      ]
    },
    {
      "cell_type": "code",
      "execution_count": 49,
      "metadata": {},
      "outputs": [
        {
          "data": {
            "image/png": "[encoded data removed]",
            "text/plain": [
              "<Figure size 432x288 with 1 Axes>"
            ]
          },
          "metadata": {
            "needs_background": "light"
          },
          "output_type": "display_data"
        }
      ],
      "source": [
        "plt.plot(history_lstm.history['accuracy'], color='red', label=\"Training Accuracy\")\n",
        "plt.plot(history_lstm.history['val_accuracy'], color='blue', label=\"Testing Accuracy\")\n",
        "plt.legend()\n",
        "plt.show()"
      ]
    },
    {
      "cell_type": "code",
      "execution_count": null,
      "metadata": {},
      "outputs": [],
      "source": []
    }
  ],
  "metadata": {
    "colab": {
      "name": "ML_models.ipynb",
      "provenance": []
    },
    "kernelspec": {
      "display_name": "Python 3.9.12 ('gaip-tf')",
      "language": "python",
      "name": "python3"
    },
    "language_info": {
      "codemirror_mode": {
        "name": "ipython",
        "version": 3
      },
      "file_extension": ".py",
      "mimetype": "text/x-python",
      "name": "python",
      "nbconvert_exporter": "python",
      "pygments_lexer": "ipython3",
      "version": "3.9.12"
    },
    "vscode": {
      "interpreter": {
        "hash": "1b36a6aceba897fda56d7e90acf89496ac0a03fe03fb67196d25146dede7cb16"
      }
    }
  },
  "nbformat": 4,
  "nbformat_minor": 0
}
