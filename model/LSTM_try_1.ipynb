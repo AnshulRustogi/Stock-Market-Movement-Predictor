{
  "cells": [
    {
      "cell_type": "markdown",
      "metadata": {
        "id": "qn9GKr8G6iiM"
      },
      "source": [
        "# Importing Libraries"
      ]
    },
    {
      "cell_type": "code",
      "execution_count": 2,
      "metadata": {
        "id": "UCI0HiAn087_"
      },
      "outputs": [],
      "source": [
        "import pandas as pd\n",
        "import numpy as np\n",
        "import tensorflow.keras\n",
        "import matplotlib.pyplot as plt\n",
        "import seaborn as sns\n",
        "import math\n",
        "import tensorflow as tf\n",
        "\n",
        "\n",
        "from sklearn.metrics import mean_squared_error\n",
        "from sklearn.preprocessing import MinMaxScaler\n",
        "from sklearn.model_selection import train_test_split\n",
        "\n",
        "from tensorflow.keras import layers\n",
        "from tensorflow.keras import models\n",
        "\n",
        "from tensorflow.keras.models import Sequential\n",
        "from tensorflow.keras.layers import Dense\n",
        "from tensorflow.keras.layers import Dropout\n",
        "from tensorflow.keras.layers import LSTM"
      ]
    },
    {
      "cell_type": "code",
      "execution_count": null,
      "metadata": {
        "id": "ssWML4YK1r9e"
      },
      "outputs": [],
      "source": [
        "# stock_data = pd.read_csv(\"https://drive.google.com/file/d/1Ym4sWIkeZvHcYNX1frKXG5p22dPrFXBH/view?usp=sharing\")\n",
        "# news = pd.read_csv(\"https://drive.google.com/file/d/13LVBZX2M43PRYAd-JanMpgdH8CCAFrWI/view?usp=sharing\")"
      ]
    },
    {
      "cell_type": "markdown",
      "metadata": {
        "id": "3mhlH2zY6bH7"
      },
      "source": [
        "# Loading the Data"
      ]
    },
    {
      "cell_type": "code",
      "execution_count": 3,
      "metadata": {
        "id": "1R7jRhwm2uAE"
      },
      "outputs": [],
      "source": [
        "stock = pd.read_csv('../final_stock_data.csv')"
      ]
    },
    {
      "cell_type": "code",
      "execution_count": 4,
      "metadata": {
        "colab": {
          "base_uri": "https://localhost:8080/",
          "height": 206
        },
        "id": "NCSS8-9U2x3p",
        "outputId": "b8db5748-6c05-4fa1-94c8-9033bb8cb8b4"
      },
      "outputs": [
        {
          "data": {
            "text/html": [
              "<div>\n",
              "<style scoped>\n",
              "    .dataframe tbody tr th:only-of-type {\n",
              "        vertical-align: middle;\n",
              "    }\n",
              "\n",
              "    .dataframe tbody tr th {\n",
              "        vertical-align: top;\n",
              "    }\n",
              "\n",
              "    .dataframe thead th {\n",
              "        text-align: right;\n",
              "    }\n",
              "</style>\n",
              "<table border=\"1\" class=\"dataframe\">\n",
              "  <thead>\n",
              "    <tr style=\"text-align: right;\">\n",
              "      <th></th>\n",
              "      <th>Date</th>\n",
              "      <th>Open</th>\n",
              "      <th>High</th>\n",
              "      <th>Low</th>\n",
              "      <th>Close</th>\n",
              "      <th>Volume</th>\n",
              "      <th>Dividends</th>\n",
              "      <th>Stock Splits</th>\n",
              "      <th>Movement</th>\n",
              "    </tr>\n",
              "  </thead>\n",
              "  <tbody>\n",
              "    <tr>\n",
              "      <th>0</th>\n",
              "      <td>2012-07-16</td>\n",
              "      <td>18.478158</td>\n",
              "      <td>18.676643</td>\n",
              "      <td>18.475103</td>\n",
              "      <td>18.532818</td>\n",
              "      <td>301260400</td>\n",
              "      <td>0.0</td>\n",
              "      <td>0.0</td>\n",
              "      <td>1</td>\n",
              "    </tr>\n",
              "    <tr>\n",
              "      <th>1</th>\n",
              "      <td>2012-07-19</td>\n",
              "      <td>18.666261</td>\n",
              "      <td>18.790544</td>\n",
              "      <td>18.505029</td>\n",
              "      <td>18.759092</td>\n",
              "      <td>436861600</td>\n",
              "      <td>0.0</td>\n",
              "      <td>0.0</td>\n",
              "      <td>1</td>\n",
              "    </tr>\n",
              "    <tr>\n",
              "      <th>2</th>\n",
              "      <td>2012-07-23</td>\n",
              "      <td>18.150808</td>\n",
              "      <td>18.501977</td>\n",
              "      <td>17.946521</td>\n",
              "      <td>18.438766</td>\n",
              "      <td>487975600</td>\n",
              "      <td>0.0</td>\n",
              "      <td>0.0</td>\n",
              "      <td>0</td>\n",
              "    </tr>\n",
              "    <tr>\n",
              "      <th>3</th>\n",
              "      <td>2012-07-24</td>\n",
              "      <td>18.547165</td>\n",
              "      <td>18.617399</td>\n",
              "      <td>18.276307</td>\n",
              "      <td>18.349901</td>\n",
              "      <td>565132400</td>\n",
              "      <td>0.0</td>\n",
              "      <td>0.0</td>\n",
              "      <td>0</td>\n",
              "    </tr>\n",
              "    <tr>\n",
              "      <th>4</th>\n",
              "      <td>2012-07-27</td>\n",
              "      <td>17.558705</td>\n",
              "      <td>17.889109</td>\n",
              "      <td>17.454271</td>\n",
              "      <td>17.868649</td>\n",
              "      <td>403936400</td>\n",
              "      <td>0.0</td>\n",
              "      <td>0.0</td>\n",
              "      <td>1</td>\n",
              "    </tr>\n",
              "  </tbody>\n",
              "</table>\n",
              "</div>"
            ],
            "text/plain": [
              "         Date       Open       High        Low      Close     Volume  \\\n",
              "0  2012-07-16  18.478158  18.676643  18.475103  18.532818  301260400   \n",
              "1  2012-07-19  18.666261  18.790544  18.505029  18.759092  436861600   \n",
              "2  2012-07-23  18.150808  18.501977  17.946521  18.438766  487975600   \n",
              "3  2012-07-24  18.547165  18.617399  18.276307  18.349901  565132400   \n",
              "4  2012-07-27  17.558705  17.889109  17.454271  17.868649  403936400   \n",
              "\n",
              "   Dividends  Stock Splits  Movement  \n",
              "0        0.0           0.0         1  \n",
              "1        0.0           0.0         1  \n",
              "2        0.0           0.0         0  \n",
              "3        0.0           0.0         0  \n",
              "4        0.0           0.0         1  "
            ]
          },
          "execution_count": 4,
          "metadata": {},
          "output_type": "execute_result"
        }
      ],
      "source": [
        "stock.head()"
      ]
    },
    {
      "cell_type": "markdown",
      "metadata": {
        "id": "bcYQyhbP7Q2d"
      },
      "source": [
        "# Data Cleaning"
      ]
    },
    {
      "cell_type": "code",
      "execution_count": 5,
      "metadata": {
        "colab": {
          "base_uri": "https://localhost:8080/"
        },
        "id": "n1TFCD283Q6Q",
        "outputId": "705ee842-3334-4c8b-f294-e30a1ee78551"
      },
      "outputs": [
        {
          "data": {
            "text/plain": [
              "0.000000    1962\n",
              "0.130000       4\n",
              "0.142500       4\n",
              "0.157500       4\n",
              "0.182500       4\n",
              "0.117500       3\n",
              "0.192500       3\n",
              "0.220000       3\n",
              "0.108929       2\n",
              "0.094643       1\n",
              "0.230000       1\n",
              "Name: Dividends, dtype: int64"
            ]
          },
          "execution_count": 5,
          "metadata": {},
          "output_type": "execute_result"
        }
      ],
      "source": [
        "stock['Dividends'].value_counts()"
      ]
    },
    {
      "cell_type": "code",
      "execution_count": 6,
      "metadata": {
        "colab": {
          "base_uri": "https://localhost:8080/"
        },
        "id": "gbkYQpUg3WiZ",
        "outputId": "2afb550e-5ae1-4b5c-879c-edbf1000d68b"
      },
      "outputs": [
        {
          "data": {
            "text/plain": [
              "0.0    1990\n",
              "7.0       1\n",
              "Name: Stock Splits, dtype: int64"
            ]
          },
          "execution_count": 6,
          "metadata": {},
          "output_type": "execute_result"
        }
      ],
      "source": [
        "stock['Stock Splits'].value_counts()"
      ]
    },
    {
      "cell_type": "code",
      "execution_count": 7,
      "metadata": {
        "id": "V631gdQI23ud"
      },
      "outputs": [],
      "source": [
        "stock.drop(['Dividends','Stock Splits'], axis=1, inplace=True)"
      ]
    },
    {
      "cell_type": "code",
      "execution_count": 9,
      "metadata": {
        "colab": {
          "base_uri": "https://localhost:8080/",
          "height": 206
        },
        "id": "ZQ3gq2Wj3Mvg",
        "outputId": "ce60e921-cf3f-457a-bbd9-76a6be01431c"
      },
      "outputs": [
        {
          "data": {
            "text/html": [
              "<div>\n",
              "<style scoped>\n",
              "    .dataframe tbody tr th:only-of-type {\n",
              "        vertical-align: middle;\n",
              "    }\n",
              "\n",
              "    .dataframe tbody tr th {\n",
              "        vertical-align: top;\n",
              "    }\n",
              "\n",
              "    .dataframe thead th {\n",
              "        text-align: right;\n",
              "    }\n",
              "</style>\n",
              "<table border=\"1\" class=\"dataframe\">\n",
              "  <thead>\n",
              "    <tr style=\"text-align: right;\">\n",
              "      <th></th>\n",
              "      <th>Date</th>\n",
              "      <th>Open</th>\n",
              "      <th>High</th>\n",
              "      <th>Low</th>\n",
              "      <th>Close</th>\n",
              "      <th>Volume</th>\n",
              "      <th>Movement</th>\n",
              "    </tr>\n",
              "  </thead>\n",
              "  <tbody>\n",
              "    <tr>\n",
              "      <th>0</th>\n",
              "      <td>2012-07-16</td>\n",
              "      <td>18.478158</td>\n",
              "      <td>18.676643</td>\n",
              "      <td>18.475103</td>\n",
              "      <td>18.532818</td>\n",
              "      <td>301260400</td>\n",
              "      <td>1</td>\n",
              "    </tr>\n",
              "    <tr>\n",
              "      <th>1</th>\n",
              "      <td>2012-07-19</td>\n",
              "      <td>18.666261</td>\n",
              "      <td>18.790544</td>\n",
              "      <td>18.505029</td>\n",
              "      <td>18.759092</td>\n",
              "      <td>436861600</td>\n",
              "      <td>1</td>\n",
              "    </tr>\n",
              "    <tr>\n",
              "      <th>2</th>\n",
              "      <td>2012-07-23</td>\n",
              "      <td>18.150808</td>\n",
              "      <td>18.501977</td>\n",
              "      <td>17.946521</td>\n",
              "      <td>18.438766</td>\n",
              "      <td>487975600</td>\n",
              "      <td>0</td>\n",
              "    </tr>\n",
              "    <tr>\n",
              "      <th>3</th>\n",
              "      <td>2012-07-24</td>\n",
              "      <td>18.547165</td>\n",
              "      <td>18.617399</td>\n",
              "      <td>18.276307</td>\n",
              "      <td>18.349901</td>\n",
              "      <td>565132400</td>\n",
              "      <td>0</td>\n",
              "    </tr>\n",
              "    <tr>\n",
              "      <th>4</th>\n",
              "      <td>2012-07-27</td>\n",
              "      <td>17.558705</td>\n",
              "      <td>17.889109</td>\n",
              "      <td>17.454271</td>\n",
              "      <td>17.868649</td>\n",
              "      <td>403936400</td>\n",
              "      <td>1</td>\n",
              "    </tr>\n",
              "  </tbody>\n",
              "</table>\n",
              "</div>"
            ],
            "text/plain": [
              "         Date       Open       High        Low      Close     Volume  Movement\n",
              "0  2012-07-16  18.478158  18.676643  18.475103  18.532818  301260400         1\n",
              "1  2012-07-19  18.666261  18.790544  18.505029  18.759092  436861600         1\n",
              "2  2012-07-23  18.150808  18.501977  17.946521  18.438766  487975600         0\n",
              "3  2012-07-24  18.547165  18.617399  18.276307  18.349901  565132400         0\n",
              "4  2012-07-27  17.558705  17.889109  17.454271  17.868649  403936400         1"
            ]
          },
          "execution_count": 9,
          "metadata": {},
          "output_type": "execute_result"
        }
      ],
      "source": [
        "stock.head()"
      ]
    },
    {
      "cell_type": "code",
      "execution_count": 10,
      "metadata": {
        "colab": {
          "base_uri": "https://localhost:8080/"
        },
        "id": "Z2p9DNF83OYG",
        "outputId": "a9372f16-73f6-4c60-e876-77ebccc2b5f8"
      },
      "outputs": [
        {
          "data": {
            "text/plain": [
              "(1991, 7)"
            ]
          },
          "execution_count": 10,
          "metadata": {},
          "output_type": "execute_result"
        }
      ],
      "source": [
        "stock.shape"
      ]
    },
    {
      "cell_type": "code",
      "execution_count": 11,
      "metadata": {
        "colab": {
          "base_uri": "https://localhost:8080/",
          "height": 300
        },
        "id": "Jw00dJ0w3hbM",
        "outputId": "da4ed6b8-7e16-4716-e2aa-249830b58459"
      },
      "outputs": [
        {
          "data": {
            "text/html": [
              "<div>\n",
              "<style scoped>\n",
              "    .dataframe tbody tr th:only-of-type {\n",
              "        vertical-align: middle;\n",
              "    }\n",
              "\n",
              "    .dataframe tbody tr th {\n",
              "        vertical-align: top;\n",
              "    }\n",
              "\n",
              "    .dataframe thead th {\n",
              "        text-align: right;\n",
              "    }\n",
              "</style>\n",
              "<table border=\"1\" class=\"dataframe\">\n",
              "  <thead>\n",
              "    <tr style=\"text-align: right;\">\n",
              "      <th></th>\n",
              "      <th>Open</th>\n",
              "      <th>High</th>\n",
              "      <th>Low</th>\n",
              "      <th>Close</th>\n",
              "      <th>Volume</th>\n",
              "      <th>Movement</th>\n",
              "    </tr>\n",
              "  </thead>\n",
              "  <tbody>\n",
              "    <tr>\n",
              "      <th>count</th>\n",
              "      <td>1991.000000</td>\n",
              "      <td>1991.000000</td>\n",
              "      <td>1991.000000</td>\n",
              "      <td>1991.000000</td>\n",
              "      <td>1.991000e+03</td>\n",
              "      <td>1991.000000</td>\n",
              "    </tr>\n",
              "    <tr>\n",
              "      <th>mean</th>\n",
              "      <td>47.666381</td>\n",
              "      <td>48.156931</td>\n",
              "      <td>47.202549</td>\n",
              "      <td>47.699269</td>\n",
              "      <td>1.911982e+08</td>\n",
              "      <td>0.529884</td>\n",
              "    </tr>\n",
              "    <tr>\n",
              "      <th>std</th>\n",
              "      <td>43.124547</td>\n",
              "      <td>43.674071</td>\n",
              "      <td>42.629523</td>\n",
              "      <td>43.175678</td>\n",
              "      <td>1.540023e+08</td>\n",
              "      <td>0.499232</td>\n",
              "    </tr>\n",
              "    <tr>\n",
              "      <th>min</th>\n",
              "      <td>12.022059</td>\n",
              "      <td>12.382439</td>\n",
              "      <td>11.933125</td>\n",
              "      <td>12.101386</td>\n",
              "      <td>4.100000e+07</td>\n",
              "      <td>0.000000</td>\n",
              "    </tr>\n",
              "    <tr>\n",
              "      <th>25%</th>\n",
              "      <td>22.852884</td>\n",
              "      <td>23.085305</td>\n",
              "      <td>22.620846</td>\n",
              "      <td>22.866225</td>\n",
              "      <td>9.642320e+07</td>\n",
              "      <td>0.000000</td>\n",
              "    </tr>\n",
              "    <tr>\n",
              "      <th>50%</th>\n",
              "      <td>31.029067</td>\n",
              "      <td>31.217623</td>\n",
              "      <td>30.904150</td>\n",
              "      <td>31.210552</td>\n",
              "      <td>1.371600e+08</td>\n",
              "      <td>1.000000</td>\n",
              "    </tr>\n",
              "    <tr>\n",
              "      <th>75%</th>\n",
              "      <td>48.032189</td>\n",
              "      <td>48.548661</td>\n",
              "      <td>47.523433</td>\n",
              "      <td>48.196890</td>\n",
              "      <td>2.248612e+08</td>\n",
              "      <td>1.000000</td>\n",
              "    </tr>\n",
              "    <tr>\n",
              "      <th>max</th>\n",
              "      <td>182.130025</td>\n",
              "      <td>182.439174</td>\n",
              "      <td>178.629624</td>\n",
              "      <td>181.511703</td>\n",
              "      <td>1.460852e+09</td>\n",
              "      <td>1.000000</td>\n",
              "    </tr>\n",
              "  </tbody>\n",
              "</table>\n",
              "</div>"
            ],
            "text/plain": [
              "              Open         High          Low        Close        Volume  \\\n",
              "count  1991.000000  1991.000000  1991.000000  1991.000000  1.991000e+03   \n",
              "mean     47.666381    48.156931    47.202549    47.699269  1.911982e+08   \n",
              "std      43.124547    43.674071    42.629523    43.175678  1.540023e+08   \n",
              "min      12.022059    12.382439    11.933125    12.101386  4.100000e+07   \n",
              "25%      22.852884    23.085305    22.620846    22.866225  9.642320e+07   \n",
              "50%      31.029067    31.217623    30.904150    31.210552  1.371600e+08   \n",
              "75%      48.032189    48.548661    47.523433    48.196890  2.248612e+08   \n",
              "max     182.130025   182.439174   178.629624   181.511703  1.460852e+09   \n",
              "\n",
              "          Movement  \n",
              "count  1991.000000  \n",
              "mean      0.529884  \n",
              "std       0.499232  \n",
              "min       0.000000  \n",
              "25%       0.000000  \n",
              "50%       1.000000  \n",
              "75%       1.000000  \n",
              "max       1.000000  "
            ]
          },
          "execution_count": 11,
          "metadata": {},
          "output_type": "execute_result"
        }
      ],
      "source": [
        "stock.describe()"
      ]
    },
    {
      "cell_type": "code",
      "execution_count": 12,
      "metadata": {
        "colab": {
          "base_uri": "https://localhost:8080/"
        },
        "id": "fuXaigUl3q07",
        "outputId": "8be6509a-d3eb-4323-fcab-33e402a2609c"
      },
      "outputs": [
        {
          "data": {
            "text/plain": [
              "Date        0\n",
              "Open        0\n",
              "High        0\n",
              "Low         0\n",
              "Close       0\n",
              "Volume      0\n",
              "Movement    0\n",
              "dtype: int64"
            ]
          },
          "execution_count": 12,
          "metadata": {},
          "output_type": "execute_result"
        }
      ],
      "source": [
        "stock.isnull().sum() # checking for null values"
      ]
    },
    {
      "cell_type": "code",
      "execution_count": 13,
      "metadata": {
        "colab": {
          "base_uri": "https://localhost:8080/",
          "height": 416
        },
        "id": "c9fCKStZ7vPt",
        "outputId": "465f343a-1abe-4204-f1e6-72d742bf57a7"
      },
      "outputs": [
        {
          "data": {
            "text/plain": [
              "array([<AxesSubplot:>, <AxesSubplot:>, <AxesSubplot:>, <AxesSubplot:>,\n",
              "       <AxesSubplot:>, <AxesSubplot:>], dtype=object)"
            ]
          },
          "execution_count": 13,
          "metadata": {},
          "output_type": "execute_result"
        },
        {
          "data": {
            "image/png": "[encoded data removed]",
            "text/plain": [
              "<Figure size 432x288 with 6 Axes>"
            ]
          },
          "metadata": {
            "needs_background": "light"
          },
          "output_type": "display_data"
        }
      ],
      "source": [
        "stock.plot.line(subplots = True, title='Apple Stock Prices')"
      ]
    },
    {
      "cell_type": "code",
      "execution_count": 15,
      "metadata": {
        "id": "0NXjxGYo9ks0"
      },
      "outputs": [],
      "source": [
        "labels = pd.read_csv('../news_label.csv')"
      ]
    },
    {
      "cell_type": "code",
      "execution_count": 16,
      "metadata": {
        "colab": {
          "base_uri": "https://localhost:8080/",
          "height": 206
        },
        "id": "ITDwsaMiN4uS",
        "outputId": "ee93c1e8-1576-49ac-e3fc-96ea23493ef8"
      },
      "outputs": [
        {
          "data": {
            "text/html": [
              "<div>\n",
              "<style scoped>\n",
              "    .dataframe tbody tr th:only-of-type {\n",
              "        vertical-align: middle;\n",
              "    }\n",
              "\n",
              "    .dataframe tbody tr th {\n",
              "        vertical-align: top;\n",
              "    }\n",
              "\n",
              "    .dataframe thead th {\n",
              "        text-align: right;\n",
              "    }\n",
              "</style>\n",
              "<table border=\"1\" class=\"dataframe\">\n",
              "  <thead>\n",
              "    <tr style=\"text-align: right;\">\n",
              "      <th></th>\n",
              "      <th>Date</th>\n",
              "      <th>Sentiment</th>\n",
              "    </tr>\n",
              "  </thead>\n",
              "  <tbody>\n",
              "    <tr>\n",
              "      <th>0</th>\n",
              "      <td>2012-07-16</td>\n",
              "      <td>0.0</td>\n",
              "    </tr>\n",
              "    <tr>\n",
              "      <th>1</th>\n",
              "      <td>2012-07-19</td>\n",
              "      <td>0.0</td>\n",
              "    </tr>\n",
              "    <tr>\n",
              "      <th>2</th>\n",
              "      <td>2012-07-23</td>\n",
              "      <td>0.0</td>\n",
              "    </tr>\n",
              "    <tr>\n",
              "      <th>3</th>\n",
              "      <td>2012-07-24</td>\n",
              "      <td>0.0</td>\n",
              "    </tr>\n",
              "    <tr>\n",
              "      <th>4</th>\n",
              "      <td>2012-07-27</td>\n",
              "      <td>0.0</td>\n",
              "    </tr>\n",
              "  </tbody>\n",
              "</table>\n",
              "</div>"
            ],
            "text/plain": [
              "         Date  Sentiment\n",
              "0  2012-07-16        0.0\n",
              "1  2012-07-19        0.0\n",
              "2  2012-07-23        0.0\n",
              "3  2012-07-24        0.0\n",
              "4  2012-07-27        0.0"
            ]
          },
          "execution_count": 16,
          "metadata": {},
          "output_type": "execute_result"
        }
      ],
      "source": [
        "labels.head()"
      ]
    },
    {
      "cell_type": "code",
      "execution_count": 17,
      "metadata": {
        "colab": {
          "base_uri": "https://localhost:8080/"
        },
        "id": "zX6Oh0ayN6-S",
        "outputId": "265e4733-de10-433c-d2a9-6210c26056c4"
      },
      "outputs": [
        {
          "data": {
            "text/plain": [
              "(1991, 2)"
            ]
          },
          "execution_count": 17,
          "metadata": {},
          "output_type": "execute_result"
        }
      ],
      "source": [
        "labels.shape"
      ]
    },
    {
      "cell_type": "code",
      "execution_count": 18,
      "metadata": {},
      "outputs": [],
      "source": [
        "dataset = pd.merge(stock, labels)"
      ]
    },
    {
      "cell_type": "code",
      "execution_count": 19,
      "metadata": {
        "colab": {
          "base_uri": "https://localhost:8080/",
          "height": 424
        },
        "id": "s7QjUj0BOYjh",
        "outputId": "3ea1c1a9-a1fa-4027-9a8f-887d926fae28"
      },
      "outputs": [
        {
          "data": {
            "text/html": [
              "<div>\n",
              "<style scoped>\n",
              "    .dataframe tbody tr th:only-of-type {\n",
              "        vertical-align: middle;\n",
              "    }\n",
              "\n",
              "    .dataframe tbody tr th {\n",
              "        vertical-align: top;\n",
              "    }\n",
              "\n",
              "    .dataframe thead th {\n",
              "        text-align: right;\n",
              "    }\n",
              "</style>\n",
              "<table border=\"1\" class=\"dataframe\">\n",
              "  <thead>\n",
              "    <tr style=\"text-align: right;\">\n",
              "      <th></th>\n",
              "      <th>Date</th>\n",
              "      <th>Open</th>\n",
              "      <th>High</th>\n",
              "      <th>Low</th>\n",
              "      <th>Close</th>\n",
              "      <th>Volume</th>\n",
              "      <th>Sentiment</th>\n",
              "    </tr>\n",
              "  </thead>\n",
              "  <tbody>\n",
              "    <tr>\n",
              "      <th>0</th>\n",
              "      <td>2012-07-16</td>\n",
              "      <td>18.478158</td>\n",
              "      <td>18.676643</td>\n",
              "      <td>18.475103</td>\n",
              "      <td>18.532818</td>\n",
              "      <td>301260400</td>\n",
              "      <td>0.000000</td>\n",
              "    </tr>\n",
              "    <tr>\n",
              "      <th>1</th>\n",
              "      <td>2012-07-19</td>\n",
              "      <td>18.666261</td>\n",
              "      <td>18.790544</td>\n",
              "      <td>18.505029</td>\n",
              "      <td>18.759092</td>\n",
              "      <td>436861600</td>\n",
              "      <td>0.000000</td>\n",
              "    </tr>\n",
              "    <tr>\n",
              "      <th>2</th>\n",
              "      <td>2012-07-23</td>\n",
              "      <td>18.150808</td>\n",
              "      <td>18.501977</td>\n",
              "      <td>17.946521</td>\n",
              "      <td>18.438766</td>\n",
              "      <td>487975600</td>\n",
              "      <td>0.000000</td>\n",
              "    </tr>\n",
              "    <tr>\n",
              "      <th>3</th>\n",
              "      <td>2012-07-24</td>\n",
              "      <td>18.547165</td>\n",
              "      <td>18.617399</td>\n",
              "      <td>18.276307</td>\n",
              "      <td>18.349901</td>\n",
              "      <td>565132400</td>\n",
              "      <td>0.000000</td>\n",
              "    </tr>\n",
              "    <tr>\n",
              "      <th>4</th>\n",
              "      <td>2012-07-27</td>\n",
              "      <td>17.558705</td>\n",
              "      <td>17.889109</td>\n",
              "      <td>17.454271</td>\n",
              "      <td>17.868649</td>\n",
              "      <td>403936400</td>\n",
              "      <td>0.000000</td>\n",
              "    </tr>\n",
              "    <tr>\n",
              "      <th>...</th>\n",
              "      <td>...</td>\n",
              "      <td>...</td>\n",
              "      <td>...</td>\n",
              "      <td>...</td>\n",
              "      <td>...</td>\n",
              "      <td>...</td>\n",
              "      <td>...</td>\n",
              "    </tr>\n",
              "    <tr>\n",
              "      <th>1986</th>\n",
              "      <td>2022-06-15</td>\n",
              "      <td>134.289993</td>\n",
              "      <td>137.339996</td>\n",
              "      <td>132.160004</td>\n",
              "      <td>135.429993</td>\n",
              "      <td>91533000</td>\n",
              "      <td>0.000000</td>\n",
              "    </tr>\n",
              "    <tr>\n",
              "      <th>1987</th>\n",
              "      <td>2022-06-16</td>\n",
              "      <td>132.080002</td>\n",
              "      <td>132.389999</td>\n",
              "      <td>129.039993</td>\n",
              "      <td>130.059998</td>\n",
              "      <td>108123900</td>\n",
              "      <td>-0.833333</td>\n",
              "    </tr>\n",
              "    <tr>\n",
              "      <th>1988</th>\n",
              "      <td>2022-06-17</td>\n",
              "      <td>130.070007</td>\n",
              "      <td>133.080002</td>\n",
              "      <td>129.809998</td>\n",
              "      <td>131.559998</td>\n",
              "      <td>134118500</td>\n",
              "      <td>0.058824</td>\n",
              "    </tr>\n",
              "    <tr>\n",
              "      <th>1989</th>\n",
              "      <td>2022-06-21</td>\n",
              "      <td>133.419998</td>\n",
              "      <td>137.059998</td>\n",
              "      <td>133.320007</td>\n",
              "      <td>135.869995</td>\n",
              "      <td>81000500</td>\n",
              "      <td>0.600000</td>\n",
              "    </tr>\n",
              "    <tr>\n",
              "      <th>1990</th>\n",
              "      <td>2022-06-22</td>\n",
              "      <td>134.789993</td>\n",
              "      <td>137.759995</td>\n",
              "      <td>133.910004</td>\n",
              "      <td>135.350006</td>\n",
              "      <td>73237900</td>\n",
              "      <td>0.000000</td>\n",
              "    </tr>\n",
              "  </tbody>\n",
              "</table>\n",
              "<p>1991 rows × 7 columns</p>\n",
              "</div>"
            ],
            "text/plain": [
              "            Date        Open        High         Low       Close     Volume  \\\n",
              "0     2012-07-16   18.478158   18.676643   18.475103   18.532818  301260400   \n",
              "1     2012-07-19   18.666261   18.790544   18.505029   18.759092  436861600   \n",
              "2     2012-07-23   18.150808   18.501977   17.946521   18.438766  487975600   \n",
              "3     2012-07-24   18.547165   18.617399   18.276307   18.349901  565132400   \n",
              "4     2012-07-27   17.558705   17.889109   17.454271   17.868649  403936400   \n",
              "...          ...         ...         ...         ...         ...        ...   \n",
              "1986  2022-06-15  134.289993  137.339996  132.160004  135.429993   91533000   \n",
              "1987  2022-06-16  132.080002  132.389999  129.039993  130.059998  108123900   \n",
              "1988  2022-06-17  130.070007  133.080002  129.809998  131.559998  134118500   \n",
              "1989  2022-06-21  133.419998  137.059998  133.320007  135.869995   81000500   \n",
              "1990  2022-06-22  134.789993  137.759995  133.910004  135.350006   73237900   \n",
              "\n",
              "      Sentiment  \n",
              "0      0.000000  \n",
              "1      0.000000  \n",
              "2      0.000000  \n",
              "3      0.000000  \n",
              "4      0.000000  \n",
              "...         ...  \n",
              "1986   0.000000  \n",
              "1987  -0.833333  \n",
              "1988   0.058824  \n",
              "1989   0.600000  \n",
              "1990   0.000000  \n",
              "\n",
              "[1991 rows x 7 columns]"
            ]
          },
          "execution_count": 19,
          "metadata": {},
          "output_type": "execute_result"
        }
      ],
      "source": [
        "x = dataset.drop(['Movement'], axis=1)\n",
        "x"
      ]
    },
    {
      "cell_type": "code",
      "execution_count": 20,
      "metadata": {
        "id": "4kk4-QmcRX8n"
      },
      "outputs": [],
      "source": [
        "y = dataset['Movement']"
      ]
    },
    {
      "cell_type": "code",
      "execution_count": 21,
      "metadata": {
        "colab": {
          "base_uri": "https://localhost:8080/"
        },
        "id": "-V2aTqA9Re5Y",
        "outputId": "f9af7353-0e77-48e2-ce70-28fce889cf80"
      },
      "outputs": [
        {
          "data": {
            "text/plain": [
              "0       1\n",
              "1       1\n",
              "2       0\n",
              "3       0\n",
              "4       1\n",
              "       ..\n",
              "1986    1\n",
              "1987    0\n",
              "1988    1\n",
              "1989    1\n",
              "1990    0\n",
              "Name: Movement, Length: 1991, dtype: int64"
            ]
          },
          "execution_count": 21,
          "metadata": {},
          "output_type": "execute_result"
        }
      ],
      "source": [
        "y"
      ]
    },
    {
      "cell_type": "markdown",
      "metadata": {
        "id": "zgJhRzIGPI9q"
      },
      "source": [
        "# Splitting the dataset into train and test"
      ]
    },
    {
      "cell_type": "code",
      "execution_count": 22,
      "metadata": {
        "id": "hNl1H0NnPVh6"
      },
      "outputs": [],
      "source": [
        "X_train, X_test, y_train, y_test = train_test_split(x, y, test_size=0.15, shuffle=False)\n",
        "##X_train = x.iloc[:1590]\n",
        "#X_test = x.iloc[1590:]\n",
        "#y_train = y.iloc[:1590]\n",
        "#y_test = y.iloc[1590:]"
      ]
    },
    {
      "cell_type": "code",
      "execution_count": 23,
      "metadata": {
        "colab": {
          "base_uri": "https://localhost:8080/"
        },
        "id": "q73Yvvu8RD1W",
        "outputId": "5203f83a-1af4-42b7-c140-66b448820560"
      },
      "outputs": [
        {
          "name": "stdout",
          "output_type": "stream",
          "text": [
            "(1692, 7) (299, 7) (1692,) (299,)\n"
          ]
        }
      ],
      "source": [
        "print(X_train.shape, X_test.shape, y_train.shape, y_test.shape)"
      ]
    },
    {
      "cell_type": "code",
      "execution_count": 24,
      "metadata": {
        "colab": {
          "base_uri": "https://localhost:8080/",
          "height": 424
        },
        "id": "V4wlQQSrRFns",
        "outputId": "2aa1c50a-729a-4698-ec2d-2d5cd6e34a51"
      },
      "outputs": [
        {
          "data": {
            "text/html": [
              "<div>\n",
              "<style scoped>\n",
              "    .dataframe tbody tr th:only-of-type {\n",
              "        vertical-align: middle;\n",
              "    }\n",
              "\n",
              "    .dataframe tbody tr th {\n",
              "        vertical-align: top;\n",
              "    }\n",
              "\n",
              "    .dataframe thead th {\n",
              "        text-align: right;\n",
              "    }\n",
              "</style>\n",
              "<table border=\"1\" class=\"dataframe\">\n",
              "  <thead>\n",
              "    <tr style=\"text-align: right;\">\n",
              "      <th></th>\n",
              "      <th>Date</th>\n",
              "      <th>Open</th>\n",
              "      <th>High</th>\n",
              "      <th>Low</th>\n",
              "      <th>Close</th>\n",
              "      <th>Volume</th>\n",
              "      <th>Sentiment</th>\n",
              "    </tr>\n",
              "  </thead>\n",
              "  <tbody>\n",
              "    <tr>\n",
              "      <th>0</th>\n",
              "      <td>2012-07-16</td>\n",
              "      <td>18.478158</td>\n",
              "      <td>18.676643</td>\n",
              "      <td>18.475103</td>\n",
              "      <td>18.532818</td>\n",
              "      <td>301260400</td>\n",
              "      <td>0.000000</td>\n",
              "    </tr>\n",
              "    <tr>\n",
              "      <th>1</th>\n",
              "      <td>2012-07-19</td>\n",
              "      <td>18.666261</td>\n",
              "      <td>18.790544</td>\n",
              "      <td>18.505029</td>\n",
              "      <td>18.759092</td>\n",
              "      <td>436861600</td>\n",
              "      <td>0.000000</td>\n",
              "    </tr>\n",
              "    <tr>\n",
              "      <th>2</th>\n",
              "      <td>2012-07-23</td>\n",
              "      <td>18.150808</td>\n",
              "      <td>18.501977</td>\n",
              "      <td>17.946521</td>\n",
              "      <td>18.438766</td>\n",
              "      <td>487975600</td>\n",
              "      <td>0.000000</td>\n",
              "    </tr>\n",
              "    <tr>\n",
              "      <th>3</th>\n",
              "      <td>2012-07-24</td>\n",
              "      <td>18.547165</td>\n",
              "      <td>18.617399</td>\n",
              "      <td>18.276307</td>\n",
              "      <td>18.349901</td>\n",
              "      <td>565132400</td>\n",
              "      <td>0.000000</td>\n",
              "    </tr>\n",
              "    <tr>\n",
              "      <th>4</th>\n",
              "      <td>2012-07-27</td>\n",
              "      <td>17.558705</td>\n",
              "      <td>17.889109</td>\n",
              "      <td>17.454271</td>\n",
              "      <td>17.868649</td>\n",
              "      <td>403936400</td>\n",
              "      <td>0.000000</td>\n",
              "    </tr>\n",
              "    <tr>\n",
              "      <th>...</th>\n",
              "      <td>...</td>\n",
              "      <td>...</td>\n",
              "      <td>...</td>\n",
              "      <td>...</td>\n",
              "      <td>...</td>\n",
              "      <td>...</td>\n",
              "      <td>...</td>\n",
              "    </tr>\n",
              "    <tr>\n",
              "      <th>1687</th>\n",
              "      <td>2019-11-11</td>\n",
              "      <td>63.455637</td>\n",
              "      <td>64.480069</td>\n",
              "      <td>63.450726</td>\n",
              "      <td>64.413742</td>\n",
              "      <td>81821200</td>\n",
              "      <td>0.333333</td>\n",
              "    </tr>\n",
              "    <tr>\n",
              "      <th>1688</th>\n",
              "      <td>2019-11-12</td>\n",
              "      <td>64.254058</td>\n",
              "      <td>64.558689</td>\n",
              "      <td>64.099294</td>\n",
              "      <td>64.354782</td>\n",
              "      <td>87388800</td>\n",
              "      <td>0.142857</td>\n",
              "    </tr>\n",
              "    <tr>\n",
              "      <th>1689</th>\n",
              "      <td>2019-11-13</td>\n",
              "      <td>64.150872</td>\n",
              "      <td>65.047553</td>\n",
              "      <td>64.136133</td>\n",
              "      <td>64.971397</td>\n",
              "      <td>102734400</td>\n",
              "      <td>-0.166667</td>\n",
              "    </tr>\n",
              "    <tr>\n",
              "      <th>1690</th>\n",
              "      <td>2019-11-14</td>\n",
              "      <td>64.794514</td>\n",
              "      <td>65.072118</td>\n",
              "      <td>64.389166</td>\n",
              "      <td>64.521828</td>\n",
              "      <td>89182800</td>\n",
              "      <td>0.083333</td>\n",
              "    </tr>\n",
              "    <tr>\n",
              "      <th>1691</th>\n",
              "      <td>2019-11-15</td>\n",
              "      <td>64.777324</td>\n",
              "      <td>65.293225</td>\n",
              "      <td>64.612732</td>\n",
              "      <td>65.288315</td>\n",
              "      <td>100206400</td>\n",
              "      <td>-0.571429</td>\n",
              "    </tr>\n",
              "  </tbody>\n",
              "</table>\n",
              "<p>1692 rows × 7 columns</p>\n",
              "</div>"
            ],
            "text/plain": [
              "            Date       Open       High        Low      Close     Volume  \\\n",
              "0     2012-07-16  18.478158  18.676643  18.475103  18.532818  301260400   \n",
              "1     2012-07-19  18.666261  18.790544  18.505029  18.759092  436861600   \n",
              "2     2012-07-23  18.150808  18.501977  17.946521  18.438766  487975600   \n",
              "3     2012-07-24  18.547165  18.617399  18.276307  18.349901  565132400   \n",
              "4     2012-07-27  17.558705  17.889109  17.454271  17.868649  403936400   \n",
              "...          ...        ...        ...        ...        ...        ...   \n",
              "1687  2019-11-11  63.455637  64.480069  63.450726  64.413742   81821200   \n",
              "1688  2019-11-12  64.254058  64.558689  64.099294  64.354782   87388800   \n",
              "1689  2019-11-13  64.150872  65.047553  64.136133  64.971397  102734400   \n",
              "1690  2019-11-14  64.794514  65.072118  64.389166  64.521828   89182800   \n",
              "1691  2019-11-15  64.777324  65.293225  64.612732  65.288315  100206400   \n",
              "\n",
              "      Sentiment  \n",
              "0      0.000000  \n",
              "1      0.000000  \n",
              "2      0.000000  \n",
              "3      0.000000  \n",
              "4      0.000000  \n",
              "...         ...  \n",
              "1687   0.333333  \n",
              "1688   0.142857  \n",
              "1689  -0.166667  \n",
              "1690   0.083333  \n",
              "1691  -0.571429  \n",
              "\n",
              "[1692 rows x 7 columns]"
            ]
          },
          "execution_count": 24,
          "metadata": {},
          "output_type": "execute_result"
        }
      ],
      "source": [
        "X_train"
      ]
    },
    {
      "cell_type": "code",
      "execution_count": 25,
      "metadata": {
        "id": "5bIEdGf2VHKq"
      },
      "outputs": [],
      "source": [
        "X_train = X_train.drop(['Date'],axis=1)"
      ]
    },
    {
      "cell_type": "code",
      "execution_count": 64,
      "metadata": {
        "id": "__8NQ13BRHmq"
      },
      "outputs": [],
      "source": [
        "from sklearn.preprocessing import MinMaxScaler\n",
        "sc = MinMaxScaler(feature_range=(0, 1))\n",
        "X_train = sc.fit_transform(X_train)"
      ]
    },
    {
      "cell_type": "code",
      "execution_count": 65,
      "metadata": {},
      "outputs": [],
      "source": [
        "X_test = X_test.drop(['Date'],axis=1)\n",
        "sc = MinMaxScaler(feature_range=(0, 1))\n",
        "X_test = sc.fit_transform(X_test)"
      ]
    },
    {
      "cell_type": "code",
      "execution_count": 67,
      "metadata": {},
      "outputs": [],
      "source": [
        "X_train = np.asarray(X_train).astype('float32')\n",
        "y_train = np.asarray(y_train).astype('float32')\n",
        "\n",
        "X_test = np.asarray(X_test).astype('float32')\n",
        "y_test = np.asarray(y_test).astype('float32')\n"
      ]
    },
    {
      "cell_type": "markdown",
      "metadata": {
        "id": "wsZmdghVV9aS"
      },
      "source": [
        "# Modelling"
      ]
    },
    {
      "cell_type": "code",
      "execution_count": 68,
      "metadata": {
        "colab": {
          "base_uri": "https://localhost:8080/"
        },
        "id": "TVINDUeUU31V",
        "outputId": "cebcfd3f-c56d-4cd4-9bf9-1031110955f0"
      },
      "outputs": [],
      "source": [
        "model = Sequential()\n",
        "#model.add(LSTM(units=50, return_sequences=True, input_shape = (X_train.shape[0], X_train.shape[1])))\n",
        "model.add(layers.InputLayer((6,)))\n",
        "model.add(Dense(256))\n",
        "model.add(Dropout(0.1)) \n",
        "model.add(Dense(256))\n",
        "model.add(Dense(1, activation=\"sigmoid\"))"
      ]
    },
    {
      "cell_type": "code",
      "execution_count": 69,
      "metadata": {},
      "outputs": [
        {
          "name": "stdout",
          "output_type": "stream",
          "text": [
            "Model: \"sequential_10\"\n",
            "_________________________________________________________________\n",
            "Layer (type)                 Output Shape              Param #   \n",
            "=================================================================\n",
            "dense_23 (Dense)             (None, 256)               1792      \n",
            "_________________________________________________________________\n",
            "dropout_10 (Dropout)         (None, 256)               0         \n",
            "_________________________________________________________________\n",
            "dense_24 (Dense)             (None, 256)               65792     \n",
            "_________________________________________________________________\n",
            "dense_25 (Dense)             (None, 1)                 257       \n",
            "=================================================================\n",
            "Total params: 67,841\n",
            "Trainable params: 67,841\n",
            "Non-trainable params: 0\n",
            "_________________________________________________________________\n"
          ]
        }
      ],
      "source": [
        "model.compile(loss='binary_crossentropy', optimizer='adam', metrics=['accuracy'])\n",
        "model.summary()"
      ]
    },
    {
      "cell_type": "code",
      "execution_count": 70,
      "metadata": {
        "id": "Iy37ES5nWB3m"
      },
      "outputs": [
        {
          "name": "stdout",
          "output_type": "stream",
          "text": [
            "Epoch 1/100\n",
            "106/106 [==============================] - 1s 6ms/step - loss: 0.6992 - accuracy: 0.5272 - val_loss: 0.6892 - val_accuracy: 0.5452\n",
            "Epoch 2/100\n",
            "106/106 [==============================] - 0s 4ms/step - loss: 0.6930 - accuracy: 0.5260 - val_loss: 0.6736 - val_accuracy: 0.6020\n",
            "Epoch 3/100\n",
            "106/106 [==============================] - 0s 4ms/step - loss: 0.6958 - accuracy: 0.5343 - val_loss: 0.6861 - val_accuracy: 0.5318\n",
            "Epoch 4/100\n",
            "106/106 [==============================] - 0s 4ms/step - loss: 0.6917 - accuracy: 0.5296 - val_loss: 0.6812 - val_accuracy: 0.6020\n",
            "Epoch 5/100\n",
            "106/106 [==============================] - 0s 4ms/step - loss: 0.6896 - accuracy: 0.5431 - val_loss: 0.6792 - val_accuracy: 0.5251\n",
            "Epoch 6/100\n",
            "106/106 [==============================] - 0s 4ms/step - loss: 0.6895 - accuracy: 0.5414 - val_loss: 0.6858 - val_accuracy: 0.5585\n",
            "Epoch 7/100\n",
            "106/106 [==============================] - 0s 4ms/step - loss: 0.6915 - accuracy: 0.5319 - val_loss: 0.6723 - val_accuracy: 0.6120\n",
            "Epoch 8/100\n",
            "106/106 [==============================] - 0s 4ms/step - loss: 0.6878 - accuracy: 0.5390 - val_loss: 0.6994 - val_accuracy: 0.4783\n",
            "Epoch 9/100\n",
            "106/106 [==============================] - 0s 4ms/step - loss: 0.6881 - accuracy: 0.5402 - val_loss: 0.6736 - val_accuracy: 0.5953\n",
            "Epoch 10/100\n",
            "106/106 [==============================] - 0s 4ms/step - loss: 0.6877 - accuracy: 0.5396 - val_loss: 0.6781 - val_accuracy: 0.5753\n",
            "Epoch 11/100\n",
            "106/106 [==============================] - 0s 4ms/step - loss: 0.6877 - accuracy: 0.5384 - val_loss: 0.6662 - val_accuracy: 0.6421\n",
            "Epoch 12/100\n",
            "106/106 [==============================] - 0s 4ms/step - loss: 0.6889 - accuracy: 0.5349 - val_loss: 0.6703 - val_accuracy: 0.5819\n",
            "Epoch 13/100\n",
            " 81/106 [=====================>........] - ETA: 0s - loss: 0.6906 - accuracy: 0.5332"
          ]
        },
        {
          "ename": "KeyboardInterrupt",
          "evalue": "",
          "output_type": "error",
          "traceback": [
            "\u001b[1;31m---------------------------------------------------------------------------\u001b[0m",
            "\u001b[1;31mKeyboardInterrupt\u001b[0m                         Traceback (most recent call last)",
            "\u001b[1;32mc:\\Users\\ANSHU\\Desktop\\Stock-Market-Movement-Predictor\\model\\LSTM_try_1.ipynb Cell 34'\u001b[0m in \u001b[0;36m<cell line: 1>\u001b[1;34m()\u001b[0m\n\u001b[1;32m----> <a href='vscode-notebook-cell:/c%3A/Users/ANSHU/Desktop/Stock-Market-Movement-Predictor/model/LSTM_try_1.ipynb#ch0000029?line=0'>1</a>\u001b[0m model\u001b[39m.\u001b[39;49mfit(X_train, y_train, batch_size\u001b[39m=\u001b[39;49m\u001b[39m16\u001b[39;49m, epochs\u001b[39m=\u001b[39;49m\u001b[39m100\u001b[39;49m, validation_data\u001b[39m=\u001b[39;49m(X_test, y_test))\n",
            "File \u001b[1;32mc:\\Users\\ANSHU\\anaconda3\\envs\\gaip-tf\\lib\\site-packages\\tensorflow\\python\\keras\\engine\\training.py:1198\u001b[0m, in \u001b[0;36mModel.fit\u001b[1;34m(self, x, y, batch_size, epochs, verbose, callbacks, validation_split, validation_data, shuffle, class_weight, sample_weight, initial_epoch, steps_per_epoch, validation_steps, validation_batch_size, validation_freq, max_queue_size, workers, use_multiprocessing)\u001b[0m\n\u001b[0;32m   1196\u001b[0m logs \u001b[39m=\u001b[39m tmp_logs  \u001b[39m# No error, now safe to assign to logs.\u001b[39;00m\n\u001b[0;32m   1197\u001b[0m end_step \u001b[39m=\u001b[39m step \u001b[39m+\u001b[39m data_handler\u001b[39m.\u001b[39mstep_increment\n\u001b[1;32m-> 1198\u001b[0m callbacks\u001b[39m.\u001b[39;49mon_train_batch_end(end_step, logs)\n\u001b[0;32m   1199\u001b[0m \u001b[39mif\u001b[39;00m \u001b[39mself\u001b[39m\u001b[39m.\u001b[39mstop_training:\n\u001b[0;32m   1200\u001b[0m   \u001b[39mbreak\u001b[39;00m\n",
            "File \u001b[1;32mc:\\Users\\ANSHU\\anaconda3\\envs\\gaip-tf\\lib\\site-packages\\tensorflow\\python\\keras\\callbacks.py:456\u001b[0m, in \u001b[0;36mCallbackList.on_train_batch_end\u001b[1;34m(self, batch, logs)\u001b[0m\n\u001b[0;32m    449\u001b[0m \u001b[39m\"\"\"Calls the `on_train_batch_end` methods of its callbacks.\u001b[39;00m\n\u001b[0;32m    450\u001b[0m \n\u001b[0;32m    451\u001b[0m \u001b[39mArgs:\u001b[39;00m\n\u001b[0;32m    452\u001b[0m \u001b[39m    batch: Integer, index of batch within the current epoch.\u001b[39;00m\n\u001b[0;32m    453\u001b[0m \u001b[39m    logs: Dict. Aggregated metric results up until this batch.\u001b[39;00m\n\u001b[0;32m    454\u001b[0m \u001b[39m\"\"\"\u001b[39;00m\n\u001b[0;32m    455\u001b[0m \u001b[39mif\u001b[39;00m \u001b[39mself\u001b[39m\u001b[39m.\u001b[39m_should_call_train_batch_hooks:\n\u001b[1;32m--> 456\u001b[0m   \u001b[39mself\u001b[39;49m\u001b[39m.\u001b[39;49m_call_batch_hook(ModeKeys\u001b[39m.\u001b[39;49mTRAIN, \u001b[39m'\u001b[39;49m\u001b[39mend\u001b[39;49m\u001b[39m'\u001b[39;49m, batch, logs\u001b[39m=\u001b[39;49mlogs)\n",
            "File \u001b[1;32mc:\\Users\\ANSHU\\anaconda3\\envs\\gaip-tf\\lib\\site-packages\\tensorflow\\python\\keras\\callbacks.py:316\u001b[0m, in \u001b[0;36mCallbackList._call_batch_hook\u001b[1;34m(self, mode, hook, batch, logs)\u001b[0m\n\u001b[0;32m    314\u001b[0m   \u001b[39mself\u001b[39m\u001b[39m.\u001b[39m_call_batch_begin_hook(mode, batch, logs)\n\u001b[0;32m    315\u001b[0m \u001b[39melif\u001b[39;00m hook \u001b[39m==\u001b[39m \u001b[39m'\u001b[39m\u001b[39mend\u001b[39m\u001b[39m'\u001b[39m:\n\u001b[1;32m--> 316\u001b[0m   \u001b[39mself\u001b[39;49m\u001b[39m.\u001b[39;49m_call_batch_end_hook(mode, batch, logs)\n\u001b[0;32m    317\u001b[0m \u001b[39melse\u001b[39;00m:\n\u001b[0;32m    318\u001b[0m   \u001b[39mraise\u001b[39;00m \u001b[39mValueError\u001b[39;00m(\u001b[39m'\u001b[39m\u001b[39mUnrecognized hook: \u001b[39m\u001b[39m{}\u001b[39;00m\u001b[39m'\u001b[39m\u001b[39m.\u001b[39mformat(hook))\n",
            "File \u001b[1;32mc:\\Users\\ANSHU\\anaconda3\\envs\\gaip-tf\\lib\\site-packages\\tensorflow\\python\\keras\\callbacks.py:336\u001b[0m, in \u001b[0;36mCallbackList._call_batch_end_hook\u001b[1;34m(self, mode, batch, logs)\u001b[0m\n\u001b[0;32m    333\u001b[0m   batch_time \u001b[39m=\u001b[39m time\u001b[39m.\u001b[39mtime() \u001b[39m-\u001b[39m \u001b[39mself\u001b[39m\u001b[39m.\u001b[39m_batch_start_time\n\u001b[0;32m    334\u001b[0m   \u001b[39mself\u001b[39m\u001b[39m.\u001b[39m_batch_times\u001b[39m.\u001b[39mappend(batch_time)\n\u001b[1;32m--> 336\u001b[0m \u001b[39mself\u001b[39;49m\u001b[39m.\u001b[39;49m_call_batch_hook_helper(hook_name, batch, logs)\n\u001b[0;32m    338\u001b[0m \u001b[39mif\u001b[39;00m \u001b[39mlen\u001b[39m(\u001b[39mself\u001b[39m\u001b[39m.\u001b[39m_batch_times) \u001b[39m>\u001b[39m\u001b[39m=\u001b[39m \u001b[39mself\u001b[39m\u001b[39m.\u001b[39m_num_batches_for_timing_check:\n\u001b[0;32m    339\u001b[0m   end_hook_name \u001b[39m=\u001b[39m hook_name\n",
            "File \u001b[1;32mc:\\Users\\ANSHU\\anaconda3\\envs\\gaip-tf\\lib\\site-packages\\tensorflow\\python\\keras\\callbacks.py:374\u001b[0m, in \u001b[0;36mCallbackList._call_batch_hook_helper\u001b[1;34m(self, hook_name, batch, logs)\u001b[0m\n\u001b[0;32m    372\u001b[0m \u001b[39mfor\u001b[39;00m callback \u001b[39min\u001b[39;00m \u001b[39mself\u001b[39m\u001b[39m.\u001b[39mcallbacks:\n\u001b[0;32m    373\u001b[0m   hook \u001b[39m=\u001b[39m \u001b[39mgetattr\u001b[39m(callback, hook_name)\n\u001b[1;32m--> 374\u001b[0m   hook(batch, logs)\n\u001b[0;32m    376\u001b[0m \u001b[39mif\u001b[39;00m \u001b[39mself\u001b[39m\u001b[39m.\u001b[39m_check_timing:\n\u001b[0;32m    377\u001b[0m   \u001b[39mif\u001b[39;00m hook_name \u001b[39mnot\u001b[39;00m \u001b[39min\u001b[39;00m \u001b[39mself\u001b[39m\u001b[39m.\u001b[39m_hook_times:\n",
            "File \u001b[1;32mc:\\Users\\ANSHU\\anaconda3\\envs\\gaip-tf\\lib\\site-packages\\tensorflow\\python\\keras\\callbacks.py:1052\u001b[0m, in \u001b[0;36mProgbarLogger.on_train_batch_end\u001b[1;34m(self, batch, logs)\u001b[0m\n\u001b[0;32m   1051\u001b[0m \u001b[39mdef\u001b[39;00m \u001b[39mon_train_batch_end\u001b[39m(\u001b[39mself\u001b[39m, batch, logs\u001b[39m=\u001b[39m\u001b[39mNone\u001b[39;00m):\n\u001b[1;32m-> 1052\u001b[0m   \u001b[39mself\u001b[39;49m\u001b[39m.\u001b[39;49m_batch_update_progbar(batch, logs)\n",
            "File \u001b[1;32mc:\\Users\\ANSHU\\anaconda3\\envs\\gaip-tf\\lib\\site-packages\\tensorflow\\python\\keras\\callbacks.py:1124\u001b[0m, in \u001b[0;36mProgbarLogger._batch_update_progbar\u001b[1;34m(self, batch, logs)\u001b[0m\n\u001b[0;32m   1120\u001b[0m   \u001b[39mself\u001b[39m\u001b[39m.\u001b[39mseen \u001b[39m+\u001b[39m\u001b[39m=\u001b[39m add_seen\n\u001b[0;32m   1122\u001b[0m \u001b[39mif\u001b[39;00m \u001b[39mself\u001b[39m\u001b[39m.\u001b[39mverbose \u001b[39m==\u001b[39m \u001b[39m1\u001b[39m:\n\u001b[0;32m   1123\u001b[0m   \u001b[39m# Only block async when verbose = 1.\u001b[39;00m\n\u001b[1;32m-> 1124\u001b[0m   logs \u001b[39m=\u001b[39m tf_utils\u001b[39m.\u001b[39;49msync_to_numpy_or_python_type(logs)\n\u001b[0;32m   1125\u001b[0m   \u001b[39mself\u001b[39m\u001b[39m.\u001b[39mprogbar\u001b[39m.\u001b[39mupdate(\u001b[39mself\u001b[39m\u001b[39m.\u001b[39mseen, \u001b[39mlist\u001b[39m(logs\u001b[39m.\u001b[39mitems()), finalize\u001b[39m=\u001b[39m\u001b[39mFalse\u001b[39;00m)\n",
            "File \u001b[1;32mc:\\Users\\ANSHU\\anaconda3\\envs\\gaip-tf\\lib\\site-packages\\tensorflow\\python\\keras\\utils\\tf_utils.py:529\u001b[0m, in \u001b[0;36msync_to_numpy_or_python_type\u001b[1;34m(tensors)\u001b[0m\n\u001b[0;32m    526\u001b[0m     \u001b[39mreturn\u001b[39;00m x\u001b[39m.\u001b[39mitem() \u001b[39mif\u001b[39;00m np\u001b[39m.\u001b[39mndim(x) \u001b[39m==\u001b[39m \u001b[39m0\u001b[39m \u001b[39melse\u001b[39;00m x\n\u001b[0;32m    527\u001b[0m   \u001b[39mreturn\u001b[39;00m t  \u001b[39m# Don't turn ragged or sparse tensors to NumPy.\u001b[39;00m\n\u001b[1;32m--> 529\u001b[0m \u001b[39mreturn\u001b[39;00m nest\u001b[39m.\u001b[39;49mmap_structure(_to_single_numpy_or_python_type, tensors)\n",
            "File \u001b[1;32mc:\\Users\\ANSHU\\anaconda3\\envs\\gaip-tf\\lib\\site-packages\\tensorflow\\python\\util\\nest.py:869\u001b[0m, in \u001b[0;36mmap_structure\u001b[1;34m(func, *structure, **kwargs)\u001b[0m\n\u001b[0;32m    865\u001b[0m flat_structure \u001b[39m=\u001b[39m (flatten(s, expand_composites) \u001b[39mfor\u001b[39;00m s \u001b[39min\u001b[39;00m structure)\n\u001b[0;32m    866\u001b[0m entries \u001b[39m=\u001b[39m \u001b[39mzip\u001b[39m(\u001b[39m*\u001b[39mflat_structure)\n\u001b[0;32m    868\u001b[0m \u001b[39mreturn\u001b[39;00m pack_sequence_as(\n\u001b[1;32m--> 869\u001b[0m     structure[\u001b[39m0\u001b[39m], [func(\u001b[39m*\u001b[39mx) \u001b[39mfor\u001b[39;00m x \u001b[39min\u001b[39;00m entries],\n\u001b[0;32m    870\u001b[0m     expand_composites\u001b[39m=\u001b[39mexpand_composites)\n",
            "File \u001b[1;32mc:\\Users\\ANSHU\\anaconda3\\envs\\gaip-tf\\lib\\site-packages\\tensorflow\\python\\util\\nest.py:869\u001b[0m, in \u001b[0;36m<listcomp>\u001b[1;34m(.0)\u001b[0m\n\u001b[0;32m    865\u001b[0m flat_structure \u001b[39m=\u001b[39m (flatten(s, expand_composites) \u001b[39mfor\u001b[39;00m s \u001b[39min\u001b[39;00m structure)\n\u001b[0;32m    866\u001b[0m entries \u001b[39m=\u001b[39m \u001b[39mzip\u001b[39m(\u001b[39m*\u001b[39mflat_structure)\n\u001b[0;32m    868\u001b[0m \u001b[39mreturn\u001b[39;00m pack_sequence_as(\n\u001b[1;32m--> 869\u001b[0m     structure[\u001b[39m0\u001b[39m], [func(\u001b[39m*\u001b[39;49mx) \u001b[39mfor\u001b[39;00m x \u001b[39min\u001b[39;00m entries],\n\u001b[0;32m    870\u001b[0m     expand_composites\u001b[39m=\u001b[39mexpand_composites)\n",
            "File \u001b[1;32mc:\\Users\\ANSHU\\anaconda3\\envs\\gaip-tf\\lib\\site-packages\\tensorflow\\python\\keras\\utils\\tf_utils.py:525\u001b[0m, in \u001b[0;36msync_to_numpy_or_python_type.<locals>._to_single_numpy_or_python_type\u001b[1;34m(t)\u001b[0m\n\u001b[0;32m    523\u001b[0m \u001b[39mdef\u001b[39;00m \u001b[39m_to_single_numpy_or_python_type\u001b[39m(t):\n\u001b[0;32m    524\u001b[0m   \u001b[39mif\u001b[39;00m \u001b[39misinstance\u001b[39m(t, ops\u001b[39m.\u001b[39mTensor):\n\u001b[1;32m--> 525\u001b[0m     x \u001b[39m=\u001b[39m t\u001b[39m.\u001b[39;49mnumpy()\n\u001b[0;32m    526\u001b[0m     \u001b[39mreturn\u001b[39;00m x\u001b[39m.\u001b[39mitem() \u001b[39mif\u001b[39;00m np\u001b[39m.\u001b[39mndim(x) \u001b[39m==\u001b[39m \u001b[39m0\u001b[39m \u001b[39melse\u001b[39;00m x\n\u001b[0;32m    527\u001b[0m   \u001b[39mreturn\u001b[39;00m t\n",
            "File \u001b[1;32mc:\\Users\\ANSHU\\anaconda3\\envs\\gaip-tf\\lib\\site-packages\\tensorflow\\python\\framework\\ops.py:1094\u001b[0m, in \u001b[0;36m_EagerTensorBase.numpy\u001b[1;34m(self)\u001b[0m\n\u001b[0;32m   1071\u001b[0m \u001b[39m\"\"\"Copy of the contents of this Tensor into a NumPy array or scalar.\u001b[39;00m\n\u001b[0;32m   1072\u001b[0m \n\u001b[0;32m   1073\u001b[0m \u001b[39mUnlike NumPy arrays, Tensors are immutable, so this method has to copy\u001b[39;00m\n\u001b[1;32m   (...)\u001b[0m\n\u001b[0;32m   1091\u001b[0m \u001b[39m    NumPy dtype.\u001b[39;00m\n\u001b[0;32m   1092\u001b[0m \u001b[39m\"\"\"\u001b[39;00m\n\u001b[0;32m   1093\u001b[0m \u001b[39m# TODO(slebedev): Consider avoiding a copy for non-CPU or remote tensors.\u001b[39;00m\n\u001b[1;32m-> 1094\u001b[0m maybe_arr \u001b[39m=\u001b[39m \u001b[39mself\u001b[39;49m\u001b[39m.\u001b[39;49m_numpy()  \u001b[39m# pylint: disable=protected-access\u001b[39;00m\n\u001b[0;32m   1095\u001b[0m \u001b[39mreturn\u001b[39;00m maybe_arr\u001b[39m.\u001b[39mcopy() \u001b[39mif\u001b[39;00m \u001b[39misinstance\u001b[39m(maybe_arr, np\u001b[39m.\u001b[39mndarray) \u001b[39melse\u001b[39;00m maybe_arr\n",
            "File \u001b[1;32mc:\\Users\\ANSHU\\anaconda3\\envs\\gaip-tf\\lib\\site-packages\\tensorflow\\python\\framework\\ops.py:1060\u001b[0m, in \u001b[0;36m_EagerTensorBase._numpy\u001b[1;34m(self)\u001b[0m\n\u001b[0;32m   1058\u001b[0m \u001b[39mdef\u001b[39;00m \u001b[39m_numpy\u001b[39m(\u001b[39mself\u001b[39m):\n\u001b[0;32m   1059\u001b[0m   \u001b[39mtry\u001b[39;00m:\n\u001b[1;32m-> 1060\u001b[0m     \u001b[39mreturn\u001b[39;00m \u001b[39mself\u001b[39;49m\u001b[39m.\u001b[39;49m_numpy_internal()\n\u001b[0;32m   1061\u001b[0m   \u001b[39mexcept\u001b[39;00m core\u001b[39m.\u001b[39m_NotOkStatusException \u001b[39mas\u001b[39;00m e:  \u001b[39m# pylint: disable=protected-access\u001b[39;00m\n\u001b[0;32m   1062\u001b[0m     six\u001b[39m.\u001b[39mraise_from(core\u001b[39m.\u001b[39m_status_to_exception(e\u001b[39m.\u001b[39mcode, e\u001b[39m.\u001b[39mmessage), \u001b[39mNone\u001b[39;00m)\n",
            "\u001b[1;31mKeyboardInterrupt\u001b[0m: "
          ]
        }
      ],
      "source": [
        "model.fit(X_train, y_train, batch_size=16, epochs=100, validation_data=(X_test, y_test))"
      ]
    },
    {
      "cell_type": "code",
      "execution_count": null,
      "metadata": {},
      "outputs": [],
      "source": []
    }
  ],
  "metadata": {
    "accelerator": "GPU",
    "colab": {
      "name": "LSTM_try_1.ipynb",
      "provenance": []
    },
    "gpuClass": "standard",
    "kernelspec": {
      "display_name": "Python 3.9.12 ('gaip-tf')",
      "language": "python",
      "name": "python3"
    },
    "language_info": {
      "codemirror_mode": {
        "name": "ipython",
        "version": 3
      },
      "file_extension": ".py",
      "mimetype": "text/x-python",
      "name": "python",
      "nbconvert_exporter": "python",
      "pygments_lexer": "ipython3",
      "version": "3.9.12"
    },
    "vscode": {
      "interpreter": {
        "hash": "1b36a6aceba897fda56d7e90acf89496ac0a03fe03fb67196d25146dede7cb16"
      }
    }
  },
  "nbformat": 4,
  "nbformat_minor": 0
}
