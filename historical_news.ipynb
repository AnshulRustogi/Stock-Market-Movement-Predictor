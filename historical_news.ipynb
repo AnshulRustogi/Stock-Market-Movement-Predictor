{
  "cells": [
    {
      "cell_type": "code",
      "execution_count": null,
      "metadata": {
        "id": "E6VDRGAbJIHu"
      },
      "outputs": [],
      "source": [
        "!pip install bs4\n",
        "!pip install requests\n",
        "!pip install html5lib\n",
        "!pip install selenium\n",
        "!apt-get update # to update ubuntu to correctly run apt install\n",
        "!apt install chromium-chromedriver\n",
        "!cp /usr/lib/chromium-browser/chromedriver /usr/bin\n",
        "import sys\n",
        "sys.path.insert(0,'/usr/lib/chromium-browser/chromedriver')"
      ]
    },
    {
      "cell_type": "code",
      "source": [
        "from selenium import webdriver\n",
        "from selenium.webdriver.common.by import By\n",
        "from selenium.webdriver.support.ui import WebDriverWait\n",
        "from selenium.webdriver.support import expected_conditions as EC\n",
        "import datetime\n",
        "import time\n",
        "import pandas as pd"
      ],
      "metadata": {
        "id": "Ojp7y3iKbIJ6"
      },
      "execution_count": null,
      "outputs": []
    },
    {
      "cell_type": "code",
      "source": [
        "option = webdriver.ChromeOptions()\n",
        "option.add_argument(\"--headless\")\n",
        "option.add_argument(\"--disable-gpu\")\n",
        "option.add_argument(\"--window-size=1920,1200\")\n",
        "option.add_argument(\"--ignore-certificate-errors\")\n",
        "option.add_argument(\"--disable-extensions\")\n",
        "option.add_argument(\"--no-sandbox\")\n",
        "option.add_argument(\"--disable-dev-shm-usage\")\n",
        "\n",
        "driver = webdriver.Chrome(executable_path=\"chromedriver\", options=option)"
      ],
      "metadata": {
        "id": "LTH4FzsjcE9v"
      },
      "execution_count": null,
      "outputs": []
    },
    {
      "cell_type": "code",
      "source": [
        "search_blob = \"tesla\""
      ],
      "metadata": {
        "id": "rNMmwJSEcIdp"
      },
      "execution_count": null,
      "outputs": []
    },
    {
      "cell_type": "code",
      "source": [
        "driver.get(\"https://www.reuters.com/search/news?blob=\" + search_blob + \"&sortBy=date&dateRange=pastYear\")\n",
        "try:\n",
        "    while True:\n",
        "        driver.find_element_by_xpath(\"/html/body/div[4]/section[2]/div/div[1]/div[4]/div/div[4]/div[1]\").click()\n",
        "        time.sleep(0.1)\n",
        "except:\n",
        "        webpage_source = driver.page_source\n",
        "        while True:\n",
        "            continue\n",
        "time.sleep(10)\n",
        "driver.close()"
      ],
      "metadata": {
        "id": "bcpqThM0cH31"
      },
      "execution_count": null,
      "outputs": []
    },
    {
      "cell_type": "code",
      "source": [
        "soup = BeautifulSoup(webpage_source, 'html.parser') "
      ],
      "metadata": {
        "id": "duJHTIZqOGoG"
      },
      "execution_count": null,
      "outputs": []
    },
    {
      "cell_type": "code",
      "source": [
        "headings = soup.find_all('h3', class_=\"search-result-title\")"
      ],
      "metadata": {
        "id": "BhWiggkGTsoC"
      },
      "execution_count": null,
      "outputs": []
    },
    {
      "cell_type": "code",
      "source": [
        "time_stamp = soup.find_all('h5', class_=\"search-result-timestamp\")"
      ],
      "metadata": {
        "id": "nlPlAyOUTuT1"
      },
      "execution_count": null,
      "outputs": []
    },
    {
      "cell_type": "code",
      "source": [
        "for i in range(len(headings)):\n",
        "  headings[i] = headings[i].text\n",
        "  time_stamp[i] = time_stamp[i].text"
      ],
      "metadata": {
        "id": "6_uowwcUXKCR"
      },
      "execution_count": null,
      "outputs": []
    },
    {
      "cell_type": "code",
      "source": [
        "df = pd.DataFrame(list(zip(time_stamp, headings)), columns=[\"TimeStamp\", \"Headline\"])"
      ],
      "metadata": {
        "id": "tRad2nfiWfHX"
      },
      "execution_count": null,
      "outputs": []
    },
    {
      "cell_type": "code",
      "source": [
        "df.head()"
      ],
      "metadata": {
        "id": "tBJg85V0WwUh"
      },
      "execution_count": null,
      "outputs": []
    },
    {
      "cell_type": "code",
      "source": [
        "df.to_csv(\"news_\" + search_blob +\".csv\")"
      ],
      "metadata": {
        "id": "cTjnborfXFmg"
      },
      "execution_count": null,
      "outputs": []
    },
    {
      "cell_type": "code",
      "source": [
        ""
      ],
      "metadata": {
        "id": "GpJeWawdXapu"
      },
      "execution_count": null,
      "outputs": []
    }
  ],
  "metadata": {
    "kernelspec": {
      "display_name": "Python 3.9.12 ('gaip-tf')",
      "language": "python",
      "name": "python3"
    },
    "language_info": {
      "codemirror_mode": {
        "name": "ipython",
        "version": 3
      },
      "file_extension": ".py",
      "mimetype": "text/x-python",
      "name": "python",
      "nbconvert_exporter": "python",
      "pygments_lexer": "ipython3",
      "version": "3.9.12"
    },
    "orig_nbformat": 4,
    "vscode": {
      "interpreter": {
        "hash": "1b36a6aceba897fda56d7e90acf89496ac0a03fe03fb67196d25146dede7cb16"
      }
    },
    "colab": {
      "name": "historical_news.ipynb",
      "provenance": []
    }
  },
  "nbformat": 4,
  "nbformat_minor": 0
}