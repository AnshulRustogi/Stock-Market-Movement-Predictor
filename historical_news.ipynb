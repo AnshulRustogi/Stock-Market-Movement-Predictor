{
  "cells": [
    {
      "cell_type": "code",
      "execution_count": 3,
      "metadata": {
        "id": "E6VDRGAbJIHu"
      },
      "outputs": [],
      "source": [
        "!pip install bs4\n",
        "!pip install requests\n",
        "!pip install html5lib\n",
        "!pip install selenium\n",
        "!pip install bs4\n",
        "!apt-get update # to update ubuntu to correctly run apt install\n",
        "!apt install chromium-chromedriver\n",
        "!cp /usr/lib/chromium-browser/chromedriver /usr/bin\n",
        "import sys\n",
        "sys.path.insert(0,'/usr/lib/chromium-browser/chromedriver')"
      ]
    },
    {
      "cell_type": "code",
      "execution_count": 9,
      "metadata": {
        "id": "Ojp7y3iKbIJ6"
      },
      "outputs": [],
      "source": [
        "from selenium import webdriver\n",
        "from selenium.webdriver.common.by import By\n",
        "from selenium.webdriver.support.ui import WebDriverWait\n",
        "from selenium.webdriver.support import expected_conditions as EC\n",
        "import datetime\n",
        "import time\n",
        "import pandas as pd\n",
        "from bs4 import BeautifulSoup"
      ]
    },
    {
      "cell_type": "code",
      "execution_count": 5,
      "metadata": {
        "id": "LTH4FzsjcE9v"
      },
      "outputs": [],
      "source": [
        "option = webdriver.ChromeOptions()\n",
        "option.add_argument(\"--headless\")\n",
        "option.add_argument(\"--disable-gpu\")\n",
        "option.add_argument(\"--window-size=1920,1200\")\n",
        "option.add_argument(\"--ignore-certificate-errors\")\n",
        "option.add_argument(\"--disable-extensions\")\n",
        "option.add_argument(\"--no-sandbox\")\n",
        "option.add_argument(\"--disable-dev-shm-usage\")\n",
        "\n",
        "driver = webdriver.Chrome(executable_path=\"chromedriver\", options=option)"
      ]
    },
    {
      "cell_type": "code",
      "execution_count": 6,
      "metadata": {
        "id": "rNMmwJSEcIdp"
      },
      "outputs": [],
      "source": [
        "search_blob = \"apple\""
      ]
    },
    {
      "cell_type": "code",
      "execution_count": 7,
      "metadata": {
        "colab": {
          "base_uri": "https://localhost:8080/"
        },
        "id": "bcpqThM0cH31",
        "outputId": "7c4daf58-3a90-4992-f0a1-1fc421f3ac28"
      },
      "outputs": [
        {
          "name": "stderr",
          "output_type": "stream",
          "text": [
            "C:\\Users\\ANSHU\\AppData\\Local\\Temp\\ipykernel_24756\\3533025564.py:4: DeprecationWarning: find_element_by_xpath is deprecated. Please use find_element(by=By.XPATH, value=xpath) instead\n",
            "  if(driver.find_element_by_xpath(\"/html/body/div[4]/section[2]/div/div[1]/div[4]/div/div[4]/div[1]\").text == \"NO MORE RESULTS\"):\n",
            "C:\\Users\\ANSHU\\AppData\\Local\\Temp\\ipykernel_24756\\3533025564.py:6: DeprecationWarning: find_element_by_xpath is deprecated. Please use find_element(by=By.XPATH, value=xpath) instead\n",
            "  driver.find_element_by_xpath(\"/html/body/div[4]/section[2]/div/div[1]/div[4]/div/div[4]/div[1]\").click()\n"
          ]
        }
      ],
      "source": [
        "driver.get(\"https://www.reuters.com/search/news?blob=\" + search_blob + \"&sortBy=date&dateRange=pastYear\")\n",
        "try:\n",
        "    while True:\n",
        "        if(driver.find_element_by_xpath(\"/html/body/div[4]/section[2]/div/div[1]/div[4]/div/div[4]/div[1]\").text == \"NO MORE RESULTS\"):\n",
        "            break\n",
        "        driver.find_element_by_xpath(\"/html/body/div[4]/section[2]/div/div[1]/div[4]/div/div[4]/div[1]\").click()\n",
        "        time.sleep(0.1)\n",
        "except:\n",
        "        webpage_source = driver.page_source\n",
        "        while True:\n",
        "            continue\n",
        "webpage_source = driver.page_source\n",
        "time.sleep(10)\n",
        "driver.close()"
      ]
    },
    {
      "cell_type": "code",
      "execution_count": 10,
      "metadata": {
        "id": "duJHTIZqOGoG"
      },
      "outputs": [],
      "source": [
        "soup = BeautifulSoup(webpage_source, 'html.parser') "
      ]
    },
    {
      "cell_type": "code",
      "execution_count": 11,
      "metadata": {
        "id": "BhWiggkGTsoC"
      },
      "outputs": [],
      "source": [
        "headings = soup.find_all('h3', class_=\"search-result-title\")"
      ]
    },
    {
      "cell_type": "code",
      "execution_count": 12,
      "metadata": {
        "id": "nlPlAyOUTuT1"
      },
      "outputs": [],
      "source": [
        "time_stamp = soup.find_all('h5', class_=\"search-result-timestamp\")"
      ]
    },
    {
      "cell_type": "code",
      "execution_count": 13,
      "metadata": {
        "id": "6_uowwcUXKCR"
      },
      "outputs": [],
      "source": [
        "for i in range(len(headings)):\n",
        "  headings[i] = headings[i].text\n",
        "  time_stamp[i] = time_stamp[i].text"
      ]
    },
    {
      "cell_type": "code",
      "execution_count": 14,
      "metadata": {
        "id": "tRad2nfiWfHX"
      },
      "outputs": [],
      "source": [
        "df = pd.DataFrame(list(zip(time_stamp, headings)), columns=[\"TimeStamp\", \"Headline\"])"
      ]
    },
    {
      "cell_type": "code",
      "execution_count": 15,
      "metadata": {
        "id": "tBJg85V0WwUh"
      },
      "outputs": [
        {
          "data": {
            "text/html": [
              "<div>\n",
              "<style scoped>\n",
              "    .dataframe tbody tr th:only-of-type {\n",
              "        vertical-align: middle;\n",
              "    }\n",
              "\n",
              "    .dataframe tbody tr th {\n",
              "        vertical-align: top;\n",
              "    }\n",
              "\n",
              "    .dataframe thead th {\n",
              "        text-align: right;\n",
              "    }\n",
              "</style>\n",
              "<table border=\"1\" class=\"dataframe\">\n",
              "  <thead>\n",
              "    <tr style=\"text-align: right;\">\n",
              "      <th></th>\n",
              "      <th>TimeStamp</th>\n",
              "      <th>Headline</th>\n",
              "    </tr>\n",
              "  </thead>\n",
              "  <tbody>\n",
              "    <tr>\n",
              "      <th>0</th>\n",
              "      <td>June 23, 2022 03:30am EDT</td>\n",
              "      <td>Swiss detail revenue split for global minimum ...</td>\n",
              "    </tr>\n",
              "    <tr>\n",
              "      <th>1</th>\n",
              "      <td>June 22, 2022 03:11pm EDT</td>\n",
              "      <td>Meta and other tech giants form metaverse stan...</td>\n",
              "    </tr>\n",
              "    <tr>\n",
              "      <th>2</th>\n",
              "      <td>June 22, 2022 09:14am EDT</td>\n",
              "      <td>Shopify unveils new tools, Twitter tie-up to b...</td>\n",
              "    </tr>\n",
              "    <tr>\n",
              "      <th>3</th>\n",
              "      <td>June 22, 2022 05:55am EDT</td>\n",
              "      <td>Volkswagen CEO questions whether Apple plans t...</td>\n",
              "    </tr>\n",
              "    <tr>\n",
              "      <th>4</th>\n",
              "      <td>June 21, 2022 08:15pm EDT</td>\n",
              "      <td>Wall Street gains over 2% in broad rebound</td>\n",
              "    </tr>\n",
              "  </tbody>\n",
              "</table>\n",
              "</div>"
            ],
            "text/plain": [
              "                   TimeStamp  \\\n",
              "0  June 23, 2022 03:30am EDT   \n",
              "1  June 22, 2022 03:11pm EDT   \n",
              "2  June 22, 2022 09:14am EDT   \n",
              "3  June 22, 2022 05:55am EDT   \n",
              "4  June 21, 2022 08:15pm EDT   \n",
              "\n",
              "                                            Headline  \n",
              "0  Swiss detail revenue split for global minimum ...  \n",
              "1  Meta and other tech giants form metaverse stan...  \n",
              "2  Shopify unveils new tools, Twitter tie-up to b...  \n",
              "3  Volkswagen CEO questions whether Apple plans t...  \n",
              "4         Wall Street gains over 2% in broad rebound  "
            ]
          },
          "execution_count": 15,
          "metadata": {},
          "output_type": "execute_result"
        }
      ],
      "source": [
        "df.head()"
      ]
    },
    {
      "cell_type": "code",
      "execution_count": 16,
      "metadata": {
        "id": "cTjnborfXFmg"
      },
      "outputs": [],
      "source": [
        "df.to_csv(\"news_\" + search_blob +\".csv\")"
      ]
    },
    {
      "cell_type": "code",
      "execution_count": null,
      "metadata": {
        "id": "GpJeWawdXapu"
      },
      "outputs": [],
      "source": []
    },
    {
      "cell_type": "markdown",
      "metadata": {},
      "source": [
        "# Merging latest and historical news data"
      ]
    },
    {
      "cell_type": "code",
      "execution_count": 1,
      "metadata": {},
      "outputs": [],
      "source": [
        "import pandas as pd\n",
        "import numpy as np"
      ]
    },
    {
      "cell_type": "code",
      "execution_count": 47,
      "metadata": {},
      "outputs": [],
      "source": [
        "latest_news = pd.read_csv(\"news_apple.csv\")\n",
        "historical_news = pd.read_csv(\"us_equities_news_dataset.csv\")"
      ]
    },
    {
      "cell_type": "code",
      "execution_count": 48,
      "metadata": {},
      "outputs": [
        {
          "data": {
            "text/html": [
              "<div>\n",
              "<style scoped>\n",
              "    .dataframe tbody tr th:only-of-type {\n",
              "        vertical-align: middle;\n",
              "    }\n",
              "\n",
              "    .dataframe tbody tr th {\n",
              "        vertical-align: top;\n",
              "    }\n",
              "\n",
              "    .dataframe thead th {\n",
              "        text-align: right;\n",
              "    }\n",
              "</style>\n",
              "<table border=\"1\" class=\"dataframe\">\n",
              "  <thead>\n",
              "    <tr style=\"text-align: right;\">\n",
              "      <th></th>\n",
              "      <th>Unnamed: 0</th>\n",
              "      <th>TimeStamp</th>\n",
              "      <th>Headline</th>\n",
              "    </tr>\n",
              "  </thead>\n",
              "  <tbody>\n",
              "    <tr>\n",
              "      <th>0</th>\n",
              "      <td>0</td>\n",
              "      <td>June 23, 2022 03:30am EDT</td>\n",
              "      <td>Swiss detail revenue split for global minimum ...</td>\n",
              "    </tr>\n",
              "    <tr>\n",
              "      <th>1</th>\n",
              "      <td>1</td>\n",
              "      <td>June 22, 2022 03:11pm EDT</td>\n",
              "      <td>Meta and other tech giants form metaverse stan...</td>\n",
              "    </tr>\n",
              "    <tr>\n",
              "      <th>2</th>\n",
              "      <td>2</td>\n",
              "      <td>June 22, 2022 09:14am EDT</td>\n",
              "      <td>Shopify unveils new tools, Twitter tie-up to b...</td>\n",
              "    </tr>\n",
              "    <tr>\n",
              "      <th>3</th>\n",
              "      <td>3</td>\n",
              "      <td>June 22, 2022 05:55am EDT</td>\n",
              "      <td>Volkswagen CEO questions whether Apple plans t...</td>\n",
              "    </tr>\n",
              "    <tr>\n",
              "      <th>4</th>\n",
              "      <td>4</td>\n",
              "      <td>June 21, 2022 08:15pm EDT</td>\n",
              "      <td>Wall Street gains over 2% in broad rebound</td>\n",
              "    </tr>\n",
              "  </tbody>\n",
              "</table>\n",
              "</div>"
            ],
            "text/plain": [
              "   Unnamed: 0                  TimeStamp  \\\n",
              "0           0  June 23, 2022 03:30am EDT   \n",
              "1           1  June 22, 2022 03:11pm EDT   \n",
              "2           2  June 22, 2022 09:14am EDT   \n",
              "3           3  June 22, 2022 05:55am EDT   \n",
              "4           4  June 21, 2022 08:15pm EDT   \n",
              "\n",
              "                                            Headline  \n",
              "0  Swiss detail revenue split for global minimum ...  \n",
              "1  Meta and other tech giants form metaverse stan...  \n",
              "2  Shopify unveils new tools, Twitter tie-up to b...  \n",
              "3  Volkswagen CEO questions whether Apple plans t...  \n",
              "4         Wall Street gains over 2% in broad rebound  "
            ]
          },
          "execution_count": 48,
          "metadata": {},
          "output_type": "execute_result"
        }
      ],
      "source": [
        "latest_news.head()"
      ]
    },
    {
      "cell_type": "code",
      "execution_count": 49,
      "metadata": {},
      "outputs": [
        {
          "data": {
            "text/html": [
              "<div>\n",
              "<style scoped>\n",
              "    .dataframe tbody tr th:only-of-type {\n",
              "        vertical-align: middle;\n",
              "    }\n",
              "\n",
              "    .dataframe tbody tr th {\n",
              "        vertical-align: top;\n",
              "    }\n",
              "\n",
              "    .dataframe thead th {\n",
              "        text-align: right;\n",
              "    }\n",
              "</style>\n",
              "<table border=\"1\" class=\"dataframe\">\n",
              "  <thead>\n",
              "    <tr style=\"text-align: right;\">\n",
              "      <th></th>\n",
              "      <th>id</th>\n",
              "      <th>ticker</th>\n",
              "      <th>title</th>\n",
              "      <th>category</th>\n",
              "      <th>content</th>\n",
              "      <th>release_date</th>\n",
              "      <th>provider</th>\n",
              "      <th>url</th>\n",
              "      <th>article_id</th>\n",
              "    </tr>\n",
              "  </thead>\n",
              "  <tbody>\n",
              "    <tr>\n",
              "      <th>0</th>\n",
              "      <td>221515</td>\n",
              "      <td>NIO</td>\n",
              "      <td>Why Shares of Chinese Electric Car Maker NIO A...</td>\n",
              "      <td>news</td>\n",
              "      <td>What s happening\\nShares of Chinese electric c...</td>\n",
              "      <td>2020-01-15</td>\n",
              "      <td>The Motley Fool</td>\n",
              "      <td>https://invst.ly/pigqi</td>\n",
              "      <td>2060327</td>\n",
              "    </tr>\n",
              "    <tr>\n",
              "      <th>1</th>\n",
              "      <td>221516</td>\n",
              "      <td>NIO</td>\n",
              "      <td>NIO only consumer gainer  Workhorse Group amon...</td>\n",
              "      <td>news</td>\n",
              "      <td>Gainers  NIO  NYSE NIO   7  \\nLosers  MGP Ingr...</td>\n",
              "      <td>2020-01-18</td>\n",
              "      <td>Seeking Alpha</td>\n",
              "      <td>https://invst.ly/pje9c</td>\n",
              "      <td>2062196</td>\n",
              "    </tr>\n",
              "    <tr>\n",
              "      <th>2</th>\n",
              "      <td>221517</td>\n",
              "      <td>NIO</td>\n",
              "      <td>NIO leads consumer gainers  Beyond Meat and Ma...</td>\n",
              "      <td>news</td>\n",
              "      <td>Gainers  NIO  NYSE NIO   14   Village Farms In...</td>\n",
              "      <td>2020-01-15</td>\n",
              "      <td>Seeking Alpha</td>\n",
              "      <td>https://invst.ly/pifmv</td>\n",
              "      <td>2060249</td>\n",
              "    </tr>\n",
              "    <tr>\n",
              "      <th>3</th>\n",
              "      <td>221518</td>\n",
              "      <td>NIO</td>\n",
              "      <td>NIO  NVAX among premarket gainers</td>\n",
              "      <td>news</td>\n",
              "      <td>Cemtrex  NASDAQ CETX   85  after FY results \\n...</td>\n",
              "      <td>2020-01-15</td>\n",
              "      <td>Seeking Alpha</td>\n",
              "      <td>https://invst.ly/picu8</td>\n",
              "      <td>2060039</td>\n",
              "    </tr>\n",
              "    <tr>\n",
              "      <th>4</th>\n",
              "      <td>221519</td>\n",
              "      <td>NIO</td>\n",
              "      <td>PLUG  NIO among premarket gainers</td>\n",
              "      <td>news</td>\n",
              "      <td>aTyr Pharma  NASDAQ LIFE   63  on Kyorin Pharm...</td>\n",
              "      <td>2020-01-06</td>\n",
              "      <td>Seeking Alpha</td>\n",
              "      <td>https://seekingalpha.com/news/3529772-plug-nio...</td>\n",
              "      <td>2053096</td>\n",
              "    </tr>\n",
              "  </tbody>\n",
              "</table>\n",
              "</div>"
            ],
            "text/plain": [
              "       id ticker                                              title category  \\\n",
              "0  221515    NIO  Why Shares of Chinese Electric Car Maker NIO A...     news   \n",
              "1  221516    NIO  NIO only consumer gainer  Workhorse Group amon...     news   \n",
              "2  221517    NIO  NIO leads consumer gainers  Beyond Meat and Ma...     news   \n",
              "3  221518    NIO                  NIO  NVAX among premarket gainers     news   \n",
              "4  221519    NIO                  PLUG  NIO among premarket gainers     news   \n",
              "\n",
              "                                             content release_date  \\\n",
              "0  What s happening\\nShares of Chinese electric c...   2020-01-15   \n",
              "1  Gainers  NIO  NYSE NIO   7  \\nLosers  MGP Ingr...   2020-01-18   \n",
              "2  Gainers  NIO  NYSE NIO   14   Village Farms In...   2020-01-15   \n",
              "3  Cemtrex  NASDAQ CETX   85  after FY results \\n...   2020-01-15   \n",
              "4  aTyr Pharma  NASDAQ LIFE   63  on Kyorin Pharm...   2020-01-06   \n",
              "\n",
              "          provider                                                url  \\\n",
              "0  The Motley Fool                             https://invst.ly/pigqi   \n",
              "1    Seeking Alpha                             https://invst.ly/pje9c   \n",
              "2    Seeking Alpha                             https://invst.ly/pifmv   \n",
              "3    Seeking Alpha                             https://invst.ly/picu8   \n",
              "4    Seeking Alpha  https://seekingalpha.com/news/3529772-plug-nio...   \n",
              "\n",
              "   article_id  \n",
              "0     2060327  \n",
              "1     2062196  \n",
              "2     2060249  \n",
              "3     2060039  \n",
              "4     2053096  "
            ]
          },
          "execution_count": 49,
          "metadata": {},
          "output_type": "execute_result"
        }
      ],
      "source": [
        "historical_news.head()"
      ]
    },
    {
      "cell_type": "code",
      "execution_count": 50,
      "metadata": {},
      "outputs": [
        {
          "data": {
            "text/html": [
              "<div>\n",
              "<style scoped>\n",
              "    .dataframe tbody tr th:only-of-type {\n",
              "        vertical-align: middle;\n",
              "    }\n",
              "\n",
              "    .dataframe tbody tr th {\n",
              "        vertical-align: top;\n",
              "    }\n",
              "\n",
              "    .dataframe thead th {\n",
              "        text-align: right;\n",
              "    }\n",
              "</style>\n",
              "<table border=\"1\" class=\"dataframe\">\n",
              "  <thead>\n",
              "    <tr style=\"text-align: right;\">\n",
              "      <th></th>\n",
              "      <th>title</th>\n",
              "      <th>release_date</th>\n",
              "    </tr>\n",
              "  </thead>\n",
              "  <tbody>\n",
              "    <tr>\n",
              "      <th>49183</th>\n",
              "      <td>JPMorgan cautious ahead of Apple earnings</td>\n",
              "      <td>2020-01-28</td>\n",
              "    </tr>\n",
              "    <tr>\n",
              "      <th>49184</th>\n",
              "      <td>FAANG s Fall  but Get Some Wall Street Love</td>\n",
              "      <td>2020-01-28</td>\n",
              "    </tr>\n",
              "    <tr>\n",
              "      <th>49185</th>\n",
              "      <td>Wall Street tumbles as virus fuels economic worry</td>\n",
              "      <td>2020-01-28</td>\n",
              "    </tr>\n",
              "    <tr>\n",
              "      <th>49186</th>\n",
              "      <td>Earnings Watch  Apple and AMD to take earnings...</td>\n",
              "      <td>2020-01-28</td>\n",
              "    </tr>\n",
              "    <tr>\n",
              "      <th>49187</th>\n",
              "      <td>Day Ahead  Top 3 Things to Watch for Jan 28</td>\n",
              "      <td>2020-01-28</td>\n",
              "    </tr>\n",
              "    <tr>\n",
              "      <th>...</th>\n",
              "      <td>...</td>\n",
              "      <td>...</td>\n",
              "    </tr>\n",
              "    <tr>\n",
              "      <th>69409</th>\n",
              "      <td>Waiting For Direction On The Markets</td>\n",
              "      <td>2012-07-16</td>\n",
              "    </tr>\n",
              "    <tr>\n",
              "      <th>69410</th>\n",
              "      <td>Mid Year Update  U S  And Canadian Stock Marke...</td>\n",
              "      <td>2012-07-19</td>\n",
              "    </tr>\n",
              "    <tr>\n",
              "      <th>69411</th>\n",
              "      <td>Summer Heat Scorches Europe And U S</td>\n",
              "      <td>2012-07-23</td>\n",
              "    </tr>\n",
              "    <tr>\n",
              "      <th>69412</th>\n",
              "      <td>Apple Earnings Preview  Quarterly Dip On Deck</td>\n",
              "      <td>2012-07-23</td>\n",
              "    </tr>\n",
              "    <tr>\n",
              "      <th>69413</th>\n",
              "      <td>Trade Apple After Earnings</td>\n",
              "      <td>2012-07-23</td>\n",
              "    </tr>\n",
              "  </tbody>\n",
              "</table>\n",
              "<p>20231 rows × 2 columns</p>\n",
              "</div>"
            ],
            "text/plain": [
              "                                                   title release_date\n",
              "49183          JPMorgan cautious ahead of Apple earnings   2020-01-28\n",
              "49184        FAANG s Fall  but Get Some Wall Street Love   2020-01-28\n",
              "49185  Wall Street tumbles as virus fuels economic worry   2020-01-28\n",
              "49186  Earnings Watch  Apple and AMD to take earnings...   2020-01-28\n",
              "49187        Day Ahead  Top 3 Things to Watch for Jan 28   2020-01-28\n",
              "...                                                  ...          ...\n",
              "69409               Waiting For Direction On The Markets   2012-07-16\n",
              "69410  Mid Year Update  U S  And Canadian Stock Marke...   2012-07-19\n",
              "69411               Summer Heat Scorches Europe And U S    2012-07-23\n",
              "69412     Apple Earnings Preview  Quarterly Dip On Deck    2012-07-23\n",
              "69413                         Trade Apple After Earnings   2012-07-23\n",
              "\n",
              "[20231 rows x 2 columns]"
            ]
          },
          "execution_count": 50,
          "metadata": {},
          "output_type": "execute_result"
        }
      ],
      "source": [
        "apple_historical_news = historical_news.loc[historical_news['ticker']==\"AAPL\"].drop([\"ticker\", \"category\", \"content\",\"id\", \"provider\",\"article_id\", \"url\"], axis=1)\n",
        "apple_historical_news"
      ]
    },
    {
      "cell_type": "code",
      "execution_count": 51,
      "metadata": {},
      "outputs": [
        {
          "data": {
            "text/html": [
              "<div>\n",
              "<style scoped>\n",
              "    .dataframe tbody tr th:only-of-type {\n",
              "        vertical-align: middle;\n",
              "    }\n",
              "\n",
              "    .dataframe tbody tr th {\n",
              "        vertical-align: top;\n",
              "    }\n",
              "\n",
              "    .dataframe thead th {\n",
              "        text-align: right;\n",
              "    }\n",
              "</style>\n",
              "<table border=\"1\" class=\"dataframe\">\n",
              "  <thead>\n",
              "    <tr style=\"text-align: right;\">\n",
              "      <th></th>\n",
              "      <th>title</th>\n",
              "      <th>release_date</th>\n",
              "    </tr>\n",
              "  </thead>\n",
              "  <tbody>\n",
              "    <tr>\n",
              "      <th>49183</th>\n",
              "      <td>JPMorgan cautious ahead of Apple earnings</td>\n",
              "      <td>2020-01-28</td>\n",
              "    </tr>\n",
              "    <tr>\n",
              "      <th>49184</th>\n",
              "      <td>FAANG s Fall  but Get Some Wall Street Love</td>\n",
              "      <td>2020-01-28</td>\n",
              "    </tr>\n",
              "    <tr>\n",
              "      <th>49185</th>\n",
              "      <td>Wall Street tumbles as virus fuels economic worry</td>\n",
              "      <td>2020-01-28</td>\n",
              "    </tr>\n",
              "    <tr>\n",
              "      <th>49186</th>\n",
              "      <td>Earnings Watch  Apple and AMD to take earnings...</td>\n",
              "      <td>2020-01-28</td>\n",
              "    </tr>\n",
              "    <tr>\n",
              "      <th>49187</th>\n",
              "      <td>Day Ahead  Top 3 Things to Watch for Jan 28</td>\n",
              "      <td>2020-01-28</td>\n",
              "    </tr>\n",
              "  </tbody>\n",
              "</table>\n",
              "</div>"
            ],
            "text/plain": [
              "                                                   title release_date\n",
              "49183          JPMorgan cautious ahead of Apple earnings   2020-01-28\n",
              "49184        FAANG s Fall  but Get Some Wall Street Love   2020-01-28\n",
              "49185  Wall Street tumbles as virus fuels economic worry   2020-01-28\n",
              "49186  Earnings Watch  Apple and AMD to take earnings...   2020-01-28\n",
              "49187        Day Ahead  Top 3 Things to Watch for Jan 28   2020-01-28"
            ]
          },
          "execution_count": 51,
          "metadata": {},
          "output_type": "execute_result"
        }
      ],
      "source": [
        "apple_historical_news.head()"
      ]
    },
    {
      "cell_type": "code",
      "execution_count": 52,
      "metadata": {},
      "outputs": [
        {
          "data": {
            "text/plain": [
              "title           object\n",
              "release_date    object\n",
              "dtype: object"
            ]
          },
          "execution_count": 52,
          "metadata": {},
          "output_type": "execute_result"
        }
      ],
      "source": [
        "apple_historical_news.dtypes"
      ]
    },
    {
      "cell_type": "code",
      "execution_count": 53,
      "metadata": {},
      "outputs": [
        {
          "data": {
            "text/html": [
              "<div>\n",
              "<style scoped>\n",
              "    .dataframe tbody tr th:only-of-type {\n",
              "        vertical-align: middle;\n",
              "    }\n",
              "\n",
              "    .dataframe tbody tr th {\n",
              "        vertical-align: top;\n",
              "    }\n",
              "\n",
              "    .dataframe thead th {\n",
              "        text-align: right;\n",
              "    }\n",
              "</style>\n",
              "<table border=\"1\" class=\"dataframe\">\n",
              "  <thead>\n",
              "    <tr style=\"text-align: right;\">\n",
              "      <th></th>\n",
              "      <th>Unnamed: 0</th>\n",
              "      <th>TimeStamp</th>\n",
              "      <th>Headline</th>\n",
              "    </tr>\n",
              "  </thead>\n",
              "  <tbody>\n",
              "    <tr>\n",
              "      <th>0</th>\n",
              "      <td>0</td>\n",
              "      <td>June 23, 2022 03:30am EDT</td>\n",
              "      <td>Swiss detail revenue split for global minimum ...</td>\n",
              "    </tr>\n",
              "    <tr>\n",
              "      <th>1</th>\n",
              "      <td>1</td>\n",
              "      <td>June 22, 2022 03:11pm EDT</td>\n",
              "      <td>Meta and other tech giants form metaverse stan...</td>\n",
              "    </tr>\n",
              "    <tr>\n",
              "      <th>2</th>\n",
              "      <td>2</td>\n",
              "      <td>June 22, 2022 09:14am EDT</td>\n",
              "      <td>Shopify unveils new tools, Twitter tie-up to b...</td>\n",
              "    </tr>\n",
              "    <tr>\n",
              "      <th>3</th>\n",
              "      <td>3</td>\n",
              "      <td>June 22, 2022 05:55am EDT</td>\n",
              "      <td>Volkswagen CEO questions whether Apple plans t...</td>\n",
              "    </tr>\n",
              "    <tr>\n",
              "      <th>4</th>\n",
              "      <td>4</td>\n",
              "      <td>June 21, 2022 08:15pm EDT</td>\n",
              "      <td>Wall Street gains over 2% in broad rebound</td>\n",
              "    </tr>\n",
              "  </tbody>\n",
              "</table>\n",
              "</div>"
            ],
            "text/plain": [
              "   Unnamed: 0                  TimeStamp  \\\n",
              "0           0  June 23, 2022 03:30am EDT   \n",
              "1           1  June 22, 2022 03:11pm EDT   \n",
              "2           2  June 22, 2022 09:14am EDT   \n",
              "3           3  June 22, 2022 05:55am EDT   \n",
              "4           4  June 21, 2022 08:15pm EDT   \n",
              "\n",
              "                                            Headline  \n",
              "0  Swiss detail revenue split for global minimum ...  \n",
              "1  Meta and other tech giants form metaverse stan...  \n",
              "2  Shopify unveils new tools, Twitter tie-up to b...  \n",
              "3  Volkswagen CEO questions whether Apple plans t...  \n",
              "4         Wall Street gains over 2% in broad rebound  "
            ]
          },
          "execution_count": 53,
          "metadata": {},
          "output_type": "execute_result"
        }
      ],
      "source": [
        "latest_news.head()"
      ]
    },
    {
      "cell_type": "code",
      "execution_count": 54,
      "metadata": {},
      "outputs": [
        {
          "name": "stderr",
          "output_type": "stream",
          "text": [
            "c:\\Users\\ANSHU\\anaconda3\\envs\\gaip-tf\\lib\\site-packages\\dateutil\\parser\\_parser.py:1207: UnknownTimezoneWarning: tzname EDT identified but not understood.  Pass `tzinfos` argument in order to correctly return a timezone-aware datetime.  In a future version, this will raise an exception.\n",
            "  warnings.warn(\"tzname {tzname} identified but not understood.  \"\n",
            "c:\\Users\\ANSHU\\anaconda3\\envs\\gaip-tf\\lib\\site-packages\\dateutil\\parser\\_parser.py:1207: UnknownTimezoneWarning: tzname EST identified but not understood.  Pass `tzinfos` argument in order to correctly return a timezone-aware datetime.  In a future version, this will raise an exception.\n",
            "  warnings.warn(\"tzname {tzname} identified but not understood.  \"\n"
          ]
        },
        {
          "data": {
            "text/html": [
              "<div>\n",
              "<style scoped>\n",
              "    .dataframe tbody tr th:only-of-type {\n",
              "        vertical-align: middle;\n",
              "    }\n",
              "\n",
              "    .dataframe tbody tr th {\n",
              "        vertical-align: top;\n",
              "    }\n",
              "\n",
              "    .dataframe thead th {\n",
              "        text-align: right;\n",
              "    }\n",
              "</style>\n",
              "<table border=\"1\" class=\"dataframe\">\n",
              "  <thead>\n",
              "    <tr style=\"text-align: right;\">\n",
              "      <th></th>\n",
              "      <th>Unnamed: 0</th>\n",
              "      <th>TimeStamp</th>\n",
              "      <th>Headline</th>\n",
              "    </tr>\n",
              "  </thead>\n",
              "  <tbody>\n",
              "    <tr>\n",
              "      <th>0</th>\n",
              "      <td>0</td>\n",
              "      <td>2022-06-23</td>\n",
              "      <td>Swiss detail revenue split for global minimum ...</td>\n",
              "    </tr>\n",
              "    <tr>\n",
              "      <th>1</th>\n",
              "      <td>1</td>\n",
              "      <td>2022-06-22</td>\n",
              "      <td>Meta and other tech giants form metaverse stan...</td>\n",
              "    </tr>\n",
              "    <tr>\n",
              "      <th>2</th>\n",
              "      <td>2</td>\n",
              "      <td>2022-06-22</td>\n",
              "      <td>Shopify unveils new tools, Twitter tie-up to b...</td>\n",
              "    </tr>\n",
              "    <tr>\n",
              "      <th>3</th>\n",
              "      <td>3</td>\n",
              "      <td>2022-06-22</td>\n",
              "      <td>Volkswagen CEO questions whether Apple plans t...</td>\n",
              "    </tr>\n",
              "    <tr>\n",
              "      <th>4</th>\n",
              "      <td>4</td>\n",
              "      <td>2022-06-21</td>\n",
              "      <td>Wall Street gains over 2% in broad rebound</td>\n",
              "    </tr>\n",
              "  </tbody>\n",
              "</table>\n",
              "</div>"
            ],
            "text/plain": [
              "   Unnamed: 0   TimeStamp                                           Headline\n",
              "0           0  2022-06-23  Swiss detail revenue split for global minimum ...\n",
              "1           1  2022-06-22  Meta and other tech giants form metaverse stan...\n",
              "2           2  2022-06-22  Shopify unveils new tools, Twitter tie-up to b...\n",
              "3           3  2022-06-22  Volkswagen CEO questions whether Apple plans t...\n",
              "4           4  2022-06-21         Wall Street gains over 2% in broad rebound"
            ]
          },
          "execution_count": 54,
          "metadata": {},
          "output_type": "execute_result"
        }
      ],
      "source": [
        "latest_news['TimeStamp'] = pd.to_datetime(latest_news['TimeStamp']).dt.date\n",
        "latest_news.head()"
      ]
    },
    {
      "cell_type": "code",
      "execution_count": 55,
      "metadata": {},
      "outputs": [],
      "source": [
        "apple_historical_news['release_date'] = pd.to_datetime(apple_historical_news['release_date']).dt.date"
      ]
    },
    {
      "cell_type": "code",
      "execution_count": 59,
      "metadata": {},
      "outputs": [],
      "source": [
        "latest_news.drop([\"Unnamed: 0\"], axis=1, inplace=True)"
      ]
    },
    {
      "cell_type": "code",
      "execution_count": 62,
      "metadata": {},
      "outputs": [],
      "source": [
        "apple_historical_news.rename(columns={\"title\":\"Headline\", \"release_date\":\"TimeStamp\"}, inplace=True)"
      ]
    },
    {
      "cell_type": "code",
      "execution_count": 64,
      "metadata": {},
      "outputs": [],
      "source": [
        "new_data_frame = pd.concat([latest_news, apple_historical_news])"
      ]
    },
    {
      "cell_type": "code",
      "execution_count": 70,
      "metadata": {},
      "outputs": [],
      "source": [
        "new_data_frame.sort_values(by=['TimeStamp']).reset_index(inplace=True)"
      ]
    },
    {
      "cell_type": "code",
      "execution_count": 72,
      "metadata": {},
      "outputs": [],
      "source": [
        "new_data_frame.to_csv(\"news_data_aapl.csv\")"
      ]
    },
    {
      "cell_type": "code",
      "execution_count": null,
      "metadata": {},
      "outputs": [],
      "source": []
    }
  ],
  "metadata": {
    "colab": {
      "name": "historical_news.ipynb",
      "provenance": []
    },
    "kernelspec": {
      "display_name": "Python 3.9.12 ('gaip-tf')",
      "language": "python",
      "name": "python3"
    },
    "language_info": {
      "codemirror_mode": {
        "name": "ipython",
        "version": 3
      },
      "file_extension": ".py",
      "mimetype": "text/x-python",
      "name": "python",
      "nbconvert_exporter": "python",
      "pygments_lexer": "ipython3",
      "version": "3.9.12"
    },
    "orig_nbformat": 4,
    "vscode": {
      "interpreter": {
        "hash": "1b36a6aceba897fda56d7e90acf89496ac0a03fe03fb67196d25146dede7cb16"
      }
    }
  },
  "nbformat": 4,
  "nbformat_minor": 0
}
