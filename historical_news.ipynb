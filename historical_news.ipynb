{
  "cells": [
    {
      "cell_type": "code",
      "execution_count": 3,
      "metadata": {
        "id": "E6VDRGAbJIHu"
      },
      "outputs": [],
      "source": [
        "!pip install bs4\n",
        "!pip install requests\n",
        "!pip install html5lib\n",
        "!pip install selenium\n",
        "!pip install bs4\n",
        "!apt-get update # to update ubuntu to correctly run apt install\n",
        "!apt install chromium-chromedriver\n",
        "!cp /usr/lib/chromium-browser/chromedriver /usr/bin\n",
        "import sys\n",
        "sys.path.insert(0,'/usr/lib/chromium-browser/chromedriver')"
      ]
    },
    {
      "cell_type": "code",
      "execution_count": 9,
      "metadata": {
        "id": "Ojp7y3iKbIJ6"
      },
      "outputs": [],
      "source": [
        "from selenium import webdriver\n",
        "from selenium.webdriver.common.by import By\n",
        "from selenium.webdriver.support.ui import WebDriverWait\n",
        "from selenium.webdriver.support import expected_conditions as EC\n",
        "import datetime\n",
        "import time\n",
        "import pandas as pd\n",
        "from bs4 import BeautifulSoup"
      ]
    },
    {
      "cell_type": "code",
      "execution_count": 5,
      "metadata": {
        "id": "LTH4FzsjcE9v"
      },
      "outputs": [],
      "source": [
        "option = webdriver.ChromeOptions()\n",
        "option.add_argument(\"--headless\")\n",
        "option.add_argument(\"--disable-gpu\")\n",
        "option.add_argument(\"--window-size=1920,1200\")\n",
        "option.add_argument(\"--ignore-certificate-errors\")\n",
        "option.add_argument(\"--disable-extensions\")\n",
        "option.add_argument(\"--no-sandbox\")\n",
        "option.add_argument(\"--disable-dev-shm-usage\")\n",
        "\n",
        "driver = webdriver.Chrome(executable_path=\"chromedriver\", options=option)"
      ]
    },
    {
      "cell_type": "code",
      "execution_count": 6,
      "metadata": {
        "id": "rNMmwJSEcIdp"
      },
      "outputs": [],
      "source": [
        "search_blob = \"apple\""
      ]
    },
    {
      "cell_type": "code",
      "execution_count": 7,
      "metadata": {
        "colab": {
          "base_uri": "https://localhost:8080/"
        },
        "id": "bcpqThM0cH31",
        "outputId": "7c4daf58-3a90-4992-f0a1-1fc421f3ac28"
      },
      "outputs": [
        {
          "name": "stderr",
          "output_type": "stream",
          "text": [
            "C:\\Users\\ANSHU\\AppData\\Local\\Temp\\ipykernel_24756\\3533025564.py:4: DeprecationWarning: find_element_by_xpath is deprecated. Please use find_element(by=By.XPATH, value=xpath) instead\n",
            "  if(driver.find_element_by_xpath(\"/html/body/div[4]/section[2]/div/div[1]/div[4]/div/div[4]/div[1]\").text == \"NO MORE RESULTS\"):\n",
            "C:\\Users\\ANSHU\\AppData\\Local\\Temp\\ipykernel_24756\\3533025564.py:6: DeprecationWarning: find_element_by_xpath is deprecated. Please use find_element(by=By.XPATH, value=xpath) instead\n",
            "  driver.find_element_by_xpath(\"/html/body/div[4]/section[2]/div/div[1]/div[4]/div/div[4]/div[1]\").click()\n"
          ]
        }
      ],
      "source": [
        "driver.get(\"https://www.reuters.com/search/news?blob=\" + search_blob + \"&sortBy=date&dateRange=pastYear\")\n",
        "try:\n",
        "    while True:\n",
        "        if(driver.find_element_by_xpath(\"/html/body/div[4]/section[2]/div/div[1]/div[4]/div/div[4]/div[1]\").text == \"NO MORE RESULTS\"):\n",
        "            break\n",
        "        driver.find_element_by_xpath(\"/html/body/div[4]/section[2]/div/div[1]/div[4]/div/div[4]/div[1]\").click()\n",
        "        time.sleep(0.1)\n",
        "except:\n",
        "        webpage_source = driver.page_source\n",
        "        while True:\n",
        "            continue\n",
        "webpage_source = driver.page_source\n",
        "time.sleep(10)\n",
        "driver.close()"
      ]
    },
    {
      "cell_type": "code",
      "execution_count": 10,
      "metadata": {
        "id": "duJHTIZqOGoG"
      },
      "outputs": [],
      "source": [
        "soup = BeautifulSoup(webpage_source, 'html.parser') "
      ]
    },
    {
      "cell_type": "code",
      "execution_count": 11,
      "metadata": {
        "id": "BhWiggkGTsoC"
      },
      "outputs": [],
      "source": [
        "headings = soup.find_all('h3', class_=\"search-result-title\")"
      ]
    },
    {
      "cell_type": "code",
      "execution_count": 12,
      "metadata": {
        "id": "nlPlAyOUTuT1"
      },
      "outputs": [],
      "source": [
        "time_stamp = soup.find_all('h5', class_=\"search-result-timestamp\")"
      ]
    },
    {
      "cell_type": "code",
      "execution_count": 13,
      "metadata": {
        "id": "6_uowwcUXKCR"
      },
      "outputs": [],
      "source": [
        "for i in range(len(headings)):\n",
        "  headings[i] = headings[i].text\n",
        "  time_stamp[i] = time_stamp[i].text"
      ]
    },
    {
      "cell_type": "code",
      "execution_count": 14,
      "metadata": {
        "id": "tRad2nfiWfHX"
      },
      "outputs": [],
      "source": [
        "df = pd.DataFrame(list(zip(time_stamp, headings)), columns=[\"TimeStamp\", \"Headline\"])"
      ]
    },
    {
      "cell_type": "code",
      "execution_count": 15,
      "metadata": {
        "id": "tBJg85V0WwUh"
      },
      "outputs": [
        {
          "data": {
            "text/html": [
              "<div>\n",
              "<style scoped>\n",
              "    .dataframe tbody tr th:only-of-type {\n",
              "        vertical-align: middle;\n",
              "    }\n",
              "\n",
              "    .dataframe tbody tr th {\n",
              "        vertical-align: top;\n",
              "    }\n",
              "\n",
              "    .dataframe thead th {\n",
              "        text-align: right;\n",
              "    }\n",
              "</style>\n",
              "<table border=\"1\" class=\"dataframe\">\n",
              "  <thead>\n",
              "    <tr style=\"text-align: right;\">\n",
              "      <th></th>\n",
              "      <th>TimeStamp</th>\n",
              "      <th>Headline</th>\n",
              "    </tr>\n",
              "  </thead>\n",
              "  <tbody>\n",
              "    <tr>\n",
              "      <th>0</th>\n",
              "      <td>June 23, 2022 03:30am EDT</td>\n",
              "      <td>Swiss detail revenue split for global minimum ...</td>\n",
              "    </tr>\n",
              "    <tr>\n",
              "      <th>1</th>\n",
              "      <td>June 22, 2022 03:11pm EDT</td>\n",
              "      <td>Meta and other tech giants form metaverse stan...</td>\n",
              "    </tr>\n",
              "    <tr>\n",
              "      <th>2</th>\n",
              "      <td>June 22, 2022 09:14am EDT</td>\n",
              "      <td>Shopify unveils new tools, Twitter tie-up to b...</td>\n",
              "    </tr>\n",
              "    <tr>\n",
              "      <th>3</th>\n",
              "      <td>June 22, 2022 05:55am EDT</td>\n",
              "      <td>Volkswagen CEO questions whether Apple plans t...</td>\n",
              "    </tr>\n",
              "    <tr>\n",
              "      <th>4</th>\n",
              "      <td>June 21, 2022 08:15pm EDT</td>\n",
              "      <td>Wall Street gains over 2% in broad rebound</td>\n",
              "    </tr>\n",
              "  </tbody>\n",
              "</table>\n",
              "</div>"
            ],
            "text/plain": [
              "                   TimeStamp  \\\n",
              "0  June 23, 2022 03:30am EDT   \n",
              "1  June 22, 2022 03:11pm EDT   \n",
              "2  June 22, 2022 09:14am EDT   \n",
              "3  June 22, 2022 05:55am EDT   \n",
              "4  June 21, 2022 08:15pm EDT   \n",
              "\n",
              "                                            Headline  \n",
              "0  Swiss detail revenue split for global minimum ...  \n",
              "1  Meta and other tech giants form metaverse stan...  \n",
              "2  Shopify unveils new tools, Twitter tie-up to b...  \n",
              "3  Volkswagen CEO questions whether Apple plans t...  \n",
              "4         Wall Street gains over 2% in broad rebound  "
            ]
          },
          "execution_count": 15,
          "metadata": {},
          "output_type": "execute_result"
        }
      ],
      "source": [
        "df.head()"
      ]
    },
    {
      "cell_type": "code",
      "execution_count": 16,
      "metadata": {
        "id": "cTjnborfXFmg"
      },
      "outputs": [],
      "source": [
        "df.to_csv(\"news_\" + search_blob +\".csv\")"
      ]
    },
    {
      "cell_type": "code",
      "execution_count": null,
      "metadata": {
        "id": "GpJeWawdXapu"
      },
      "outputs": [],
      "source": []
    }
  ],
  "metadata": {
    "colab": {
      "name": "historical_news.ipynb",
      "provenance": []
    },
    "kernelspec": {
      "display_name": "Python 3.9.12 ('gaip-tf')",
      "language": "python",
      "name": "python3"
    },
    "language_info": {
      "codemirror_mode": {
        "name": "ipython",
        "version": 3
      },
      "file_extension": ".py",
      "mimetype": "text/x-python",
      "name": "python",
      "nbconvert_exporter": "python",
      "pygments_lexer": "ipython3",
      "version": "3.9.12"
    },
    "orig_nbformat": 4,
    "vscode": {
      "interpreter": {
        "hash": "1b36a6aceba897fda56d7e90acf89496ac0a03fe03fb67196d25146dede7cb16"
      }
    }
  },
  "nbformat": 4,
  "nbformat_minor": 0
}
