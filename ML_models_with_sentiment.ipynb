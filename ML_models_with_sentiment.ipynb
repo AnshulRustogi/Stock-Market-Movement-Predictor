{
  "cells": [
    {
      "cell_type": "code",
      "execution_count": 21,
      "metadata": {
        "id": "11OWjs4eE39z"
      },
      "outputs": [],
      "source": [
        "import pandas as pd\n",
        "import numpy as np"
      ]
    },
    {
      "cell_type": "code",
      "execution_count": 24,
      "metadata": {
        "id": "5RGKWKkUMLpB"
      },
      "outputs": [],
      "source": [
        "stock = pd.read_csv('final_stock_data.csv')"
      ]
    },
    {
      "cell_type": "code",
      "execution_count": 25,
      "metadata": {
        "colab": {
          "base_uri": "https://localhost:8080/",
          "height": 206
        },
        "id": "6pAhA9sxMQr0",
        "outputId": "ccb0c23a-ba55-4812-ea45-9891b11f5bb1"
      },
      "outputs": [
        {
          "data": {
            "text/html": [
              "<div>\n",
              "<style scoped>\n",
              "    .dataframe tbody tr th:only-of-type {\n",
              "        vertical-align: middle;\n",
              "    }\n",
              "\n",
              "    .dataframe tbody tr th {\n",
              "        vertical-align: top;\n",
              "    }\n",
              "\n",
              "    .dataframe thead th {\n",
              "        text-align: right;\n",
              "    }\n",
              "</style>\n",
              "<table border=\"1\" class=\"dataframe\">\n",
              "  <thead>\n",
              "    <tr style=\"text-align: right;\">\n",
              "      <th></th>\n",
              "      <th>Date</th>\n",
              "      <th>Open</th>\n",
              "      <th>High</th>\n",
              "      <th>Low</th>\n",
              "      <th>Close</th>\n",
              "      <th>Volume</th>\n",
              "      <th>Dividends</th>\n",
              "      <th>Stock Splits</th>\n",
              "      <th>Movement</th>\n",
              "    </tr>\n",
              "  </thead>\n",
              "  <tbody>\n",
              "    <tr>\n",
              "      <th>0</th>\n",
              "      <td>2012-07-16</td>\n",
              "      <td>18.478158</td>\n",
              "      <td>18.676643</td>\n",
              "      <td>18.475103</td>\n",
              "      <td>18.532818</td>\n",
              "      <td>301260400</td>\n",
              "      <td>0.0</td>\n",
              "      <td>0.0</td>\n",
              "      <td>1</td>\n",
              "    </tr>\n",
              "    <tr>\n",
              "      <th>1</th>\n",
              "      <td>2012-07-19</td>\n",
              "      <td>18.666261</td>\n",
              "      <td>18.790544</td>\n",
              "      <td>18.505029</td>\n",
              "      <td>18.759092</td>\n",
              "      <td>436861600</td>\n",
              "      <td>0.0</td>\n",
              "      <td>0.0</td>\n",
              "      <td>1</td>\n",
              "    </tr>\n",
              "    <tr>\n",
              "      <th>2</th>\n",
              "      <td>2012-07-23</td>\n",
              "      <td>18.150808</td>\n",
              "      <td>18.501977</td>\n",
              "      <td>17.946521</td>\n",
              "      <td>18.438766</td>\n",
              "      <td>487975600</td>\n",
              "      <td>0.0</td>\n",
              "      <td>0.0</td>\n",
              "      <td>0</td>\n",
              "    </tr>\n",
              "    <tr>\n",
              "      <th>3</th>\n",
              "      <td>2012-07-24</td>\n",
              "      <td>18.547165</td>\n",
              "      <td>18.617399</td>\n",
              "      <td>18.276307</td>\n",
              "      <td>18.349901</td>\n",
              "      <td>565132400</td>\n",
              "      <td>0.0</td>\n",
              "      <td>0.0</td>\n",
              "      <td>0</td>\n",
              "    </tr>\n",
              "    <tr>\n",
              "      <th>4</th>\n",
              "      <td>2012-07-27</td>\n",
              "      <td>17.558705</td>\n",
              "      <td>17.889109</td>\n",
              "      <td>17.454271</td>\n",
              "      <td>17.868649</td>\n",
              "      <td>403936400</td>\n",
              "      <td>0.0</td>\n",
              "      <td>0.0</td>\n",
              "      <td>1</td>\n",
              "    </tr>\n",
              "  </tbody>\n",
              "</table>\n",
              "</div>"
            ],
            "text/plain": [
              "         Date       Open       High        Low      Close     Volume  \\\n",
              "0  2012-07-16  18.478158  18.676643  18.475103  18.532818  301260400   \n",
              "1  2012-07-19  18.666261  18.790544  18.505029  18.759092  436861600   \n",
              "2  2012-07-23  18.150808  18.501977  17.946521  18.438766  487975600   \n",
              "3  2012-07-24  18.547165  18.617399  18.276307  18.349901  565132400   \n",
              "4  2012-07-27  17.558705  17.889109  17.454271  17.868649  403936400   \n",
              "\n",
              "   Dividends  Stock Splits  Movement  \n",
              "0        0.0           0.0         1  \n",
              "1        0.0           0.0         1  \n",
              "2        0.0           0.0         0  \n",
              "3        0.0           0.0         0  \n",
              "4        0.0           0.0         1  "
            ]
          },
          "execution_count": 25,
          "metadata": {},
          "output_type": "execute_result"
        }
      ],
      "source": [
        "stock.head()"
      ]
    },
    {
      "cell_type": "code",
      "execution_count": 26,
      "metadata": {
        "id": "CdRU7iN-MT5W"
      },
      "outputs": [],
      "source": [
        "labels = pd.read_csv('news_label.csv')"
      ]
    },
    {
      "cell_type": "code",
      "execution_count": 27,
      "metadata": {
        "colab": {
          "base_uri": "https://localhost:8080/",
          "height": 206
        },
        "id": "_kxphjqfMuiJ",
        "outputId": "c4926531-7e4d-4505-e40b-d35e765623bb"
      },
      "outputs": [
        {
          "data": {
            "text/html": [
              "<div>\n",
              "<style scoped>\n",
              "    .dataframe tbody tr th:only-of-type {\n",
              "        vertical-align: middle;\n",
              "    }\n",
              "\n",
              "    .dataframe tbody tr th {\n",
              "        vertical-align: top;\n",
              "    }\n",
              "\n",
              "    .dataframe thead th {\n",
              "        text-align: right;\n",
              "    }\n",
              "</style>\n",
              "<table border=\"1\" class=\"dataframe\">\n",
              "  <thead>\n",
              "    <tr style=\"text-align: right;\">\n",
              "      <th></th>\n",
              "      <th>Date</th>\n",
              "      <th>Sentiment</th>\n",
              "    </tr>\n",
              "  </thead>\n",
              "  <tbody>\n",
              "    <tr>\n",
              "      <th>0</th>\n",
              "      <td>2012-07-16</td>\n",
              "      <td>0.0</td>\n",
              "    </tr>\n",
              "    <tr>\n",
              "      <th>1</th>\n",
              "      <td>2012-07-19</td>\n",
              "      <td>0.0</td>\n",
              "    </tr>\n",
              "    <tr>\n",
              "      <th>2</th>\n",
              "      <td>2012-07-23</td>\n",
              "      <td>0.0</td>\n",
              "    </tr>\n",
              "    <tr>\n",
              "      <th>3</th>\n",
              "      <td>2012-07-24</td>\n",
              "      <td>0.0</td>\n",
              "    </tr>\n",
              "    <tr>\n",
              "      <th>4</th>\n",
              "      <td>2012-07-27</td>\n",
              "      <td>0.0</td>\n",
              "    </tr>\n",
              "  </tbody>\n",
              "</table>\n",
              "</div>"
            ],
            "text/plain": [
              "         Date  Sentiment\n",
              "0  2012-07-16        0.0\n",
              "1  2012-07-19        0.0\n",
              "2  2012-07-23        0.0\n",
              "3  2012-07-24        0.0\n",
              "4  2012-07-27        0.0"
            ]
          },
          "execution_count": 27,
          "metadata": {},
          "output_type": "execute_result"
        }
      ],
      "source": [
        "labels.head()"
      ]
    },
    {
      "cell_type": "code",
      "execution_count": 28,
      "metadata": {
        "id": "ZxEywx58MxMb"
      },
      "outputs": [],
      "source": [
        "final = pd.merge(stock, labels) "
      ]
    },
    {
      "cell_type": "code",
      "execution_count": 29,
      "metadata": {
        "colab": {
          "base_uri": "https://localhost:8080/",
          "height": 206
        },
        "id": "jhf0Px5kNIZ6",
        "outputId": "96258659-cba5-489e-ca96-666696e0674d"
      },
      "outputs": [
        {
          "data": {
            "text/html": [
              "<div>\n",
              "<style scoped>\n",
              "    .dataframe tbody tr th:only-of-type {\n",
              "        vertical-align: middle;\n",
              "    }\n",
              "\n",
              "    .dataframe tbody tr th {\n",
              "        vertical-align: top;\n",
              "    }\n",
              "\n",
              "    .dataframe thead th {\n",
              "        text-align: right;\n",
              "    }\n",
              "</style>\n",
              "<table border=\"1\" class=\"dataframe\">\n",
              "  <thead>\n",
              "    <tr style=\"text-align: right;\">\n",
              "      <th></th>\n",
              "      <th>Date</th>\n",
              "      <th>Open</th>\n",
              "      <th>High</th>\n",
              "      <th>Low</th>\n",
              "      <th>Close</th>\n",
              "      <th>Volume</th>\n",
              "      <th>Dividends</th>\n",
              "      <th>Stock Splits</th>\n",
              "      <th>Movement</th>\n",
              "      <th>Sentiment</th>\n",
              "    </tr>\n",
              "  </thead>\n",
              "  <tbody>\n",
              "    <tr>\n",
              "      <th>0</th>\n",
              "      <td>2012-07-16</td>\n",
              "      <td>18.478158</td>\n",
              "      <td>18.676643</td>\n",
              "      <td>18.475103</td>\n",
              "      <td>18.532818</td>\n",
              "      <td>301260400</td>\n",
              "      <td>0.0</td>\n",
              "      <td>0.0</td>\n",
              "      <td>1</td>\n",
              "      <td>0.0</td>\n",
              "    </tr>\n",
              "    <tr>\n",
              "      <th>1</th>\n",
              "      <td>2012-07-19</td>\n",
              "      <td>18.666261</td>\n",
              "      <td>18.790544</td>\n",
              "      <td>18.505029</td>\n",
              "      <td>18.759092</td>\n",
              "      <td>436861600</td>\n",
              "      <td>0.0</td>\n",
              "      <td>0.0</td>\n",
              "      <td>1</td>\n",
              "      <td>0.0</td>\n",
              "    </tr>\n",
              "    <tr>\n",
              "      <th>2</th>\n",
              "      <td>2012-07-23</td>\n",
              "      <td>18.150808</td>\n",
              "      <td>18.501977</td>\n",
              "      <td>17.946521</td>\n",
              "      <td>18.438766</td>\n",
              "      <td>487975600</td>\n",
              "      <td>0.0</td>\n",
              "      <td>0.0</td>\n",
              "      <td>0</td>\n",
              "      <td>0.0</td>\n",
              "    </tr>\n",
              "    <tr>\n",
              "      <th>3</th>\n",
              "      <td>2012-07-24</td>\n",
              "      <td>18.547165</td>\n",
              "      <td>18.617399</td>\n",
              "      <td>18.276307</td>\n",
              "      <td>18.349901</td>\n",
              "      <td>565132400</td>\n",
              "      <td>0.0</td>\n",
              "      <td>0.0</td>\n",
              "      <td>0</td>\n",
              "      <td>0.0</td>\n",
              "    </tr>\n",
              "    <tr>\n",
              "      <th>4</th>\n",
              "      <td>2012-07-27</td>\n",
              "      <td>17.558705</td>\n",
              "      <td>17.889109</td>\n",
              "      <td>17.454271</td>\n",
              "      <td>17.868649</td>\n",
              "      <td>403936400</td>\n",
              "      <td>0.0</td>\n",
              "      <td>0.0</td>\n",
              "      <td>1</td>\n",
              "      <td>0.0</td>\n",
              "    </tr>\n",
              "  </tbody>\n",
              "</table>\n",
              "</div>"
            ],
            "text/plain": [
              "         Date       Open       High        Low      Close     Volume  \\\n",
              "0  2012-07-16  18.478158  18.676643  18.475103  18.532818  301260400   \n",
              "1  2012-07-19  18.666261  18.790544  18.505029  18.759092  436861600   \n",
              "2  2012-07-23  18.150808  18.501977  17.946521  18.438766  487975600   \n",
              "3  2012-07-24  18.547165  18.617399  18.276307  18.349901  565132400   \n",
              "4  2012-07-27  17.558705  17.889109  17.454271  17.868649  403936400   \n",
              "\n",
              "   Dividends  Stock Splits  Movement  Sentiment  \n",
              "0        0.0           0.0         1        0.0  \n",
              "1        0.0           0.0         1        0.0  \n",
              "2        0.0           0.0         0        0.0  \n",
              "3        0.0           0.0         0        0.0  \n",
              "4        0.0           0.0         1        0.0  "
            ]
          },
          "execution_count": 29,
          "metadata": {},
          "output_type": "execute_result"
        }
      ],
      "source": [
        "final.head()"
      ]
    },
    {
      "cell_type": "code",
      "execution_count": 30,
      "metadata": {
        "id": "C1ws6g5_NKGJ"
      },
      "outputs": [],
      "source": [
        "final = final.drop(['Dividends','Stock Splits','Date'], axis=1)"
      ]
    },
    {
      "cell_type": "code",
      "execution_count": 31,
      "metadata": {
        "colab": {
          "base_uri": "https://localhost:8080/",
          "height": 206
        },
        "id": "R3DKzQamNTwn",
        "outputId": "cd1727ac-68a9-42ca-de3a-5d04c4ae2c84"
      },
      "outputs": [
        {
          "data": {
            "text/html": [
              "<div>\n",
              "<style scoped>\n",
              "    .dataframe tbody tr th:only-of-type {\n",
              "        vertical-align: middle;\n",
              "    }\n",
              "\n",
              "    .dataframe tbody tr th {\n",
              "        vertical-align: top;\n",
              "    }\n",
              "\n",
              "    .dataframe thead th {\n",
              "        text-align: right;\n",
              "    }\n",
              "</style>\n",
              "<table border=\"1\" class=\"dataframe\">\n",
              "  <thead>\n",
              "    <tr style=\"text-align: right;\">\n",
              "      <th></th>\n",
              "      <th>Open</th>\n",
              "      <th>High</th>\n",
              "      <th>Low</th>\n",
              "      <th>Close</th>\n",
              "      <th>Volume</th>\n",
              "      <th>Movement</th>\n",
              "      <th>Sentiment</th>\n",
              "    </tr>\n",
              "  </thead>\n",
              "  <tbody>\n",
              "    <tr>\n",
              "      <th>0</th>\n",
              "      <td>18.478158</td>\n",
              "      <td>18.676643</td>\n",
              "      <td>18.475103</td>\n",
              "      <td>18.532818</td>\n",
              "      <td>301260400</td>\n",
              "      <td>1</td>\n",
              "      <td>0.0</td>\n",
              "    </tr>\n",
              "    <tr>\n",
              "      <th>1</th>\n",
              "      <td>18.666261</td>\n",
              "      <td>18.790544</td>\n",
              "      <td>18.505029</td>\n",
              "      <td>18.759092</td>\n",
              "      <td>436861600</td>\n",
              "      <td>1</td>\n",
              "      <td>0.0</td>\n",
              "    </tr>\n",
              "    <tr>\n",
              "      <th>2</th>\n",
              "      <td>18.150808</td>\n",
              "      <td>18.501977</td>\n",
              "      <td>17.946521</td>\n",
              "      <td>18.438766</td>\n",
              "      <td>487975600</td>\n",
              "      <td>0</td>\n",
              "      <td>0.0</td>\n",
              "    </tr>\n",
              "    <tr>\n",
              "      <th>3</th>\n",
              "      <td>18.547165</td>\n",
              "      <td>18.617399</td>\n",
              "      <td>18.276307</td>\n",
              "      <td>18.349901</td>\n",
              "      <td>565132400</td>\n",
              "      <td>0</td>\n",
              "      <td>0.0</td>\n",
              "    </tr>\n",
              "    <tr>\n",
              "      <th>4</th>\n",
              "      <td>17.558705</td>\n",
              "      <td>17.889109</td>\n",
              "      <td>17.454271</td>\n",
              "      <td>17.868649</td>\n",
              "      <td>403936400</td>\n",
              "      <td>1</td>\n",
              "      <td>0.0</td>\n",
              "    </tr>\n",
              "  </tbody>\n",
              "</table>\n",
              "</div>"
            ],
            "text/plain": [
              "        Open       High        Low      Close     Volume  Movement  Sentiment\n",
              "0  18.478158  18.676643  18.475103  18.532818  301260400         1        0.0\n",
              "1  18.666261  18.790544  18.505029  18.759092  436861600         1        0.0\n",
              "2  18.150808  18.501977  17.946521  18.438766  487975600         0        0.0\n",
              "3  18.547165  18.617399  18.276307  18.349901  565132400         0        0.0\n",
              "4  17.558705  17.889109  17.454271  17.868649  403936400         1        0.0"
            ]
          },
          "execution_count": 31,
          "metadata": {},
          "output_type": "execute_result"
        }
      ],
      "source": [
        "final.head()"
      ]
    },
    {
      "cell_type": "code",
      "execution_count": 32,
      "metadata": {
        "colab": {
          "base_uri": "https://localhost:8080/"
        },
        "id": "10moQZHlNhxN",
        "outputId": "1714c747-9380-4357-e3b3-9ce440b9e121"
      },
      "outputs": [
        {
          "data": {
            "text/plain": [
              " 0.000000    457\n",
              " 0.500000    106\n",
              " 0.333333     79\n",
              " 0.250000     73\n",
              " 1.000000     61\n",
              "            ... \n",
              " 0.545455      1\n",
              "-0.045455      1\n",
              " 0.508475      1\n",
              " 0.391304      1\n",
              "-0.833333      1\n",
              "Name: Sentiment, Length: 275, dtype: int64"
            ]
          },
          "execution_count": 32,
          "metadata": {},
          "output_type": "execute_result"
        }
      ],
      "source": [
        "final['Sentiment'].value_counts()"
      ]
    },
    {
      "cell_type": "code",
      "execution_count": 33,
      "metadata": {
        "colab": {
          "base_uri": "https://localhost:8080/"
        },
        "id": "1M0L4228NqfX",
        "outputId": "2a5aeced-9416-41b1-97e5-f0ac918cb0e6"
      },
      "outputs": [
        {
          "name": "stdout",
          "output_type": "stream",
          "text": [
            "<class 'pandas.core.frame.DataFrame'>\n",
            "Int64Index: 1991 entries, 0 to 1990\n",
            "Data columns (total 7 columns):\n",
            " #   Column     Non-Null Count  Dtype  \n",
            "---  ------     --------------  -----  \n",
            " 0   Open       1991 non-null   float64\n",
            " 1   High       1991 non-null   float64\n",
            " 2   Low        1991 non-null   float64\n",
            " 3   Close      1991 non-null   float64\n",
            " 4   Volume     1991 non-null   int64  \n",
            " 5   Movement   1991 non-null   int64  \n",
            " 6   Sentiment  1991 non-null   float64\n",
            "dtypes: float64(5), int64(2)\n",
            "memory usage: 124.4 KB\n"
          ]
        }
      ],
      "source": [
        "final.info()"
      ]
    },
    {
      "cell_type": "code",
      "execution_count": 34,
      "metadata": {
        "colab": {
          "base_uri": "https://localhost:8080/",
          "height": 269
        },
        "id": "VRqOg4QLN8Xu",
        "outputId": "d1018a71-301e-4c4d-9ae0-a039fcaaa646"
      },
      "outputs": [
        {
          "data": {
            "text/html": [
              "<div>\n",
              "<style scoped>\n",
              "    .dataframe tbody tr th:only-of-type {\n",
              "        vertical-align: middle;\n",
              "    }\n",
              "\n",
              "    .dataframe tbody tr th {\n",
              "        vertical-align: top;\n",
              "    }\n",
              "\n",
              "    .dataframe thead th {\n",
              "        text-align: right;\n",
              "    }\n",
              "</style>\n",
              "<table border=\"1\" class=\"dataframe\">\n",
              "  <thead>\n",
              "    <tr style=\"text-align: right;\">\n",
              "      <th></th>\n",
              "      <th>Open</th>\n",
              "      <th>High</th>\n",
              "      <th>Low</th>\n",
              "      <th>Close</th>\n",
              "      <th>Volume</th>\n",
              "      <th>Movement</th>\n",
              "      <th>Sentiment</th>\n",
              "    </tr>\n",
              "  </thead>\n",
              "  <tbody>\n",
              "    <tr>\n",
              "      <th>Open</th>\n",
              "      <td>1.000000</td>\n",
              "      <td>0.999912</td>\n",
              "      <td>0.999892</td>\n",
              "      <td>0.999749</td>\n",
              "      <td>-0.390073</td>\n",
              "      <td>-0.005057</td>\n",
              "      <td>-0.049931</td>\n",
              "    </tr>\n",
              "    <tr>\n",
              "      <th>High</th>\n",
              "      <td>0.999912</td>\n",
              "      <td>1.000000</td>\n",
              "      <td>0.999875</td>\n",
              "      <td>0.999879</td>\n",
              "      <td>-0.388443</td>\n",
              "      <td>-0.001179</td>\n",
              "      <td>-0.050084</td>\n",
              "    </tr>\n",
              "    <tr>\n",
              "      <th>Low</th>\n",
              "      <td>0.999892</td>\n",
              "      <td>0.999875</td>\n",
              "      <td>1.000000</td>\n",
              "      <td>0.999890</td>\n",
              "      <td>-0.392467</td>\n",
              "      <td>0.000166</td>\n",
              "      <td>-0.049125</td>\n",
              "    </tr>\n",
              "    <tr>\n",
              "      <th>Close</th>\n",
              "      <td>0.999749</td>\n",
              "      <td>0.999879</td>\n",
              "      <td>0.999890</td>\n",
              "      <td>1.000000</td>\n",
              "      <td>-0.390661</td>\n",
              "      <td>0.004701</td>\n",
              "      <td>-0.048916</td>\n",
              "    </tr>\n",
              "    <tr>\n",
              "      <th>Volume</th>\n",
              "      <td>-0.390073</td>\n",
              "      <td>-0.388443</td>\n",
              "      <td>-0.392467</td>\n",
              "      <td>-0.390661</td>\n",
              "      <td>1.000000</td>\n",
              "      <td>-0.065470</td>\n",
              "      <td>-0.067169</td>\n",
              "    </tr>\n",
              "    <tr>\n",
              "      <th>Movement</th>\n",
              "      <td>-0.005057</td>\n",
              "      <td>-0.001179</td>\n",
              "      <td>0.000166</td>\n",
              "      <td>0.004701</td>\n",
              "      <td>-0.065470</td>\n",
              "      <td>1.000000</td>\n",
              "      <td>0.050534</td>\n",
              "    </tr>\n",
              "    <tr>\n",
              "      <th>Sentiment</th>\n",
              "      <td>-0.049931</td>\n",
              "      <td>-0.050084</td>\n",
              "      <td>-0.049125</td>\n",
              "      <td>-0.048916</td>\n",
              "      <td>-0.067169</td>\n",
              "      <td>0.050534</td>\n",
              "      <td>1.000000</td>\n",
              "    </tr>\n",
              "  </tbody>\n",
              "</table>\n",
              "</div>"
            ],
            "text/plain": [
              "               Open      High       Low     Close    Volume  Movement  \\\n",
              "Open       1.000000  0.999912  0.999892  0.999749 -0.390073 -0.005057   \n",
              "High       0.999912  1.000000  0.999875  0.999879 -0.388443 -0.001179   \n",
              "Low        0.999892  0.999875  1.000000  0.999890 -0.392467  0.000166   \n",
              "Close      0.999749  0.999879  0.999890  1.000000 -0.390661  0.004701   \n",
              "Volume    -0.390073 -0.388443 -0.392467 -0.390661  1.000000 -0.065470   \n",
              "Movement  -0.005057 -0.001179  0.000166  0.004701 -0.065470  1.000000   \n",
              "Sentiment -0.049931 -0.050084 -0.049125 -0.048916 -0.067169  0.050534   \n",
              "\n",
              "           Sentiment  \n",
              "Open       -0.049931  \n",
              "High       -0.050084  \n",
              "Low        -0.049125  \n",
              "Close      -0.048916  \n",
              "Volume     -0.067169  \n",
              "Movement    0.050534  \n",
              "Sentiment   1.000000  "
            ]
          },
          "execution_count": 34,
          "metadata": {},
          "output_type": "execute_result"
        }
      ],
      "source": [
        "final.corr(method='pearson')"
      ]
    },
    {
      "cell_type": "code",
      "execution_count": 35,
      "metadata": {
        "colab": {
          "base_uri": "https://localhost:8080/",
          "height": 329
        },
        "id": "txD2NK01N_tK",
        "outputId": "91bc61b4-7dec-45f6-cac0-9fba7962d4fe"
      },
      "outputs": [
        {
          "data": {
            "text/plain": [
              "<AxesSubplot:>"
            ]
          },
          "execution_count": 35,
          "metadata": {},
          "output_type": "execute_result"
        },
        {
          "data": {
            "image/png": "[encoded data removed]",
            "text/plain": [
              "<Figure size 432x288 with 2 Axes>"
            ]
          },
          "metadata": {
            "needs_background": "light"
          },
          "output_type": "display_data"
        }
      ],
      "source": [
        "import seaborn as sns\n",
        "sns.heatmap(final.corr(), linewidth=0.5, annot=True)"
      ]
    },
    {
      "cell_type": "code",
      "execution_count": 36,
      "metadata": {
        "colab": {
          "base_uri": "https://localhost:8080/",
          "height": 424
        },
        "id": "EZJa0prEzth9",
        "outputId": "0a6bc775-6cb0-48ea-8b60-ef75aafeac03"
      },
      "outputs": [
        {
          "data": {
            "text/html": [
              "<div>\n",
              "<style scoped>\n",
              "    .dataframe tbody tr th:only-of-type {\n",
              "        vertical-align: middle;\n",
              "    }\n",
              "\n",
              "    .dataframe tbody tr th {\n",
              "        vertical-align: top;\n",
              "    }\n",
              "\n",
              "    .dataframe thead th {\n",
              "        text-align: right;\n",
              "    }\n",
              "</style>\n",
              "<table border=\"1\" class=\"dataframe\">\n",
              "  <thead>\n",
              "    <tr style=\"text-align: right;\">\n",
              "      <th></th>\n",
              "      <th>Open</th>\n",
              "      <th>High</th>\n",
              "      <th>Low</th>\n",
              "      <th>Close</th>\n",
              "      <th>Volume</th>\n",
              "      <th>Movement</th>\n",
              "      <th>Sentiment</th>\n",
              "      <th>Close next data</th>\n",
              "    </tr>\n",
              "  </thead>\n",
              "  <tbody>\n",
              "    <tr>\n",
              "      <th>0</th>\n",
              "      <td>18.478158</td>\n",
              "      <td>18.676643</td>\n",
              "      <td>18.475103</td>\n",
              "      <td>18.532818</td>\n",
              "      <td>301260400</td>\n",
              "      <td>1</td>\n",
              "      <td>0.000000</td>\n",
              "      <td>18.759092</td>\n",
              "    </tr>\n",
              "    <tr>\n",
              "      <th>1</th>\n",
              "      <td>18.666261</td>\n",
              "      <td>18.790544</td>\n",
              "      <td>18.505029</td>\n",
              "      <td>18.759092</td>\n",
              "      <td>436861600</td>\n",
              "      <td>1</td>\n",
              "      <td>0.000000</td>\n",
              "      <td>18.438766</td>\n",
              "    </tr>\n",
              "    <tr>\n",
              "      <th>2</th>\n",
              "      <td>18.150808</td>\n",
              "      <td>18.501977</td>\n",
              "      <td>17.946521</td>\n",
              "      <td>18.438766</td>\n",
              "      <td>487975600</td>\n",
              "      <td>0</td>\n",
              "      <td>0.000000</td>\n",
              "      <td>18.349901</td>\n",
              "    </tr>\n",
              "    <tr>\n",
              "      <th>3</th>\n",
              "      <td>18.547165</td>\n",
              "      <td>18.617399</td>\n",
              "      <td>18.276307</td>\n",
              "      <td>18.349901</td>\n",
              "      <td>565132400</td>\n",
              "      <td>0</td>\n",
              "      <td>0.000000</td>\n",
              "      <td>17.868649</td>\n",
              "    </tr>\n",
              "    <tr>\n",
              "      <th>4</th>\n",
              "      <td>17.558705</td>\n",
              "      <td>17.889109</td>\n",
              "      <td>17.454271</td>\n",
              "      <td>17.868649</td>\n",
              "      <td>403936400</td>\n",
              "      <td>1</td>\n",
              "      <td>0.000000</td>\n",
              "      <td>18.170046</td>\n",
              "    </tr>\n",
              "    <tr>\n",
              "      <th>...</th>\n",
              "      <td>...</td>\n",
              "      <td>...</td>\n",
              "      <td>...</td>\n",
              "      <td>...</td>\n",
              "      <td>...</td>\n",
              "      <td>...</td>\n",
              "      <td>...</td>\n",
              "      <td>...</td>\n",
              "    </tr>\n",
              "    <tr>\n",
              "      <th>1986</th>\n",
              "      <td>134.289993</td>\n",
              "      <td>137.339996</td>\n",
              "      <td>132.160004</td>\n",
              "      <td>135.429993</td>\n",
              "      <td>91533000</td>\n",
              "      <td>1</td>\n",
              "      <td>0.000000</td>\n",
              "      <td>130.059998</td>\n",
              "    </tr>\n",
              "    <tr>\n",
              "      <th>1987</th>\n",
              "      <td>132.080002</td>\n",
              "      <td>132.389999</td>\n",
              "      <td>129.039993</td>\n",
              "      <td>130.059998</td>\n",
              "      <td>108123900</td>\n",
              "      <td>0</td>\n",
              "      <td>-0.833333</td>\n",
              "      <td>131.559998</td>\n",
              "    </tr>\n",
              "    <tr>\n",
              "      <th>1988</th>\n",
              "      <td>130.070007</td>\n",
              "      <td>133.080002</td>\n",
              "      <td>129.809998</td>\n",
              "      <td>131.559998</td>\n",
              "      <td>134118500</td>\n",
              "      <td>1</td>\n",
              "      <td>0.058824</td>\n",
              "      <td>135.869995</td>\n",
              "    </tr>\n",
              "    <tr>\n",
              "      <th>1989</th>\n",
              "      <td>133.419998</td>\n",
              "      <td>137.059998</td>\n",
              "      <td>133.320007</td>\n",
              "      <td>135.869995</td>\n",
              "      <td>81000500</td>\n",
              "      <td>1</td>\n",
              "      <td>0.600000</td>\n",
              "      <td>135.350006</td>\n",
              "    </tr>\n",
              "    <tr>\n",
              "      <th>1990</th>\n",
              "      <td>134.789993</td>\n",
              "      <td>137.759995</td>\n",
              "      <td>133.910004</td>\n",
              "      <td>135.350006</td>\n",
              "      <td>73237900</td>\n",
              "      <td>0</td>\n",
              "      <td>0.000000</td>\n",
              "      <td>NaN</td>\n",
              "    </tr>\n",
              "  </tbody>\n",
              "</table>\n",
              "<p>1991 rows × 8 columns</p>\n",
              "</div>"
            ],
            "text/plain": [
              "            Open        High         Low       Close     Volume  Movement  \\\n",
              "0      18.478158   18.676643   18.475103   18.532818  301260400         1   \n",
              "1      18.666261   18.790544   18.505029   18.759092  436861600         1   \n",
              "2      18.150808   18.501977   17.946521   18.438766  487975600         0   \n",
              "3      18.547165   18.617399   18.276307   18.349901  565132400         0   \n",
              "4      17.558705   17.889109   17.454271   17.868649  403936400         1   \n",
              "...          ...         ...         ...         ...        ...       ...   \n",
              "1986  134.289993  137.339996  132.160004  135.429993   91533000         1   \n",
              "1987  132.080002  132.389999  129.039993  130.059998  108123900         0   \n",
              "1988  130.070007  133.080002  129.809998  131.559998  134118500         1   \n",
              "1989  133.419998  137.059998  133.320007  135.869995   81000500         1   \n",
              "1990  134.789993  137.759995  133.910004  135.350006   73237900         0   \n",
              "\n",
              "      Sentiment  Close next data  \n",
              "0      0.000000        18.759092  \n",
              "1      0.000000        18.438766  \n",
              "2      0.000000        18.349901  \n",
              "3      0.000000        17.868649  \n",
              "4      0.000000        18.170046  \n",
              "...         ...              ...  \n",
              "1986   0.000000       130.059998  \n",
              "1987  -0.833333       131.559998  \n",
              "1988   0.058824       135.869995  \n",
              "1989   0.600000       135.350006  \n",
              "1990   0.000000              NaN  \n",
              "\n",
              "[1991 rows x 8 columns]"
            ]
          },
          "execution_count": 36,
          "metadata": {},
          "output_type": "execute_result"
        }
      ],
      "source": [
        "final['Close next data'] = final['Close'].shift(-1)\n",
        "final"
      ]
    },
    {
      "cell_type": "code",
      "execution_count": 37,
      "metadata": {
        "id": "HJeACvCnT3HY"
      },
      "outputs": [],
      "source": [
        "X = final.drop(['Movement', 'Close next data','High', 'Low'],axis=1)"
      ]
    },
    {
      "cell_type": "code",
      "execution_count": 38,
      "metadata": {
        "colab": {
          "base_uri": "https://localhost:8080/",
          "height": 424
        },
        "id": "qb53vJZRV8QJ",
        "outputId": "caee345c-8322-49ba-adc5-9046c4b37fb4"
      },
      "outputs": [
        {
          "data": {
            "text/html": [
              "<div>\n",
              "<style scoped>\n",
              "    .dataframe tbody tr th:only-of-type {\n",
              "        vertical-align: middle;\n",
              "    }\n",
              "\n",
              "    .dataframe tbody tr th {\n",
              "        vertical-align: top;\n",
              "    }\n",
              "\n",
              "    .dataframe thead th {\n",
              "        text-align: right;\n",
              "    }\n",
              "</style>\n",
              "<table border=\"1\" class=\"dataframe\">\n",
              "  <thead>\n",
              "    <tr style=\"text-align: right;\">\n",
              "      <th></th>\n",
              "      <th>Open</th>\n",
              "      <th>Close</th>\n",
              "      <th>Volume</th>\n",
              "      <th>Sentiment</th>\n",
              "    </tr>\n",
              "  </thead>\n",
              "  <tbody>\n",
              "    <tr>\n",
              "      <th>0</th>\n",
              "      <td>18.478158</td>\n",
              "      <td>18.532818</td>\n",
              "      <td>301260400</td>\n",
              "      <td>0.000000</td>\n",
              "    </tr>\n",
              "    <tr>\n",
              "      <th>1</th>\n",
              "      <td>18.666261</td>\n",
              "      <td>18.759092</td>\n",
              "      <td>436861600</td>\n",
              "      <td>0.000000</td>\n",
              "    </tr>\n",
              "    <tr>\n",
              "      <th>2</th>\n",
              "      <td>18.150808</td>\n",
              "      <td>18.438766</td>\n",
              "      <td>487975600</td>\n",
              "      <td>0.000000</td>\n",
              "    </tr>\n",
              "    <tr>\n",
              "      <th>3</th>\n",
              "      <td>18.547165</td>\n",
              "      <td>18.349901</td>\n",
              "      <td>565132400</td>\n",
              "      <td>0.000000</td>\n",
              "    </tr>\n",
              "    <tr>\n",
              "      <th>4</th>\n",
              "      <td>17.558705</td>\n",
              "      <td>17.868649</td>\n",
              "      <td>403936400</td>\n",
              "      <td>0.000000</td>\n",
              "    </tr>\n",
              "    <tr>\n",
              "      <th>...</th>\n",
              "      <td>...</td>\n",
              "      <td>...</td>\n",
              "      <td>...</td>\n",
              "      <td>...</td>\n",
              "    </tr>\n",
              "    <tr>\n",
              "      <th>1985</th>\n",
              "      <td>133.130005</td>\n",
              "      <td>132.759995</td>\n",
              "      <td>84784300</td>\n",
              "      <td>0.461538</td>\n",
              "    </tr>\n",
              "    <tr>\n",
              "      <th>1986</th>\n",
              "      <td>134.289993</td>\n",
              "      <td>135.429993</td>\n",
              "      <td>91533000</td>\n",
              "      <td>0.000000</td>\n",
              "    </tr>\n",
              "    <tr>\n",
              "      <th>1987</th>\n",
              "      <td>132.080002</td>\n",
              "      <td>130.059998</td>\n",
              "      <td>108123900</td>\n",
              "      <td>-0.833333</td>\n",
              "    </tr>\n",
              "    <tr>\n",
              "      <th>1988</th>\n",
              "      <td>130.070007</td>\n",
              "      <td>131.559998</td>\n",
              "      <td>134118500</td>\n",
              "      <td>0.058824</td>\n",
              "    </tr>\n",
              "    <tr>\n",
              "      <th>1989</th>\n",
              "      <td>133.419998</td>\n",
              "      <td>135.869995</td>\n",
              "      <td>81000500</td>\n",
              "      <td>0.600000</td>\n",
              "    </tr>\n",
              "  </tbody>\n",
              "</table>\n",
              "<p>1990 rows × 4 columns</p>\n",
              "</div>"
            ],
            "text/plain": [
              "            Open       Close     Volume  Sentiment\n",
              "0      18.478158   18.532818  301260400   0.000000\n",
              "1      18.666261   18.759092  436861600   0.000000\n",
              "2      18.150808   18.438766  487975600   0.000000\n",
              "3      18.547165   18.349901  565132400   0.000000\n",
              "4      17.558705   17.868649  403936400   0.000000\n",
              "...          ...         ...        ...        ...\n",
              "1985  133.130005  132.759995   84784300   0.461538\n",
              "1986  134.289993  135.429993   91533000   0.000000\n",
              "1987  132.080002  130.059998  108123900  -0.833333\n",
              "1988  130.070007  131.559998  134118500   0.058824\n",
              "1989  133.419998  135.869995   81000500   0.600000\n",
              "\n",
              "[1990 rows x 4 columns]"
            ]
          },
          "execution_count": 38,
          "metadata": {},
          "output_type": "execute_result"
        }
      ],
      "source": [
        "X[:-1]"
      ]
    },
    {
      "cell_type": "code",
      "execution_count": 39,
      "metadata": {
        "id": "ik255ak2V_9X"
      },
      "outputs": [],
      "source": [
        "y = final['Movement'][:-1]"
      ]
    },
    {
      "cell_type": "code",
      "execution_count": 40,
      "metadata": {
        "colab": {
          "base_uri": "https://localhost:8080/"
        },
        "id": "BopDHTftWKkd",
        "outputId": "3cf31aae-78d4-4919-9783-bf84c783d8a8"
      },
      "outputs": [
        {
          "data": {
            "text/plain": [
              "0       1\n",
              "1       1\n",
              "2       0\n",
              "3       0\n",
              "4       1\n",
              "       ..\n",
              "1985    1\n",
              "1986    1\n",
              "1987    0\n",
              "1988    1\n",
              "1989    1\n",
              "Name: Movement, Length: 1990, dtype: int64"
            ]
          },
          "execution_count": 40,
          "metadata": {},
          "output_type": "execute_result"
        }
      ],
      "source": [
        "y"
      ]
    },
    {
      "cell_type": "markdown",
      "metadata": {
        "id": "3-V3N5FHSpgG"
      },
      "source": [
        "# Splitting into train and test"
      ]
    },
    {
      "cell_type": "code",
      "execution_count": 41,
      "metadata": {
        "id": "YVNOEORaSCj3"
      },
      "outputs": [],
      "source": [
        "import sklearn\n",
        "from sklearn.model_selection import train_test_split\n",
        "X_train, X_test, y_train, y_test = train_test_split(X[:-1], y, test_size=0.2, shuffle=False)"
      ]
    },
    {
      "cell_type": "code",
      "execution_count": 42,
      "metadata": {
        "id": "eXkAyikvztiD"
      },
      "outputs": [],
      "source": [
        "from sklearn.preprocessing import MinMaxScaler\n",
        "\n",
        "scaler_close, scaler_open, scaler_volume = MinMaxScaler(feature_range=(0,1)), MinMaxScaler(feature_range=(0,1)), MinMaxScaler(feature_range=(0,1))\n",
        "\n",
        "scaled_close_data = scaler_close.fit_transform(X_train.iloc[:, 0:1])\n",
        "scaled_open_data = scaler_open.fit_transform(X_train.iloc[:, 1:2])\n",
        "scaled_volume = scaler_volume.fit_transform(X_train.iloc[:, 2:3])\n",
        "\n",
        "X_train = np.concatenate([scaled_close_data, scaled_open_data, scaled_volume, X_train.iloc[:, 3:4]], axis=1)"
      ]
    },
    {
      "cell_type": "code",
      "execution_count": 43,
      "metadata": {
        "id": "jE8htTY5ztiE"
      },
      "outputs": [],
      "source": [
        "scaled_close_data_test = scaler_close.transform(X_test.iloc[:, 0:1])\n",
        "scaled_open_data_test = scaler_open.transform(X_test.iloc[:, 1:2])\n",
        "scaled_volume_test = scaler_volume.transform(X_test.iloc[:, 2:3])\n",
        "\n",
        "X_test = np.concatenate([scaled_close_data_test, scaled_open_data_test, scaled_volume_test, X_test.iloc[:, 3:4]], axis=1)"
      ]
    },
    {
      "cell_type": "code",
      "execution_count": 44,
      "metadata": {},
      "outputs": [],
      "source": [
        "import pickle\n",
        "scalerfile = 'scaler_close.sav'\n",
        "pickle.dump(scaler_close, open(scalerfile, 'wb'))\n",
        "\n",
        "scalerfile = 'scaler_open.sav'\n",
        "pickle.dump(scaler_open, open(scalerfile, 'wb'))\n",
        "\n",
        "scalerfile = 'scaler_volume.sav'\n",
        "pickle.dump(scaler_volume, open(scalerfile, 'wb'))\n"
      ]
    },
    {
      "cell_type": "code",
      "execution_count": 68,
      "metadata": {
        "colab": {
          "base_uri": "https://localhost:8080/"
        },
        "id": "NkIb-oHyztiF",
        "outputId": "a12298a8-421e-442b-9f07-4650d93d7b3f"
      },
      "outputs": [
        {
          "name": "stdout",
          "output_type": "stream",
          "text": [
            "(1592, 4)\n",
            "(398, 4)\n"
          ]
        }
      ],
      "source": [
        "print(X_train.shape)\n",
        "print(X_test.shape)"
      ]
    },
    {
      "cell_type": "code",
      "execution_count": 69,
      "metadata": {
        "colab": {
          "base_uri": "https://localhost:8080/"
        },
        "id": "2aTBqh_IztiF",
        "outputId": "b80b4dd9-eed0-48ed-ad57-54b4fd522ef8"
      },
      "outputs": [
        {
          "name": "stdout",
          "output_type": "stream",
          "text": [
            "(1592,)\n",
            "(398,)\n"
          ]
        }
      ],
      "source": [
        "print(y_train.shape)\n",
        "print(y_test.shape)"
      ]
    },
    {
      "cell_type": "markdown",
      "metadata": {
        "id": "LvwPx4L8ztiG"
      },
      "source": [
        "# Logistic Regression"
      ]
    },
    {
      "cell_type": "code",
      "execution_count": 24,
      "metadata": {
        "colab": {
          "base_uri": "https://localhost:8080/"
        },
        "id": "WuVDLxAWztiH",
        "outputId": "897f8d8c-2919-4b95-d998-fcb94bb3b00c"
      },
      "outputs": [
        {
          "name": "stdout",
          "output_type": "stream",
          "text": [
            "0.4472361809045226\n",
            "0.550251256281407\n",
            "0.5527638190954773\n"
          ]
        }
      ],
      "source": [
        "from sklearn.linear_model import LogisticRegression\n",
        "from sklearn.metrics import mean_squared_error\n",
        "model = LogisticRegression()\n",
        "model.fit(X_train, y_train)\n",
        "pred = model.predict(X_test)\n",
        "print(mean_squared_error(pred,y_test))\n",
        "print(model.score(X_train,y_train))\n",
        "print(model.score(X_test,y_test))"
      ]
    },
    {
      "cell_type": "code",
      "execution_count": 25,
      "metadata": {
        "colab": {
          "base_uri": "https://localhost:8080/"
        },
        "id": "UkFtql20ztiJ",
        "outputId": "cef0b713-c9e5-46a7-e043-e34ca859e275"
      },
      "outputs": [
        {
          "data": {
            "text/plain": [
              "0.5527638190954773"
            ]
          },
          "execution_count": 25,
          "metadata": {},
          "output_type": "execute_result"
        }
      ],
      "source": [
        "valid = pd.DataFrame({'actual': y_test, 'predicted': pred})\n",
        "from sklearn.metrics import accuracy_score\n",
        "accuracy_score(valid['actual'], valid['predicted'])"
      ]
    },
    {
      "cell_type": "markdown",
      "metadata": {
        "id": "SqH4ARvyQiD-"
      },
      "source": [
        "# Support Vector Machine"
      ]
    },
    {
      "cell_type": "code",
      "execution_count": 26,
      "metadata": {
        "colab": {
          "base_uri": "https://localhost:8080/"
        },
        "id": "BI6f6GgGQnhY",
        "outputId": "cd8cda36-b7db-4a0b-9a12-65a520ed3c64"
      },
      "outputs": [
        {
          "name": "stdout",
          "output_type": "stream",
          "text": [
            "0.5452261306532663\n",
            "0.5879396984924623\n",
            "0.5452261306532663\n"
          ]
        }
      ],
      "source": [
        "from sklearn import svm\n",
        "from sklearn import metrics\n",
        "from sklearn.metrics import accuracy_score\n",
        "model = svm.SVC() \n",
        "model.fit(X_train, y_train)\n",
        "pred = model.predict(X_test)\n",
        "print(metrics.accuracy_score(pred,y_test))\n",
        "print(model.score(X_train, y_train))\n",
        "print(model.score(X_test,y_test))"
      ]
    },
    {
      "cell_type": "code",
      "execution_count": 27,
      "metadata": {
        "colab": {
          "base_uri": "https://localhost:8080/"
        },
        "id": "8pNZdlVGztiK",
        "outputId": "bc8ead75-3b13-4ca3-a75d-c33c3cb761e0"
      },
      "outputs": [
        {
          "data": {
            "text/plain": [
              "0.5452261306532663"
            ]
          },
          "execution_count": 27,
          "metadata": {},
          "output_type": "execute_result"
        }
      ],
      "source": [
        "valid = pd.DataFrame({'actual': y_test, 'predicted': pred})\n",
        "from sklearn.metrics import accuracy_score\n",
        "accuracy_score(valid['actual'], valid['predicted'])"
      ]
    },
    {
      "cell_type": "markdown",
      "metadata": {
        "id": "nt6wp3Ao_0lD"
      },
      "source": [
        "# Decision tree"
      ]
    },
    {
      "cell_type": "code",
      "execution_count": 28,
      "metadata": {
        "colab": {
          "base_uri": "https://localhost:8080/"
        },
        "id": "P8546S60XGxs",
        "outputId": "39dc8a97-9638-4fb7-c309-40856fe7b5bd"
      },
      "outputs": [
        {
          "name": "stdout",
          "output_type": "stream",
          "text": [
            "0.5552763819095478\n",
            "1.0\n",
            "-0.793568755251165\n"
          ]
        }
      ],
      "source": [
        "from sklearn.tree import DecisionTreeRegressor\n",
        "model = DecisionTreeRegressor()\n",
        "model.fit(X_train, y_train)\n",
        "pred = model.predict(X_test)\n",
        "print(metrics.accuracy_score(pred,y_test))\n",
        "print(model.score(X_train, y_train))\n",
        "print(model.score(X_test,y_test))"
      ]
    },
    {
      "cell_type": "code",
      "execution_count": 29,
      "metadata": {
        "colab": {
          "base_uri": "https://localhost:8080/"
        },
        "id": "VNZnUhZ4ztiN",
        "outputId": "1a95a199-aefd-4351-88cc-32d6734f5361"
      },
      "outputs": [
        {
          "data": {
            "text/plain": [
              "0.5552763819095478"
            ]
          },
          "execution_count": 29,
          "metadata": {},
          "output_type": "execute_result"
        }
      ],
      "source": [
        "valid = pd.DataFrame({'actual': y_test, 'predicted': pred})\n",
        "from sklearn.metrics import accuracy_score\n",
        "accuracy_score(valid['actual'], valid['predicted'])"
      ]
    },
    {
      "cell_type": "markdown",
      "metadata": {
        "id": "FEc0008r_4as"
      },
      "source": [
        "# Random forest"
      ]
    },
    {
      "cell_type": "code",
      "execution_count": 30,
      "metadata": {
        "colab": {
          "base_uri": "https://localhost:8080/"
        },
        "id": "4193_mqs_vFW",
        "outputId": "b3561eee-ac6a-4a35-864c-5458e7433bd2"
      },
      "outputs": [
        {
          "name": "stdout",
          "output_type": "stream",
          "text": [
            "0.5778894472361809\n",
            "0.8736522654039237\n",
            "-0.05993022888713506\n"
          ]
        }
      ],
      "source": [
        "from sklearn.ensemble import RandomForestRegressor\n",
        "model = RandomForestRegressor()\n",
        "model.fit(X_train, y_train)\n",
        "pred = model.predict(X_test)\n",
        "print(metrics.accuracy_score(pred.round(),y_test))\n",
        "print(model.score(X_train, y_train))\n",
        "print(model.score(X_test,y_test))"
      ]
    },
    {
      "cell_type": "code",
      "execution_count": 31,
      "metadata": {
        "colab": {
          "base_uri": "https://localhost:8080/"
        },
        "id": "wWmQS0j_ztiQ",
        "outputId": "5af88e90-4ee9-4c95-c2a2-dfde3ad906d9"
      },
      "outputs": [
        {
          "data": {
            "text/plain": [
              "0.5804020100502513"
            ]
          },
          "execution_count": 31,
          "metadata": {},
          "output_type": "execute_result"
        }
      ],
      "source": [
        "valid = pd.DataFrame({'actual': y_test, 'predicted': pred})\n",
        "label = lambda x: 1 if x>=0.5 else 0\n",
        "valid['predicted'] = valid.predicted.apply(label)\n",
        "from sklearn.metrics import accuracy_score\n",
        "accuracy_score(valid['actual'], valid['predicted'])"
      ]
    },
    {
      "cell_type": "markdown",
      "metadata": {
        "id": "1U-P-A9w1hyU"
      },
      "source": [
        "# Dense"
      ]
    },
    {
      "cell_type": "code",
      "execution_count": 32,
      "metadata": {
        "id": "ga1g1eiF1kN_"
      },
      "outputs": [],
      "source": [
        "import tensorflow as tf\n",
        "\n",
        "from tensorflow.keras import layers\n",
        "from tensorflow.keras import models\n",
        "\n",
        "from tensorflow.keras.models import Sequential\n",
        "from tensorflow.keras.layers import Dense\n",
        "from tensorflow.keras.layers import Dropout\n",
        "from tensorflow.keras.layers import LSTM"
      ]
    },
    {
      "cell_type": "code",
      "execution_count": 103,
      "metadata": {
        "id": "Xu_wc73Q4W-O"
      },
      "outputs": [],
      "source": [
        "model = Sequential()\n",
        "#model.add(LSTM(units=50, return_sequences=True, input_shape = (X_train.shape[0], X_train.shape[1])))\n",
        "model.add(layers.InputLayer((4,)))\n",
        "model.add(Dense(128))\n",
        "model.add(Dropout(0.1))\n",
        "model.add(Dense(128, activation='relu'))\n",
        "model.add(Dropout(0.1))\n",
        "model.add(Dense(1, activation=\"sigmoid\"))"
      ]
    },
    {
      "cell_type": "code",
      "execution_count": 104,
      "metadata": {
        "colab": {
          "base_uri": "https://localhost:8080/"
        },
        "id": "2GEac_Xz4v0B",
        "outputId": "e3b321ef-7033-4476-8bdf-f3e676161894"
      },
      "outputs": [
        {
          "name": "stdout",
          "output_type": "stream",
          "text": [
            "Model: \"sequential_9\"\n",
            "_________________________________________________________________\n",
            "Layer (type)                 Output Shape              Param #   \n",
            "=================================================================\n",
            "dense_11 (Dense)             (None, 128)               640       \n",
            "_________________________________________________________________\n",
            "dropout_2 (Dropout)          (None, 128)               0         \n",
            "_________________________________________________________________\n",
            "dense_12 (Dense)             (None, 128)               16512     \n",
            "_________________________________________________________________\n",
            "dropout_3 (Dropout)          (None, 128)               0         \n",
            "_________________________________________________________________\n",
            "dense_13 (Dense)             (None, 1)                 129       \n",
            "=================================================================\n",
            "Total params: 17,281\n",
            "Trainable params: 17,281\n",
            "Non-trainable params: 0\n",
            "_________________________________________________________________\n"
          ]
        }
      ],
      "source": [
        "model.compile(loss='binary_crossentropy', optimizer='adam', metrics=['accuracy'])\n",
        "model.summary()"
      ]
    },
    {
      "cell_type": "code",
      "execution_count": 105,
      "metadata": {
        "colab": {
          "base_uri": "https://localhost:8080/"
        },
        "id": "fbruy6G94-xm",
        "outputId": "24806638-7cf6-4144-d67b-3619b9d3998c"
      },
      "outputs": [
        {
          "name": "stdout",
          "output_type": "stream",
          "text": [
            "Epoch 1/100\n",
            "25/25 [==============================] - 1s 17ms/step - loss: 0.6939 - accuracy: 0.5088 - val_loss: 0.7881 - val_accuracy: 0.5452\n",
            "Epoch 2/100\n",
            "25/25 [==============================] - 0s 9ms/step - loss: 0.6901 - accuracy: 0.5364 - val_loss: 0.6845 - val_accuracy: 0.5578\n",
            "Epoch 3/100\n",
            "25/25 [==============================] - 0s 8ms/step - loss: 0.6893 - accuracy: 0.5308 - val_loss: 0.6822 - val_accuracy: 0.5653\n",
            "Epoch 4/100\n",
            "25/25 [==============================] - 0s 8ms/step - loss: 0.6875 - accuracy: 0.5471 - val_loss: 0.7057 - val_accuracy: 0.5452\n",
            "Epoch 5/100\n",
            "25/25 [==============================] - 0s 8ms/step - loss: 0.6865 - accuracy: 0.5496 - val_loss: 0.6776 - val_accuracy: 0.5653\n",
            "Epoch 6/100\n",
            "25/25 [==============================] - 0s 8ms/step - loss: 0.6873 - accuracy: 0.5383 - val_loss: 0.7050 - val_accuracy: 0.5503\n",
            "Epoch 7/100\n",
            "25/25 [==============================] - 0s 8ms/step - loss: 0.6865 - accuracy: 0.5389 - val_loss: 0.6761 - val_accuracy: 0.5704\n",
            "Epoch 8/100\n",
            "25/25 [==============================] - 0s 8ms/step - loss: 0.6862 - accuracy: 0.5521 - val_loss: 0.6755 - val_accuracy: 0.6030\n",
            "Epoch 9/100\n",
            "25/25 [==============================] - 0s 8ms/step - loss: 0.6881 - accuracy: 0.5477 - val_loss: 0.6747 - val_accuracy: 0.5729\n",
            "Epoch 10/100\n",
            "25/25 [==============================] - 0s 7ms/step - loss: 0.6869 - accuracy: 0.5415 - val_loss: 0.6728 - val_accuracy: 0.6005\n",
            "Epoch 11/100\n",
            "25/25 [==============================] - 0s 7ms/step - loss: 0.6890 - accuracy: 0.5415 - val_loss: 0.6779 - val_accuracy: 0.5678\n",
            "Epoch 12/100\n",
            "25/25 [==============================] - 0s 7ms/step - loss: 0.6853 - accuracy: 0.5666 - val_loss: 0.6929 - val_accuracy: 0.5503\n",
            "Epoch 13/100\n",
            "25/25 [==============================] - 0s 7ms/step - loss: 0.6835 - accuracy: 0.5672 - val_loss: 0.6633 - val_accuracy: 0.6206\n",
            "Epoch 14/100\n",
            "25/25 [==============================] - 0s 7ms/step - loss: 0.6844 - accuracy: 0.5559 - val_loss: 0.6762 - val_accuracy: 0.5578\n",
            "Epoch 15/100\n",
            "25/25 [==============================] - 0s 7ms/step - loss: 0.6835 - accuracy: 0.5622 - val_loss: 0.6581 - val_accuracy: 0.6106\n",
            "Epoch 16/100\n",
            "25/25 [==============================] - 0s 7ms/step - loss: 0.6850 - accuracy: 0.5521 - val_loss: 0.6638 - val_accuracy: 0.5829\n",
            "Epoch 17/100\n",
            "25/25 [==============================] - 0s 9ms/step - loss: 0.6839 - accuracy: 0.5609 - val_loss: 0.6614 - val_accuracy: 0.5704\n",
            "Epoch 18/100\n",
            "25/25 [==============================] - 0s 8ms/step - loss: 0.6846 - accuracy: 0.5641 - val_loss: 0.6905 - val_accuracy: 0.5528\n",
            "Epoch 19/100\n",
            "25/25 [==============================] - 0s 8ms/step - loss: 0.6820 - accuracy: 0.5628 - val_loss: 0.6611 - val_accuracy: 0.5729\n",
            "Epoch 20/100\n",
            "25/25 [==============================] - 0s 7ms/step - loss: 0.6827 - accuracy: 0.5697 - val_loss: 0.7077 - val_accuracy: 0.4899\n",
            "Epoch 21/100\n",
            "25/25 [==============================] - 0s 7ms/step - loss: 0.6828 - accuracy: 0.5578 - val_loss: 0.6908 - val_accuracy: 0.5528\n",
            "Epoch 22/100\n",
            "25/25 [==============================] - 0s 8ms/step - loss: 0.6795 - accuracy: 0.5710 - val_loss: 0.6403 - val_accuracy: 0.6734\n",
            "Epoch 23/100\n",
            "25/25 [==============================] - 0s 7ms/step - loss: 0.6813 - accuracy: 0.5716 - val_loss: 0.6432 - val_accuracy: 0.6181\n",
            "Epoch 24/100\n",
            "25/25 [==============================] - 0s 7ms/step - loss: 0.6842 - accuracy: 0.5446 - val_loss: 0.6389 - val_accuracy: 0.6734\n",
            "Epoch 25/100\n",
            "25/25 [==============================] - 0s 7ms/step - loss: 0.6809 - accuracy: 0.5678 - val_loss: 0.6406 - val_accuracy: 0.6382\n",
            "Epoch 26/100\n",
            "25/25 [==============================] - 0s 8ms/step - loss: 0.6801 - accuracy: 0.5848 - val_loss: 0.6462 - val_accuracy: 0.5804\n",
            "Epoch 27/100\n",
            "25/25 [==============================] - 0s 8ms/step - loss: 0.6791 - accuracy: 0.5622 - val_loss: 0.7484 - val_accuracy: 0.5503\n",
            "Epoch 28/100\n",
            "25/25 [==============================] - 0s 7ms/step - loss: 0.6793 - accuracy: 0.5678 - val_loss: 0.6311 - val_accuracy: 0.6608\n",
            "Epoch 29/100\n",
            "25/25 [==============================] - 0s 7ms/step - loss: 0.6773 - accuracy: 0.5779 - val_loss: 0.6330 - val_accuracy: 0.6181\n",
            "Epoch 30/100\n",
            "25/25 [==============================] - 0s 7ms/step - loss: 0.6747 - accuracy: 0.5842 - val_loss: 0.6318 - val_accuracy: 0.6206\n",
            "Epoch 31/100\n",
            "25/25 [==============================] - 0s 7ms/step - loss: 0.6766 - accuracy: 0.5835 - val_loss: 0.6236 - val_accuracy: 0.7186\n",
            "Epoch 32/100\n",
            "25/25 [==============================] - 0s 8ms/step - loss: 0.6793 - accuracy: 0.5597 - val_loss: 0.6200 - val_accuracy: 0.6658\n",
            "Epoch 33/100\n",
            "25/25 [==============================] - 0s 7ms/step - loss: 0.6734 - accuracy: 0.5798 - val_loss: 0.6482 - val_accuracy: 0.5427\n",
            "Epoch 34/100\n",
            "25/25 [==============================] - 0s 7ms/step - loss: 0.6775 - accuracy: 0.5779 - val_loss: 0.6573 - val_accuracy: 0.5729\n",
            "Epoch 35/100\n",
            "25/25 [==============================] - 0s 7ms/step - loss: 0.6764 - accuracy: 0.5766 - val_loss: 0.6198 - val_accuracy: 0.6206\n",
            "Epoch 36/100\n",
            "25/25 [==============================] - 0s 7ms/step - loss: 0.6709 - accuracy: 0.5992 - val_loss: 0.6500 - val_accuracy: 0.5754\n",
            "Epoch 37/100\n",
            "25/25 [==============================] - 0s 8ms/step - loss: 0.6718 - accuracy: 0.5974 - val_loss: 0.6320 - val_accuracy: 0.5905\n",
            "Epoch 38/100\n",
            "25/25 [==============================] - 0s 8ms/step - loss: 0.6734 - accuracy: 0.5905 - val_loss: 0.6126 - val_accuracy: 0.6357\n",
            "Epoch 39/100\n",
            "25/25 [==============================] - 0s 7ms/step - loss: 0.6668 - accuracy: 0.5942 - val_loss: 0.6428 - val_accuracy: 0.5829\n",
            "Epoch 40/100\n",
            "25/25 [==============================] - 0s 7ms/step - loss: 0.6685 - accuracy: 0.5992 - val_loss: 0.5947 - val_accuracy: 0.7362\n",
            "Epoch 41/100\n",
            "25/25 [==============================] - 0s 8ms/step - loss: 0.6773 - accuracy: 0.5584 - val_loss: 0.5853 - val_accuracy: 0.7312\n",
            "Epoch 42/100\n",
            "25/25 [==============================] - 0s 7ms/step - loss: 0.6679 - accuracy: 0.6005 - val_loss: 0.5807 - val_accuracy: 0.7688\n",
            "Epoch 43/100\n",
            "25/25 [==============================] - 0s 8ms/step - loss: 0.6671 - accuracy: 0.6011 - val_loss: 0.5837 - val_accuracy: 0.7588\n",
            "Epoch 44/100\n",
            "25/25 [==============================] - 0s 7ms/step - loss: 0.6654 - accuracy: 0.5992 - val_loss: 0.5793 - val_accuracy: 0.6910\n",
            "Epoch 45/100\n",
            "25/25 [==============================] - 0s 8ms/step - loss: 0.6629 - accuracy: 0.6112 - val_loss: 0.6136 - val_accuracy: 0.6256\n",
            "Epoch 46/100\n",
            "25/25 [==============================] - 0s 8ms/step - loss: 0.6659 - accuracy: 0.6055 - val_loss: 0.5873 - val_accuracy: 0.6407\n",
            "Epoch 47/100\n",
            "25/25 [==============================] - 0s 7ms/step - loss: 0.6612 - accuracy: 0.6206 - val_loss: 0.5609 - val_accuracy: 0.7111\n",
            "Epoch 48/100\n",
            "25/25 [==============================] - 0s 8ms/step - loss: 0.6596 - accuracy: 0.6118 - val_loss: 0.5578 - val_accuracy: 0.7236\n",
            "Epoch 49/100\n",
            "25/25 [==============================] - 0s 7ms/step - loss: 0.6583 - accuracy: 0.6055 - val_loss: 0.5859 - val_accuracy: 0.6307\n",
            "Epoch 50/100\n",
            "25/25 [==============================] - 0s 7ms/step - loss: 0.6597 - accuracy: 0.5986 - val_loss: 0.5340 - val_accuracy: 0.8216\n",
            "Epoch 51/100\n",
            "25/25 [==============================] - 0s 7ms/step - loss: 0.6589 - accuracy: 0.6200 - val_loss: 0.5297 - val_accuracy: 0.8291\n",
            "Epoch 52/100\n",
            "25/25 [==============================] - 0s 7ms/step - loss: 0.6543 - accuracy: 0.6175 - val_loss: 0.5374 - val_accuracy: 0.7261\n",
            "Epoch 53/100\n",
            "25/25 [==============================] - 0s 8ms/step - loss: 0.6535 - accuracy: 0.6275 - val_loss: 0.7192 - val_accuracy: 0.5729\n",
            "Epoch 54/100\n",
            "25/25 [==============================] - 0s 8ms/step - loss: 0.6526 - accuracy: 0.6062 - val_loss: 0.5365 - val_accuracy: 0.7613\n",
            "Epoch 55/100\n",
            "25/25 [==============================] - 0s 7ms/step - loss: 0.6595 - accuracy: 0.5961 - val_loss: 1.0002 - val_accuracy: 0.5553\n",
            "Epoch 56/100\n",
            "25/25 [==============================] - 0s 8ms/step - loss: 0.6581 - accuracy: 0.6093 - val_loss: 0.5053 - val_accuracy: 0.8291\n",
            "Epoch 57/100\n",
            "25/25 [==============================] - 0s 8ms/step - loss: 0.6526 - accuracy: 0.6212 - val_loss: 0.5002 - val_accuracy: 0.8266\n",
            "Epoch 58/100\n",
            "25/25 [==============================] - 0s 8ms/step - loss: 0.6441 - accuracy: 0.6363 - val_loss: 0.5841 - val_accuracy: 0.6407\n",
            "Epoch 59/100\n",
            "25/25 [==============================] - 0s 8ms/step - loss: 0.6449 - accuracy: 0.6300 - val_loss: 0.5232 - val_accuracy: 0.7663\n",
            "Epoch 60/100\n",
            "25/25 [==============================] - 0s 8ms/step - loss: 0.6338 - accuracy: 0.6457 - val_loss: 0.7010 - val_accuracy: 0.5955\n",
            "Epoch 61/100\n",
            "25/25 [==============================] - 0s 7ms/step - loss: 0.6442 - accuracy: 0.6300 - val_loss: 0.5436 - val_accuracy: 0.6910\n",
            "Epoch 62/100\n",
            "25/25 [==============================] - 0s 8ms/step - loss: 0.6313 - accuracy: 0.6489 - val_loss: 0.7365 - val_accuracy: 0.5126\n",
            "Epoch 63/100\n",
            "25/25 [==============================] - 0s 7ms/step - loss: 0.6404 - accuracy: 0.6501 - val_loss: 0.4698 - val_accuracy: 0.8166\n",
            "Epoch 64/100\n",
            "25/25 [==============================] - 0s 7ms/step - loss: 0.6424 - accuracy: 0.6212 - val_loss: 1.0004 - val_accuracy: 0.5704\n",
            "Epoch 65/100\n",
            "25/25 [==============================] - 0s 7ms/step - loss: 0.6388 - accuracy: 0.6420 - val_loss: 0.6150 - val_accuracy: 0.6407\n",
            "Epoch 66/100\n",
            "25/25 [==============================] - 0s 9ms/step - loss: 0.6290 - accuracy: 0.6614 - val_loss: 0.4516 - val_accuracy: 0.8417\n",
            "Epoch 67/100\n",
            "25/25 [==============================] - 0s 7ms/step - loss: 0.6198 - accuracy: 0.7004 - val_loss: 0.5257 - val_accuracy: 0.7111\n",
            "Epoch 68/100\n",
            "25/25 [==============================] - 0s 8ms/step - loss: 0.6251 - accuracy: 0.6759 - val_loss: 0.4551 - val_accuracy: 0.7814\n",
            "Epoch 69/100\n",
            "25/25 [==============================] - 0s 8ms/step - loss: 0.6287 - accuracy: 0.6420 - val_loss: 0.8355 - val_accuracy: 0.6005\n",
            "Epoch 70/100\n",
            "25/25 [==============================] - 0s 8ms/step - loss: 0.6258 - accuracy: 0.6526 - val_loss: 0.4324 - val_accuracy: 0.8543\n",
            "Epoch 71/100\n",
            "25/25 [==============================] - 0s 9ms/step - loss: 0.6223 - accuracy: 0.6451 - val_loss: 0.4413 - val_accuracy: 0.8392\n",
            "Epoch 72/100\n",
            "25/25 [==============================] - 0s 7ms/step - loss: 0.6141 - accuracy: 0.6916 - val_loss: 0.8073 - val_accuracy: 0.6131\n",
            "Epoch 73/100\n",
            "25/25 [==============================] - ETA: 0s - loss: 0.6200 - accuracy: 0.66 - 0s 7ms/step - loss: 0.6215 - accuracy: 0.6665 - val_loss: 0.4419 - val_accuracy: 0.8116\n",
            "Epoch 74/100\n",
            "25/25 [==============================] - 0s 7ms/step - loss: 0.6086 - accuracy: 0.6997 - val_loss: 0.6902 - val_accuracy: 0.6457\n",
            "Epoch 75/100\n",
            "25/25 [==============================] - 0s 8ms/step - loss: 0.6172 - accuracy: 0.6445 - val_loss: 0.5608 - val_accuracy: 0.6859\n",
            "Epoch 76/100\n",
            "25/25 [==============================] - 0s 8ms/step - loss: 0.6053 - accuracy: 0.6822 - val_loss: 0.4611 - val_accuracy: 0.7588\n",
            "Epoch 77/100\n",
            "25/25 [==============================] - 0s 8ms/step - loss: 0.6048 - accuracy: 0.6784 - val_loss: 0.5220 - val_accuracy: 0.7312\n",
            "Epoch 78/100\n",
            "25/25 [==============================] - 0s 8ms/step - loss: 0.5930 - accuracy: 0.6922 - val_loss: 0.5933 - val_accuracy: 0.6859\n",
            "Epoch 79/100\n",
            "25/25 [==============================] - 0s 8ms/step - loss: 0.5995 - accuracy: 0.6997 - val_loss: 0.4062 - val_accuracy: 0.8442\n",
            "Epoch 80/100\n",
            "25/25 [==============================] - 0s 7ms/step - loss: 0.5950 - accuracy: 0.6979 - val_loss: 0.4822 - val_accuracy: 0.7839\n",
            "Epoch 81/100\n",
            "25/25 [==============================] - 0s 8ms/step - loss: 0.5854 - accuracy: 0.7092 - val_loss: 0.3944 - val_accuracy: 0.8467\n",
            "Epoch 82/100\n",
            "25/25 [==============================] - 0s 8ms/step - loss: 0.5825 - accuracy: 0.7142 - val_loss: 0.5671 - val_accuracy: 0.7312\n",
            "Epoch 83/100\n",
            "25/25 [==============================] - 0s 8ms/step - loss: 0.5875 - accuracy: 0.6954 - val_loss: 0.4767 - val_accuracy: 0.7889\n",
            "Epoch 84/100\n",
            "25/25 [==============================] - 0s 7ms/step - loss: 0.5922 - accuracy: 0.6979 - val_loss: 0.4737 - val_accuracy: 0.7764\n",
            "Epoch 85/100\n",
            "25/25 [==============================] - 0s 7ms/step - loss: 0.5760 - accuracy: 0.7286 - val_loss: 0.4448 - val_accuracy: 0.8241\n",
            "Epoch 86/100\n",
            "25/25 [==============================] - 0s 8ms/step - loss: 0.5649 - accuracy: 0.7469 - val_loss: 0.5255 - val_accuracy: 0.7563\n",
            "Epoch 87/100\n",
            "25/25 [==============================] - 0s 8ms/step - loss: 0.5730 - accuracy: 0.7167 - val_loss: 0.6110 - val_accuracy: 0.7060\n",
            "Epoch 88/100\n",
            "25/25 [==============================] - 0s 8ms/step - loss: 0.5920 - accuracy: 0.6985 - val_loss: 0.4256 - val_accuracy: 0.8266\n",
            "Epoch 89/100\n",
            "25/25 [==============================] - 0s 7ms/step - loss: 0.5617 - accuracy: 0.7274 - val_loss: 0.4421 - val_accuracy: 0.8116\n",
            "Epoch 90/100\n",
            "25/25 [==============================] - 0s 7ms/step - loss: 0.5729 - accuracy: 0.6922 - val_loss: 0.5026 - val_accuracy: 0.7789\n",
            "Epoch 91/100\n",
            "25/25 [==============================] - 0s 7ms/step - loss: 0.5673 - accuracy: 0.7136 - val_loss: 0.7807 - val_accuracy: 0.6834\n",
            "Epoch 92/100\n",
            "25/25 [==============================] - 0s 7ms/step - loss: 0.5725 - accuracy: 0.7186 - val_loss: 0.4944 - val_accuracy: 0.7940\n",
            "Epoch 93/100\n",
            "25/25 [==============================] - 0s 8ms/step - loss: 0.5557 - accuracy: 0.7337 - val_loss: 0.4270 - val_accuracy: 0.8342\n",
            "Epoch 94/100\n",
            "25/25 [==============================] - 0s 7ms/step - loss: 0.5721 - accuracy: 0.6972 - val_loss: 0.8474 - val_accuracy: 0.6809\n",
            "Epoch 95/100\n",
            "25/25 [==============================] - 0s 8ms/step - loss: 0.5495 - accuracy: 0.7343 - val_loss: 0.4280 - val_accuracy: 0.8241\n",
            "Epoch 96/100\n",
            "25/25 [==============================] - 0s 8ms/step - loss: 0.5531 - accuracy: 0.7280 - val_loss: 0.4652 - val_accuracy: 0.8266\n",
            "Epoch 97/100\n",
            "25/25 [==============================] - 0s 8ms/step - loss: 0.5688 - accuracy: 0.7023 - val_loss: 0.6122 - val_accuracy: 0.7412\n",
            "Epoch 98/100\n",
            "25/25 [==============================] - 0s 7ms/step - loss: 0.5399 - accuracy: 0.7519 - val_loss: 0.3993 - val_accuracy: 0.8518\n",
            "Epoch 99/100\n",
            "25/25 [==============================] - 0s 7ms/step - loss: 0.5361 - accuracy: 0.7475 - val_loss: 0.4063 - val_accuracy: 0.8492\n",
            "Epoch 100/100\n",
            "25/25 [==============================] - 0s 7ms/step - loss: 0.5438 - accuracy: 0.7274 - val_loss: 0.3981 - val_accuracy: 0.8518\n"
          ]
        }
      ],
      "source": [
        "history = model.fit(X_train, y_train, batch_size=64, epochs=100, validation_data=(X_test, y_test))"
      ]
    },
    {
      "cell_type": "code",
      "execution_count": 106,
      "metadata": {
        "colab": {
          "base_uri": "https://localhost:8080/"
        },
        "id": "i5x684Di5hEu",
        "outputId": "c2d1fa16-0077-4d6e-f8a2-9fdd4e11c299"
      },
      "outputs": [
        {
          "data": {
            "text/plain": [
              "0.8517587939698492"
            ]
          },
          "execution_count": 106,
          "metadata": {},
          "output_type": "execute_result"
        }
      ],
      "source": [
        "from sklearn.metrics import accuracy_score\n",
        "\n",
        "temp = model.predict(X_test)\n",
        "for i in range(len(temp)):\n",
        "  if temp[i]>0.5:\n",
        "    temp[i] = 1\n",
        "  else:\n",
        "    temp[i] = 0\n",
        "  \n",
        "accuracy_score(y_test, temp)"
      ]
    },
    {
      "cell_type": "code",
      "execution_count": 107,
      "metadata": {
        "id": "IL4dyNqaCbP-"
      },
      "outputs": [],
      "source": [
        "import matplotlib.pyplot as plt\n",
        "%matplotlib inline"
      ]
    },
    {
      "cell_type": "code",
      "execution_count": 108,
      "metadata": {
        "colab": {
          "base_uri": "https://localhost:8080/",
          "height": 265
        },
        "id": "vjJR6YW-C0bY",
        "outputId": "db6e1da3-f02d-41ca-a735-707480e79921"
      },
      "outputs": [
        {
          "data": {
            "image/png": "[encoded data removed]",
            "text/plain": [
              "<Figure size 432x288 with 1 Axes>"
            ]
          },
          "metadata": {
            "needs_background": "light"
          },
          "output_type": "display_data"
        }
      ],
      "source": [
        "plt.plot(history.history['loss'], color='red', label=\"Training Loss\")\n",
        "plt.plot(history.history['val_loss'], color='blue', label=\"Testing Loss\")\n",
        "plt.legend()\n",
        "plt.show()"
      ]
    },
    {
      "cell_type": "code",
      "execution_count": 109,
      "metadata": {
        "colab": {
          "base_uri": "https://localhost:8080/",
          "height": 265
        },
        "id": "QOxGf9sZC7SP",
        "outputId": "c824d21c-5b93-42c6-e687-68b048c788b5"
      },
      "outputs": [
        {
          "data": {
            "image/png": "[encoded data removed]",
            "text/plain": [
              "<Figure size 432x288 with 1 Axes>"
            ]
          },
          "metadata": {
            "needs_background": "light"
          },
          "output_type": "display_data"
        }
      ],
      "source": [
        "plt.plot(history.history['accuracy'], color='red', label=\"Training Accuracy\")\n",
        "plt.plot(history.history['val_accuracy'], color='blue', label=\"Testing Accuracy\")\n",
        "plt.legend()\n",
        "plt.show()"
      ]
    },
    {
      "cell_type": "code",
      "execution_count": 110,
      "metadata": {
        "id": "uOpp1cv-Q_of"
      },
      "outputs": [],
      "source": [
        "model.save(\"dense.h5\")"
      ]
    },
    {
      "cell_type": "markdown",
      "metadata": {
        "id": "0twtHVhxTa3d"
      },
      "source": [
        "# LSTM"
      ]
    },
    {
      "cell_type": "code",
      "execution_count": 93,
      "metadata": {
        "id": "uIrxL3giagnq"
      },
      "outputs": [],
      "source": [
        "X_train =X_train.reshape(X_train.shape[0],X_train.shape[1])\n",
        "X_test = X_test.reshape(X_test.shape[0],X_test.shape[1])"
      ]
    },
    {
      "cell_type": "code",
      "execution_count": 94,
      "metadata": {
        "colab": {
          "base_uri": "https://localhost:8080/"
        },
        "id": "QSZ8TVN2eBoe",
        "outputId": "33b204be-f14e-4c0f-a000-8b7f5970015a"
      },
      "outputs": [
        {
          "data": {
            "text/plain": [
              "0"
            ]
          },
          "execution_count": 94,
          "metadata": {},
          "output_type": "execute_result"
        }
      ],
      "source": [
        "y_test.iloc[0]"
      ]
    },
    {
      "cell_type": "code",
      "execution_count": 95,
      "metadata": {
        "id": "p-7f5R4Bc9jd"
      },
      "outputs": [],
      "source": [
        "X_train_lstm = []\n",
        "y_train_lstm = []\n",
        "for i in range(1, 1592):\n",
        "    X_train_lstm.append(X_train[i-1:i, :])\n",
        "    y_train_lstm.append(y_train.iloc[i])\n",
        "\n",
        "X_train_lstm, y_train_lstm = np.array(X_train_lstm), np.array(y_train_lstm)\n",
        "X_train_lstm = np.reshape(X_train_lstm, (X_train_lstm.shape[0], X_train_lstm.shape[1], 4))"
      ]
    },
    {
      "cell_type": "code",
      "execution_count": 96,
      "metadata": {},
      "outputs": [
        {
          "data": {
            "text/plain": [
              "398"
            ]
          },
          "execution_count": 96,
          "metadata": {},
          "output_type": "execute_result"
        }
      ],
      "source": [
        "len(X_test)"
      ]
    },
    {
      "cell_type": "code",
      "execution_count": 97,
      "metadata": {},
      "outputs": [],
      "source": [
        "X_test_lstm = []\n",
        "y_test_lstm = []\n",
        "for i in range(1, 398):\n",
        "    X_test_lstm.append(X_test[i-1:i, :])\n",
        "    y_test_lstm.append(y_test.iloc[i])\n",
        "\n",
        "X_test_lstm, y_test_lstm = np.array(X_test_lstm), np.array(y_test_lstm)\n",
        "X_test_lstm = np.reshape(X_test_lstm, (X_test_lstm.shape[0], X_test_lstm.shape[1], 4))"
      ]
    },
    {
      "cell_type": "code",
      "execution_count": 98,
      "metadata": {
        "id": "rV19u7tRTe9L"
      },
      "outputs": [],
      "source": [
        "model_lstm=Sequential()\n",
        "model_lstm.add(LSTM(10,return_sequences=True,input_shape = (X_train_lstm.shape[1], 4)))\n",
        "model_lstm.add(LSTM(10))\n",
        "model_lstm.add(Dense(1, activation='sigmoid'))\n",
        "model_lstm.compile(loss='binary_crossentropy',optimizer='adam',metrics='accuracy')"
      ]
    },
    {
      "cell_type": "code",
      "execution_count": 99,
      "metadata": {
        "colab": {
          "base_uri": "https://localhost:8080/"
        },
        "id": "T2GjEkIicKGJ",
        "outputId": "2c84feae-09b1-4290-9099-4f932261ca52"
      },
      "outputs": [
        {
          "name": "stdout",
          "output_type": "stream",
          "text": [
            "Epoch 1/100\n",
            "50/50 [==============================] - 7s 38ms/step - loss: 0.6930 - accuracy: 0.5053 - val_loss: 0.6922 - val_accuracy: 0.5466\n",
            "Epoch 2/100\n",
            "50/50 [==============================] - 1s 14ms/step - loss: 0.6924 - accuracy: 0.5261 - val_loss: 0.6910 - val_accuracy: 0.5466\n",
            "Epoch 3/100\n",
            "50/50 [==============================] - 1s 12ms/step - loss: 0.6922 - accuracy: 0.5261 - val_loss: 0.6903 - val_accuracy: 0.5466\n",
            "Epoch 4/100\n",
            "50/50 [==============================] - 1s 13ms/step - loss: 0.6920 - accuracy: 0.5261 - val_loss: 0.6900 - val_accuracy: 0.5466\n",
            "Epoch 5/100\n",
            "50/50 [==============================] - 1s 14ms/step - loss: 0.6919 - accuracy: 0.5261 - val_loss: 0.6899 - val_accuracy: 0.5466\n",
            "Epoch 6/100\n",
            "50/50 [==============================] - 1s 13ms/step - loss: 0.6919 - accuracy: 0.5261 - val_loss: 0.6897 - val_accuracy: 0.5466\n",
            "Epoch 7/100\n",
            "50/50 [==============================] - 1s 13ms/step - loss: 0.6918 - accuracy: 0.5261 - val_loss: 0.6899 - val_accuracy: 0.5466\n",
            "Epoch 8/100\n",
            "50/50 [==============================] - 1s 11ms/step - loss: 0.6918 - accuracy: 0.5261 - val_loss: 0.6897 - val_accuracy: 0.5466\n",
            "Epoch 9/100\n",
            "50/50 [==============================] - 0s 9ms/step - loss: 0.6918 - accuracy: 0.5261 - val_loss: 0.6898 - val_accuracy: 0.5466\n",
            "Epoch 10/100\n",
            "50/50 [==============================] - 0s 9ms/step - loss: 0.6918 - accuracy: 0.5261 - val_loss: 0.6897 - val_accuracy: 0.5466\n",
            "Epoch 11/100\n",
            "50/50 [==============================] - 0s 10ms/step - loss: 0.6918 - accuracy: 0.5261 - val_loss: 0.6897 - val_accuracy: 0.5466\n",
            "Epoch 12/100\n",
            "50/50 [==============================] - 0s 10ms/step - loss: 0.6918 - accuracy: 0.5261 - val_loss: 0.6898 - val_accuracy: 0.5466\n",
            "Epoch 13/100\n",
            "50/50 [==============================] - 0s 10ms/step - loss: 0.6917 - accuracy: 0.5261 - val_loss: 0.6897 - val_accuracy: 0.5466\n",
            "Epoch 14/100\n",
            "50/50 [==============================] - 1s 10ms/step - loss: 0.6917 - accuracy: 0.5261 - val_loss: 0.6897 - val_accuracy: 0.5466\n",
            "Epoch 15/100\n",
            "14/50 [=======>......................] - ETA: 0s - loss: 0.6886 - accuracy: 0.5491"
          ]
        },
        {
          "ename": "KeyboardInterrupt",
          "evalue": "",
          "output_type": "error",
          "traceback": [
            "\u001b[1;31m---------------------------------------------------------------------------\u001b[0m",
            "\u001b[1;31mKeyboardInterrupt\u001b[0m                         Traceback (most recent call last)",
            "\u001b[1;32mc:\\Users\\ANSHU\\Desktop\\Stock-Market-Movement-Predictor\\ML_models.ipynb Cell 54'\u001b[0m in \u001b[0;36m<cell line: 1>\u001b[1;34m()\u001b[0m\n\u001b[1;32m----> <a href='vscode-notebook-cell:/c%3A/Users/ANSHU/Desktop/Stock-Market-Movement-Predictor/ML_models.ipynb#ch0000053?line=0'>1</a>\u001b[0m history_lstm \u001b[39m=\u001b[39m model_lstm\u001b[39m.\u001b[39;49mfit(X_train_lstm, y_train_lstm, epochs \u001b[39m=\u001b[39;49m \u001b[39m100\u001b[39;49m, batch_size \u001b[39m=\u001b[39;49m \u001b[39m32\u001b[39;49m, validation_data\u001b[39m=\u001b[39;49m(X_test_lstm, y_test_lstm))\n",
            "File \u001b[1;32mc:\\Users\\ANSHU\\anaconda3\\envs\\gaip-tf\\lib\\site-packages\\tensorflow\\python\\keras\\engine\\training.py:1193\u001b[0m, in \u001b[0;36mModel.fit\u001b[1;34m(self, x, y, batch_size, epochs, verbose, callbacks, validation_split, validation_data, shuffle, class_weight, sample_weight, initial_epoch, steps_per_epoch, validation_steps, validation_batch_size, validation_freq, max_queue_size, workers, use_multiprocessing)\u001b[0m\n\u001b[0;32m   1186\u001b[0m \u001b[39mwith\u001b[39;00m trace\u001b[39m.\u001b[39mTrace(\n\u001b[0;32m   1187\u001b[0m     \u001b[39m'\u001b[39m\u001b[39mtrain\u001b[39m\u001b[39m'\u001b[39m,\n\u001b[0;32m   1188\u001b[0m     epoch_num\u001b[39m=\u001b[39mepoch,\n\u001b[0;32m   1189\u001b[0m     step_num\u001b[39m=\u001b[39mstep,\n\u001b[0;32m   1190\u001b[0m     batch_size\u001b[39m=\u001b[39mbatch_size,\n\u001b[0;32m   1191\u001b[0m     _r\u001b[39m=\u001b[39m\u001b[39m1\u001b[39m):\n\u001b[0;32m   1192\u001b[0m   callbacks\u001b[39m.\u001b[39mon_train_batch_begin(step)\n\u001b[1;32m-> 1193\u001b[0m   tmp_logs \u001b[39m=\u001b[39m \u001b[39mself\u001b[39;49m\u001b[39m.\u001b[39;49mtrain_function(iterator)\n\u001b[0;32m   1194\u001b[0m   \u001b[39mif\u001b[39;00m data_handler\u001b[39m.\u001b[39mshould_sync:\n\u001b[0;32m   1195\u001b[0m     context\u001b[39m.\u001b[39masync_wait()\n",
            "File \u001b[1;32mc:\\Users\\ANSHU\\anaconda3\\envs\\gaip-tf\\lib\\site-packages\\tensorflow\\python\\eager\\def_function.py:885\u001b[0m, in \u001b[0;36mFunction.__call__\u001b[1;34m(self, *args, **kwds)\u001b[0m\n\u001b[0;32m    882\u001b[0m compiler \u001b[39m=\u001b[39m \u001b[39m\"\u001b[39m\u001b[39mxla\u001b[39m\u001b[39m\"\u001b[39m \u001b[39mif\u001b[39;00m \u001b[39mself\u001b[39m\u001b[39m.\u001b[39m_jit_compile \u001b[39melse\u001b[39;00m \u001b[39m\"\u001b[39m\u001b[39mnonXla\u001b[39m\u001b[39m\"\u001b[39m\n\u001b[0;32m    884\u001b[0m \u001b[39mwith\u001b[39;00m OptionalXlaContext(\u001b[39mself\u001b[39m\u001b[39m.\u001b[39m_jit_compile):\n\u001b[1;32m--> 885\u001b[0m   result \u001b[39m=\u001b[39m \u001b[39mself\u001b[39m\u001b[39m.\u001b[39m_call(\u001b[39m*\u001b[39margs, \u001b[39m*\u001b[39m\u001b[39m*\u001b[39mkwds)\n\u001b[0;32m    887\u001b[0m new_tracing_count \u001b[39m=\u001b[39m \u001b[39mself\u001b[39m\u001b[39m.\u001b[39mexperimental_get_tracing_count()\n\u001b[0;32m    888\u001b[0m without_tracing \u001b[39m=\u001b[39m (tracing_count \u001b[39m==\u001b[39m new_tracing_count)\n",
            "File \u001b[1;32mc:\\Users\\ANSHU\\anaconda3\\envs\\gaip-tf\\lib\\site-packages\\tensorflow\\python\\eager\\def_function.py:917\u001b[0m, in \u001b[0;36mFunction._call\u001b[1;34m(self, *args, **kwds)\u001b[0m\n\u001b[0;32m    914\u001b[0m   \u001b[39mself\u001b[39m\u001b[39m.\u001b[39m_lock\u001b[39m.\u001b[39mrelease()\n\u001b[0;32m    915\u001b[0m   \u001b[39m# In this case we have created variables on the first call, so we run the\u001b[39;00m\n\u001b[0;32m    916\u001b[0m   \u001b[39m# defunned version which is guaranteed to never create variables.\u001b[39;00m\n\u001b[1;32m--> 917\u001b[0m   \u001b[39mreturn\u001b[39;00m \u001b[39mself\u001b[39m\u001b[39m.\u001b[39m_stateless_fn(\u001b[39m*\u001b[39margs, \u001b[39m*\u001b[39m\u001b[39m*\u001b[39mkwds)  \u001b[39m# pylint: disable=not-callable\u001b[39;00m\n\u001b[0;32m    918\u001b[0m \u001b[39melif\u001b[39;00m \u001b[39mself\u001b[39m\u001b[39m.\u001b[39m_stateful_fn \u001b[39mis\u001b[39;00m \u001b[39mnot\u001b[39;00m \u001b[39mNone\u001b[39;00m:\n\u001b[0;32m    919\u001b[0m   \u001b[39m# Release the lock early so that multiple threads can perform the call\u001b[39;00m\n\u001b[0;32m    920\u001b[0m   \u001b[39m# in parallel.\u001b[39;00m\n\u001b[0;32m    921\u001b[0m   \u001b[39mself\u001b[39m\u001b[39m.\u001b[39m_lock\u001b[39m.\u001b[39mrelease()\n",
            "File \u001b[1;32mc:\\Users\\ANSHU\\anaconda3\\envs\\gaip-tf\\lib\\site-packages\\tensorflow\\python\\eager\\function.py:3039\u001b[0m, in \u001b[0;36mFunction.__call__\u001b[1;34m(self, *args, **kwargs)\u001b[0m\n\u001b[0;32m   3036\u001b[0m \u001b[39mwith\u001b[39;00m \u001b[39mself\u001b[39m\u001b[39m.\u001b[39m_lock:\n\u001b[0;32m   3037\u001b[0m   (graph_function,\n\u001b[0;32m   3038\u001b[0m    filtered_flat_args) \u001b[39m=\u001b[39m \u001b[39mself\u001b[39m\u001b[39m.\u001b[39m_maybe_define_function(args, kwargs)\n\u001b[1;32m-> 3039\u001b[0m \u001b[39mreturn\u001b[39;00m graph_function\u001b[39m.\u001b[39;49m_call_flat(\n\u001b[0;32m   3040\u001b[0m     filtered_flat_args, captured_inputs\u001b[39m=\u001b[39;49mgraph_function\u001b[39m.\u001b[39;49mcaptured_inputs)\n",
            "File \u001b[1;32mc:\\Users\\ANSHU\\anaconda3\\envs\\gaip-tf\\lib\\site-packages\\tensorflow\\python\\eager\\function.py:1963\u001b[0m, in \u001b[0;36mConcreteFunction._call_flat\u001b[1;34m(self, args, captured_inputs, cancellation_manager)\u001b[0m\n\u001b[0;32m   1959\u001b[0m possible_gradient_type \u001b[39m=\u001b[39m gradients_util\u001b[39m.\u001b[39mPossibleTapeGradientTypes(args)\n\u001b[0;32m   1960\u001b[0m \u001b[39mif\u001b[39;00m (possible_gradient_type \u001b[39m==\u001b[39m gradients_util\u001b[39m.\u001b[39mPOSSIBLE_GRADIENT_TYPES_NONE\n\u001b[0;32m   1961\u001b[0m     \u001b[39mand\u001b[39;00m executing_eagerly):\n\u001b[0;32m   1962\u001b[0m   \u001b[39m# No tape is watching; skip to running the function.\u001b[39;00m\n\u001b[1;32m-> 1963\u001b[0m   \u001b[39mreturn\u001b[39;00m \u001b[39mself\u001b[39m\u001b[39m.\u001b[39m_build_call_outputs(\u001b[39mself\u001b[39;49m\u001b[39m.\u001b[39;49m_inference_function\u001b[39m.\u001b[39;49mcall(\n\u001b[0;32m   1964\u001b[0m       ctx, args, cancellation_manager\u001b[39m=\u001b[39;49mcancellation_manager))\n\u001b[0;32m   1965\u001b[0m forward_backward \u001b[39m=\u001b[39m \u001b[39mself\u001b[39m\u001b[39m.\u001b[39m_select_forward_and_backward_functions(\n\u001b[0;32m   1966\u001b[0m     args,\n\u001b[0;32m   1967\u001b[0m     possible_gradient_type,\n\u001b[0;32m   1968\u001b[0m     executing_eagerly)\n\u001b[0;32m   1969\u001b[0m forward_function, args_with_tangents \u001b[39m=\u001b[39m forward_backward\u001b[39m.\u001b[39mforward()\n",
            "File \u001b[1;32mc:\\Users\\ANSHU\\anaconda3\\envs\\gaip-tf\\lib\\site-packages\\tensorflow\\python\\eager\\function.py:591\u001b[0m, in \u001b[0;36m_EagerDefinedFunction.call\u001b[1;34m(self, ctx, args, cancellation_manager)\u001b[0m\n\u001b[0;32m    589\u001b[0m \u001b[39mwith\u001b[39;00m _InterpolateFunctionError(\u001b[39mself\u001b[39m):\n\u001b[0;32m    590\u001b[0m   \u001b[39mif\u001b[39;00m cancellation_manager \u001b[39mis\u001b[39;00m \u001b[39mNone\u001b[39;00m:\n\u001b[1;32m--> 591\u001b[0m     outputs \u001b[39m=\u001b[39m execute\u001b[39m.\u001b[39;49mexecute(\n\u001b[0;32m    592\u001b[0m         \u001b[39mstr\u001b[39;49m(\u001b[39mself\u001b[39;49m\u001b[39m.\u001b[39;49msignature\u001b[39m.\u001b[39;49mname),\n\u001b[0;32m    593\u001b[0m         num_outputs\u001b[39m=\u001b[39;49m\u001b[39mself\u001b[39;49m\u001b[39m.\u001b[39;49m_num_outputs,\n\u001b[0;32m    594\u001b[0m         inputs\u001b[39m=\u001b[39;49margs,\n\u001b[0;32m    595\u001b[0m         attrs\u001b[39m=\u001b[39;49mattrs,\n\u001b[0;32m    596\u001b[0m         ctx\u001b[39m=\u001b[39;49mctx)\n\u001b[0;32m    597\u001b[0m   \u001b[39melse\u001b[39;00m:\n\u001b[0;32m    598\u001b[0m     outputs \u001b[39m=\u001b[39m execute\u001b[39m.\u001b[39mexecute_with_cancellation(\n\u001b[0;32m    599\u001b[0m         \u001b[39mstr\u001b[39m(\u001b[39mself\u001b[39m\u001b[39m.\u001b[39msignature\u001b[39m.\u001b[39mname),\n\u001b[0;32m    600\u001b[0m         num_outputs\u001b[39m=\u001b[39m\u001b[39mself\u001b[39m\u001b[39m.\u001b[39m_num_outputs,\n\u001b[1;32m   (...)\u001b[0m\n\u001b[0;32m    603\u001b[0m         ctx\u001b[39m=\u001b[39mctx,\n\u001b[0;32m    604\u001b[0m         cancellation_manager\u001b[39m=\u001b[39mcancellation_manager)\n",
            "File \u001b[1;32mc:\\Users\\ANSHU\\anaconda3\\envs\\gaip-tf\\lib\\site-packages\\tensorflow\\python\\eager\\execute.py:59\u001b[0m, in \u001b[0;36mquick_execute\u001b[1;34m(op_name, num_outputs, inputs, attrs, ctx, name)\u001b[0m\n\u001b[0;32m     57\u001b[0m \u001b[39mtry\u001b[39;00m:\n\u001b[0;32m     58\u001b[0m   ctx\u001b[39m.\u001b[39mensure_initialized()\n\u001b[1;32m---> 59\u001b[0m   tensors \u001b[39m=\u001b[39m pywrap_tfe\u001b[39m.\u001b[39;49mTFE_Py_Execute(ctx\u001b[39m.\u001b[39;49m_handle, device_name, op_name,\n\u001b[0;32m     60\u001b[0m                                       inputs, attrs, num_outputs)\n\u001b[0;32m     61\u001b[0m \u001b[39mexcept\u001b[39;00m core\u001b[39m.\u001b[39m_NotOkStatusException \u001b[39mas\u001b[39;00m e:\n\u001b[0;32m     62\u001b[0m   \u001b[39mif\u001b[39;00m name \u001b[39mis\u001b[39;00m \u001b[39mnot\u001b[39;00m \u001b[39mNone\u001b[39;00m:\n",
            "\u001b[1;31mKeyboardInterrupt\u001b[0m: "
          ]
        }
      ],
      "source": [
        "history_lstm = model_lstm.fit(X_train_lstm, y_train_lstm, epochs = 100, batch_size = 32, validation_data=(X_test_lstm, y_test_lstm))"
      ]
    },
    {
      "cell_type": "code",
      "execution_count": 92,
      "metadata": {
        "id": "WY6D9FH_ejrI"
      },
      "outputs": [
        {
          "data": {
            "image/png": "[encoded data removed]",
            "text/plain": [
              "<Figure size 432x288 with 1 Axes>"
            ]
          },
          "metadata": {
            "needs_background": "light"
          },
          "output_type": "display_data"
        }
      ],
      "source": [
        "plt.plot(history_lstm.history['loss'], color='red', label=\"Training Loss\")\n",
        "plt.plot(history_lstm.history['val_loss'], color='blue', label=\"Testing Loss\")\n",
        "plt.legend()\n",
        "plt.show()"
      ]
    },
    {
      "cell_type": "code",
      "execution_count": 89,
      "metadata": {},
      "outputs": [
        {
          "data": {
            "image/png": "[encoded data removed]",
            "text/plain": [
              "<Figure size 432x288 with 1 Axes>"
            ]
          },
          "metadata": {
            "needs_background": "light"
          },
          "output_type": "display_data"
        }
      ],
      "source": [
        "plt.plot(history_lstm.history['accuracy'], color='red', label=\"Training Accuracy\")\n",
        "plt.plot(history_lstm.history['val_accuracy'], color='blue', label=\"Testing Accuracy\")\n",
        "plt.legend()\n",
        "plt.show()"
      ]
    },
    {
      "cell_type": "code",
      "execution_count": null,
      "metadata": {},
      "outputs": [],
      "source": []
    }
  ],
  "metadata": {
    "colab": {
      "name": "ML_models.ipynb",
      "provenance": []
    },
    "kernelspec": {
      "display_name": "Python 3.9.12 ('gaip-tf')",
      "language": "python",
      "name": "python3"
    },
    "language_info": {
      "codemirror_mode": {
        "name": "ipython",
        "version": 3
      },
      "file_extension": ".py",
      "mimetype": "text/x-python",
      "name": "python",
      "nbconvert_exporter": "python",
      "pygments_lexer": "ipython3",
      "version": "3.9.12"
    },
    "vscode": {
      "interpreter": {
        "hash": "1b36a6aceba897fda56d7e90acf89496ac0a03fe03fb67196d25146dede7cb16"
      }
    }
  },
  "nbformat": 4,
  "nbformat_minor": 0
}
