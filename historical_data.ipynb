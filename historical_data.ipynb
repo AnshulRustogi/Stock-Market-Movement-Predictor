{
  "cells": [
    {
      "cell_type": "code",
      "execution_count": 1,
      "metadata": {
        "colab": {
          "base_uri": "https://localhost:8080/"
        },
        "id": "KlvKFp9m9Vvw",
        "outputId": "fa35c92e-0d7d-4c56-ced7-5741ff9063be"
      },
      "outputs": [
        {
          "name": "stdout",
          "output_type": "stream",
          "text": [
            "Collecting yfinance\n",
            "  Downloading yfinance-0.1.72-py2.py3-none-any.whl (27 kB)\n",
            "Collecting multitasking>=0.0.7\n",
            "  Downloading multitasking-0.0.10.tar.gz (8.2 kB)\n",
            "Requirement already satisfied: pandas>=0.24.0 in c:\\users\\anshu\\anaconda3\\envs\\gaip-tf\\lib\\site-packages (from yfinance) (1.4.2)\n",
            "Collecting lxml>=4.5.1\n",
            "  Downloading lxml-4.9.0-cp39-cp39-win_amd64.whl (3.6 MB)\n",
            "Requirement already satisfied: numpy>=1.15 in c:\\users\\anshu\\anaconda3\\envs\\gaip-tf\\lib\\site-packages (from yfinance) (1.22.4)\n",
            "Requirement already satisfied: requests>=2.26 in c:\\users\\anshu\\anaconda3\\envs\\gaip-tf\\lib\\site-packages (from yfinance) (2.27.1)\n",
            "Requirement already satisfied: pytz>=2020.1 in c:\\users\\anshu\\anaconda3\\envs\\gaip-tf\\lib\\site-packages (from pandas>=0.24.0->yfinance) (2022.1)\n",
            "Requirement already satisfied: python-dateutil>=2.8.1 in c:\\users\\anshu\\anaconda3\\envs\\gaip-tf\\lib\\site-packages (from pandas>=0.24.0->yfinance) (2.8.2)\n",
            "Requirement already satisfied: six>=1.5 in c:\\users\\anshu\\anaconda3\\envs\\gaip-tf\\lib\\site-packages (from python-dateutil>=2.8.1->pandas>=0.24.0->yfinance) (1.16.0)\n",
            "Requirement already satisfied: certifi>=2017.4.17 in c:\\users\\anshu\\anaconda3\\envs\\gaip-tf\\lib\\site-packages (from requests>=2.26->yfinance) (2022.5.18.1)\n",
            "Requirement already satisfied: idna<4,>=2.5 in c:\\users\\anshu\\anaconda3\\envs\\gaip-tf\\lib\\site-packages (from requests>=2.26->yfinance) (3.3)\n",
            "Requirement already satisfied: urllib3<1.27,>=1.21.1 in c:\\users\\anshu\\anaconda3\\envs\\gaip-tf\\lib\\site-packages (from requests>=2.26->yfinance) (1.26.9)\n",
            "Requirement already satisfied: charset-normalizer~=2.0.0 in c:\\users\\anshu\\anaconda3\\envs\\gaip-tf\\lib\\site-packages (from requests>=2.26->yfinance) (2.0.4)\n",
            "Building wheels for collected packages: multitasking\n",
            "  Building wheel for multitasking (setup.py): started\n",
            "  Building wheel for multitasking (setup.py): finished with status 'done'\n",
            "  Created wheel for multitasking: filename=multitasking-0.0.10-py3-none-any.whl size=8504 sha256=9edb11ea874e516e965afb44edbef6c0d3f5bf4c5fd128c9c54d71596e834e28\n",
            "  Stored in directory: c:\\users\\anshu\\appdata\\local\\pip\\cache\\wheels\\f2\\b5\\2c\\59ba95dcf854e542944c75fe3da584e4e3833b319735a0546c\n",
            "Successfully built multitasking\n",
            "Installing collected packages: multitasking, lxml, yfinance\n",
            "Successfully installed lxml-4.9.0 multitasking-0.0.10 yfinance-0.1.72\n"
          ]
        }
      ],
      "source": [
        "!pip install yfinance"
      ]
    },
    {
      "cell_type": "code",
      "execution_count": 1,
      "metadata": {
        "id": "0fi68ukF9Vv3"
      },
      "outputs": [],
      "source": [
        "import yfinance as yf\n"
      ]
    },
    {
      "cell_type": "code",
      "execution_count": 2,
      "metadata": {
        "id": "pKKYjM0DOMN7"
      },
      "outputs": [],
      "source": [
        "def save_stock_data(ticker, save_file_name=None):\n",
        "  try:\n",
        "    msft = yf.Ticker(ticker)\n",
        "    raw_data = msft.history(period=\"max\")\n",
        "    if save_file_name==None:\n",
        "      raw_data.to_csv(ticker + \"_past_data.csv\")\n",
        "      return 0\n",
        "    else:\n",
        "      raw_data.to_csv(save_file_name)\n",
        "      return 0\n",
        "  except:\n",
        "    return 1"
      ]
    },
    {
      "cell_type": "code",
      "execution_count": 3,
      "metadata": {
        "colab": {
          "base_uri": "https://localhost:8080/"
        },
        "id": "GdabY5GAOORI",
        "outputId": "949e80eb-cff0-4c61-cc7f-351a0d6b0d88"
      },
      "outputs": [
        {
          "data": {
            "text/plain": [
              "0"
            ]
          },
          "execution_count": 3,
          "metadata": {},
          "output_type": "execute_result"
        }
      ],
      "source": [
        "save_stock_data(\"AAPL\")"
      ]
    },
    {
      "cell_type": "markdown",
      "metadata": {
        "id": "IV8BhveYt__J"
      },
      "source": [
        "# Adding Target Label"
      ]
    },
    {
      "cell_type": "code",
      "execution_count": 4,
      "metadata": {
        "id": "WXFP48WquC1U"
      },
      "outputs": [],
      "source": [
        "import pandas as pd\n",
        "import numpy as np"
      ]
    },
    {
      "cell_type": "code",
      "execution_count": 5,
      "metadata": {
        "colab": {
          "base_uri": "https://localhost:8080/",
          "height": 206
        },
        "id": "fsudCxBpuG1x",
        "outputId": "d34a4611-8b79-4ee5-f719-0fcfd2d0ac97"
      },
      "outputs": [
        {
          "data": {
            "text/html": [
              "<div>\n",
              "<style scoped>\n",
              "    .dataframe tbody tr th:only-of-type {\n",
              "        vertical-align: middle;\n",
              "    }\n",
              "\n",
              "    .dataframe tbody tr th {\n",
              "        vertical-align: top;\n",
              "    }\n",
              "\n",
              "    .dataframe thead th {\n",
              "        text-align: right;\n",
              "    }\n",
              "</style>\n",
              "<table border=\"1\" class=\"dataframe\">\n",
              "  <thead>\n",
              "    <tr style=\"text-align: right;\">\n",
              "      <th></th>\n",
              "      <th>Date</th>\n",
              "      <th>Open</th>\n",
              "      <th>High</th>\n",
              "      <th>Low</th>\n",
              "      <th>Close</th>\n",
              "      <th>Volume</th>\n",
              "      <th>Dividends</th>\n",
              "      <th>Stock Splits</th>\n",
              "    </tr>\n",
              "  </thead>\n",
              "  <tbody>\n",
              "    <tr>\n",
              "      <th>0</th>\n",
              "      <td>1980-12-12</td>\n",
              "      <td>0.100178</td>\n",
              "      <td>0.100614</td>\n",
              "      <td>0.100178</td>\n",
              "      <td>0.100178</td>\n",
              "      <td>469033600</td>\n",
              "      <td>0.0</td>\n",
              "      <td>0.0</td>\n",
              "    </tr>\n",
              "    <tr>\n",
              "      <th>1</th>\n",
              "      <td>1980-12-15</td>\n",
              "      <td>0.095388</td>\n",
              "      <td>0.095388</td>\n",
              "      <td>0.094952</td>\n",
              "      <td>0.094952</td>\n",
              "      <td>175884800</td>\n",
              "      <td>0.0</td>\n",
              "      <td>0.0</td>\n",
              "    </tr>\n",
              "    <tr>\n",
              "      <th>2</th>\n",
              "      <td>1980-12-16</td>\n",
              "      <td>0.088418</td>\n",
              "      <td>0.088418</td>\n",
              "      <td>0.087983</td>\n",
              "      <td>0.087983</td>\n",
              "      <td>105728000</td>\n",
              "      <td>0.0</td>\n",
              "      <td>0.0</td>\n",
              "    </tr>\n",
              "    <tr>\n",
              "      <th>3</th>\n",
              "      <td>1980-12-17</td>\n",
              "      <td>0.090160</td>\n",
              "      <td>0.090596</td>\n",
              "      <td>0.090160</td>\n",
              "      <td>0.090160</td>\n",
              "      <td>86441600</td>\n",
              "      <td>0.0</td>\n",
              "      <td>0.0</td>\n",
              "    </tr>\n",
              "    <tr>\n",
              "      <th>4</th>\n",
              "      <td>1980-12-18</td>\n",
              "      <td>0.092774</td>\n",
              "      <td>0.093210</td>\n",
              "      <td>0.092774</td>\n",
              "      <td>0.092774</td>\n",
              "      <td>73449600</td>\n",
              "      <td>0.0</td>\n",
              "      <td>0.0</td>\n",
              "    </tr>\n",
              "  </tbody>\n",
              "</table>\n",
              "</div>"
            ],
            "text/plain": [
              "         Date      Open      High       Low     Close     Volume  Dividends  \\\n",
              "0  1980-12-12  0.100178  0.100614  0.100178  0.100178  469033600        0.0   \n",
              "1  1980-12-15  0.095388  0.095388  0.094952  0.094952  175884800        0.0   \n",
              "2  1980-12-16  0.088418  0.088418  0.087983  0.087983  105728000        0.0   \n",
              "3  1980-12-17  0.090160  0.090596  0.090160  0.090160   86441600        0.0   \n",
              "4  1980-12-18  0.092774  0.093210  0.092774  0.092774   73449600        0.0   \n",
              "\n",
              "   Stock Splits  \n",
              "0           0.0  \n",
              "1           0.0  \n",
              "2           0.0  \n",
              "3           0.0  \n",
              "4           0.0  "
            ]
          },
          "execution_count": 5,
          "metadata": {},
          "output_type": "execute_result"
        }
      ],
      "source": [
        "df = pd.read_csv(\"AAPL_past_data.csv\")\n",
        "df.head()"
      ]
    },
    {
      "cell_type": "code",
      "execution_count": 6,
      "metadata": {
        "colab": {
          "base_uri": "https://localhost:8080/",
          "height": 206
        },
        "id": "sZaN5AgvuNd1",
        "outputId": "688a560e-3802-4728-8e82-c712c05a706e"
      },
      "outputs": [
        {
          "data": {
            "text/html": [
              "<div>\n",
              "<style scoped>\n",
              "    .dataframe tbody tr th:only-of-type {\n",
              "        vertical-align: middle;\n",
              "    }\n",
              "\n",
              "    .dataframe tbody tr th {\n",
              "        vertical-align: top;\n",
              "    }\n",
              "\n",
              "    .dataframe thead th {\n",
              "        text-align: right;\n",
              "    }\n",
              "</style>\n",
              "<table border=\"1\" class=\"dataframe\">\n",
              "  <thead>\n",
              "    <tr style=\"text-align: right;\">\n",
              "      <th></th>\n",
              "      <th>Date</th>\n",
              "      <th>Open</th>\n",
              "      <th>High</th>\n",
              "      <th>Low</th>\n",
              "      <th>Close</th>\n",
              "      <th>Volume</th>\n",
              "      <th>Dividends</th>\n",
              "      <th>Stock Splits</th>\n",
              "      <th>Movement</th>\n",
              "    </tr>\n",
              "  </thead>\n",
              "  <tbody>\n",
              "    <tr>\n",
              "      <th>1</th>\n",
              "      <td>1980-12-15</td>\n",
              "      <td>0.095388</td>\n",
              "      <td>0.095388</td>\n",
              "      <td>0.094952</td>\n",
              "      <td>0.094952</td>\n",
              "      <td>175884800</td>\n",
              "      <td>0.0</td>\n",
              "      <td>0.0</td>\n",
              "      <td>-0.005226</td>\n",
              "    </tr>\n",
              "    <tr>\n",
              "      <th>2</th>\n",
              "      <td>1980-12-16</td>\n",
              "      <td>0.088418</td>\n",
              "      <td>0.088418</td>\n",
              "      <td>0.087983</td>\n",
              "      <td>0.087983</td>\n",
              "      <td>105728000</td>\n",
              "      <td>0.0</td>\n",
              "      <td>0.0</td>\n",
              "      <td>-0.006969</td>\n",
              "    </tr>\n",
              "    <tr>\n",
              "      <th>3</th>\n",
              "      <td>1980-12-17</td>\n",
              "      <td>0.090160</td>\n",
              "      <td>0.090596</td>\n",
              "      <td>0.090160</td>\n",
              "      <td>0.090160</td>\n",
              "      <td>86441600</td>\n",
              "      <td>0.0</td>\n",
              "      <td>0.0</td>\n",
              "      <td>0.002178</td>\n",
              "    </tr>\n",
              "    <tr>\n",
              "      <th>4</th>\n",
              "      <td>1980-12-18</td>\n",
              "      <td>0.092774</td>\n",
              "      <td>0.093210</td>\n",
              "      <td>0.092774</td>\n",
              "      <td>0.092774</td>\n",
              "      <td>73449600</td>\n",
              "      <td>0.0</td>\n",
              "      <td>0.0</td>\n",
              "      <td>0.002614</td>\n",
              "    </tr>\n",
              "    <tr>\n",
              "      <th>5</th>\n",
              "      <td>1980-12-19</td>\n",
              "      <td>0.098436</td>\n",
              "      <td>0.098872</td>\n",
              "      <td>0.098436</td>\n",
              "      <td>0.098436</td>\n",
              "      <td>48630400</td>\n",
              "      <td>0.0</td>\n",
              "      <td>0.0</td>\n",
              "      <td>0.005662</td>\n",
              "    </tr>\n",
              "  </tbody>\n",
              "</table>\n",
              "</div>"
            ],
            "text/plain": [
              "         Date      Open      High       Low     Close     Volume  Dividends  \\\n",
              "1  1980-12-15  0.095388  0.095388  0.094952  0.094952  175884800        0.0   \n",
              "2  1980-12-16  0.088418  0.088418  0.087983  0.087983  105728000        0.0   \n",
              "3  1980-12-17  0.090160  0.090596  0.090160  0.090160   86441600        0.0   \n",
              "4  1980-12-18  0.092774  0.093210  0.092774  0.092774   73449600        0.0   \n",
              "5  1980-12-19  0.098436  0.098872  0.098436  0.098436   48630400        0.0   \n",
              "\n",
              "   Stock Splits  Movement  \n",
              "1           0.0 -0.005226  \n",
              "2           0.0 -0.006969  \n",
              "3           0.0  0.002178  \n",
              "4           0.0  0.002614  \n",
              "5           0.0  0.005662  "
            ]
          },
          "execution_count": 6,
          "metadata": {},
          "output_type": "execute_result"
        }
      ],
      "source": [
        " df[\"Movement\"] = df['Close'] - df['Close'].shift(1)\n",
        " df = df[1:]\n",
        " df.head()"
      ]
    },
    {
      "cell_type": "code",
      "execution_count": 7,
      "metadata": {
        "id": "Xm3iLEdpuw3J"
      },
      "outputs": [],
      "source": [
        "def numerical_to_category(number):\n",
        "  if number<0:\n",
        "    return 0\n",
        "  return 1"
      ]
    },
    {
      "cell_type": "code",
      "execution_count": 8,
      "metadata": {
        "id": "mjbbKk3Lu8-P"
      },
      "outputs": [],
      "source": [
        "df[\"Movement\"] = df[\"Movement\"].apply(numerical_to_category)"
      ]
    },
    {
      "cell_type": "code",
      "execution_count": 9,
      "metadata": {
        "colab": {
          "base_uri": "https://localhost:8080/",
          "height": 206
        },
        "id": "8rBSrEn6vRKJ",
        "outputId": "4aceb47a-28dc-49dd-f1e7-dfc3172def6a"
      },
      "outputs": [
        {
          "data": {
            "text/html": [
              "<div>\n",
              "<style scoped>\n",
              "    .dataframe tbody tr th:only-of-type {\n",
              "        vertical-align: middle;\n",
              "    }\n",
              "\n",
              "    .dataframe tbody tr th {\n",
              "        vertical-align: top;\n",
              "    }\n",
              "\n",
              "    .dataframe thead th {\n",
              "        text-align: right;\n",
              "    }\n",
              "</style>\n",
              "<table border=\"1\" class=\"dataframe\">\n",
              "  <thead>\n",
              "    <tr style=\"text-align: right;\">\n",
              "      <th></th>\n",
              "      <th>Date</th>\n",
              "      <th>Open</th>\n",
              "      <th>High</th>\n",
              "      <th>Low</th>\n",
              "      <th>Close</th>\n",
              "      <th>Volume</th>\n",
              "      <th>Dividends</th>\n",
              "      <th>Stock Splits</th>\n",
              "      <th>Movement</th>\n",
              "    </tr>\n",
              "  </thead>\n",
              "  <tbody>\n",
              "    <tr>\n",
              "      <th>1</th>\n",
              "      <td>1980-12-15</td>\n",
              "      <td>0.095388</td>\n",
              "      <td>0.095388</td>\n",
              "      <td>0.094952</td>\n",
              "      <td>0.094952</td>\n",
              "      <td>175884800</td>\n",
              "      <td>0.0</td>\n",
              "      <td>0.0</td>\n",
              "      <td>0</td>\n",
              "    </tr>\n",
              "    <tr>\n",
              "      <th>2</th>\n",
              "      <td>1980-12-16</td>\n",
              "      <td>0.088418</td>\n",
              "      <td>0.088418</td>\n",
              "      <td>0.087983</td>\n",
              "      <td>0.087983</td>\n",
              "      <td>105728000</td>\n",
              "      <td>0.0</td>\n",
              "      <td>0.0</td>\n",
              "      <td>0</td>\n",
              "    </tr>\n",
              "    <tr>\n",
              "      <th>3</th>\n",
              "      <td>1980-12-17</td>\n",
              "      <td>0.090160</td>\n",
              "      <td>0.090596</td>\n",
              "      <td>0.090160</td>\n",
              "      <td>0.090160</td>\n",
              "      <td>86441600</td>\n",
              "      <td>0.0</td>\n",
              "      <td>0.0</td>\n",
              "      <td>1</td>\n",
              "    </tr>\n",
              "    <tr>\n",
              "      <th>4</th>\n",
              "      <td>1980-12-18</td>\n",
              "      <td>0.092774</td>\n",
              "      <td>0.093210</td>\n",
              "      <td>0.092774</td>\n",
              "      <td>0.092774</td>\n",
              "      <td>73449600</td>\n",
              "      <td>0.0</td>\n",
              "      <td>0.0</td>\n",
              "      <td>1</td>\n",
              "    </tr>\n",
              "    <tr>\n",
              "      <th>5</th>\n",
              "      <td>1980-12-19</td>\n",
              "      <td>0.098436</td>\n",
              "      <td>0.098872</td>\n",
              "      <td>0.098436</td>\n",
              "      <td>0.098436</td>\n",
              "      <td>48630400</td>\n",
              "      <td>0.0</td>\n",
              "      <td>0.0</td>\n",
              "      <td>1</td>\n",
              "    </tr>\n",
              "  </tbody>\n",
              "</table>\n",
              "</div>"
            ],
            "text/plain": [
              "         Date      Open      High       Low     Close     Volume  Dividends  \\\n",
              "1  1980-12-15  0.095388  0.095388  0.094952  0.094952  175884800        0.0   \n",
              "2  1980-12-16  0.088418  0.088418  0.087983  0.087983  105728000        0.0   \n",
              "3  1980-12-17  0.090160  0.090596  0.090160  0.090160   86441600        0.0   \n",
              "4  1980-12-18  0.092774  0.093210  0.092774  0.092774   73449600        0.0   \n",
              "5  1980-12-19  0.098436  0.098872  0.098436  0.098436   48630400        0.0   \n",
              "\n",
              "   Stock Splits  Movement  \n",
              "1           0.0         0  \n",
              "2           0.0         0  \n",
              "3           0.0         1  \n",
              "4           0.0         1  \n",
              "5           0.0         1  "
            ]
          },
          "execution_count": 9,
          "metadata": {},
          "output_type": "execute_result"
        }
      ],
      "source": [
        "df.head()"
      ]
    },
    {
      "cell_type": "code",
      "execution_count": 10,
      "metadata": {
        "colab": {
          "base_uri": "https://localhost:8080/"
        },
        "id": "FLEIbYxjvXS2",
        "outputId": "5413d61e-8d73-46d2-f486-d67a7ab3bca7"
      },
      "outputs": [
        {
          "data": {
            "text/plain": [
              "1    5566\n",
              "0    4903\n",
              "Name: Movement, dtype: int64"
            ]
          },
          "execution_count": 10,
          "metadata": {},
          "output_type": "execute_result"
        }
      ],
      "source": [
        "df[\"Movement\"].value_counts()"
      ]
    },
    {
      "cell_type": "code",
      "execution_count": 11,
      "metadata": {},
      "outputs": [],
      "source": [
        "df.to_csv(\"AAPL_past_data.csv\")"
      ]
    },
    {
      "cell_type": "markdown",
      "metadata": {
        "id": "ZZO5bBwcsRfb"
      },
      "source": [
        "# Importing Libraries\n"
      ]
    },
    {
      "cell_type": "code",
      "execution_count": 12,
      "metadata": {
        "id": "vy37JTWosWad"
      },
      "outputs": [],
      "source": [
        "import pandas as pd\n",
        "import numpy as np\n",
        "import matplotlib.pyplot as plt\n",
        "import seaborn as sns\n",
        " \n",
        "%matplotlib inline"
      ]
    },
    {
      "cell_type": "markdown",
      "metadata": {
        "id": "loVeDcUzvBKU"
      },
      "source": [
        "# Data Cleaning\n",
        "\n"
      ]
    },
    {
      "cell_type": "code",
      "execution_count": 14,
      "metadata": {
        "id": "iE99OlEnsy8u"
      },
      "outputs": [],
      "source": [
        "df = pd.read_csv('AAPL_past_data.csv')"
      ]
    },
    {
      "cell_type": "code",
      "execution_count": 15,
      "metadata": {
        "colab": {
          "base_uri": "https://localhost:8080/",
          "height": 206
        },
        "id": "sWjvQucCtFCQ",
        "outputId": "dee0f3dd-6bd2-4312-de5f-5328f0d74a7d"
      },
      "outputs": [
        {
          "data": {
            "text/html": [
              "<div>\n",
              "<style scoped>\n",
              "    .dataframe tbody tr th:only-of-type {\n",
              "        vertical-align: middle;\n",
              "    }\n",
              "\n",
              "    .dataframe tbody tr th {\n",
              "        vertical-align: top;\n",
              "    }\n",
              "\n",
              "    .dataframe thead th {\n",
              "        text-align: right;\n",
              "    }\n",
              "</style>\n",
              "<table border=\"1\" class=\"dataframe\">\n",
              "  <thead>\n",
              "    <tr style=\"text-align: right;\">\n",
              "      <th></th>\n",
              "      <th>Date</th>\n",
              "      <th>Open</th>\n",
              "      <th>High</th>\n",
              "      <th>Low</th>\n",
              "      <th>Close</th>\n",
              "      <th>Volume</th>\n",
              "      <th>Dividends</th>\n",
              "      <th>Stock Splits</th>\n",
              "    </tr>\n",
              "  </thead>\n",
              "  <tbody>\n",
              "    <tr>\n",
              "      <th>0</th>\n",
              "      <td>1980-12-12</td>\n",
              "      <td>0.100178</td>\n",
              "      <td>0.100614</td>\n",
              "      <td>0.100178</td>\n",
              "      <td>0.100178</td>\n",
              "      <td>469033600</td>\n",
              "      <td>0.0</td>\n",
              "      <td>0.0</td>\n",
              "    </tr>\n",
              "    <tr>\n",
              "      <th>1</th>\n",
              "      <td>1980-12-15</td>\n",
              "      <td>0.095388</td>\n",
              "      <td>0.095388</td>\n",
              "      <td>0.094952</td>\n",
              "      <td>0.094952</td>\n",
              "      <td>175884800</td>\n",
              "      <td>0.0</td>\n",
              "      <td>0.0</td>\n",
              "    </tr>\n",
              "    <tr>\n",
              "      <th>2</th>\n",
              "      <td>1980-12-16</td>\n",
              "      <td>0.088418</td>\n",
              "      <td>0.088418</td>\n",
              "      <td>0.087983</td>\n",
              "      <td>0.087983</td>\n",
              "      <td>105728000</td>\n",
              "      <td>0.0</td>\n",
              "      <td>0.0</td>\n",
              "    </tr>\n",
              "    <tr>\n",
              "      <th>3</th>\n",
              "      <td>1980-12-17</td>\n",
              "      <td>0.090160</td>\n",
              "      <td>0.090596</td>\n",
              "      <td>0.090160</td>\n",
              "      <td>0.090160</td>\n",
              "      <td>86441600</td>\n",
              "      <td>0.0</td>\n",
              "      <td>0.0</td>\n",
              "    </tr>\n",
              "    <tr>\n",
              "      <th>4</th>\n",
              "      <td>1980-12-18</td>\n",
              "      <td>0.092774</td>\n",
              "      <td>0.093210</td>\n",
              "      <td>0.092774</td>\n",
              "      <td>0.092774</td>\n",
              "      <td>73449600</td>\n",
              "      <td>0.0</td>\n",
              "      <td>0.0</td>\n",
              "    </tr>\n",
              "  </tbody>\n",
              "</table>\n",
              "</div>"
            ],
            "text/plain": [
              "         Date      Open      High       Low     Close     Volume  Dividends  \\\n",
              "0  1980-12-12  0.100178  0.100614  0.100178  0.100178  469033600        0.0   \n",
              "1  1980-12-15  0.095388  0.095388  0.094952  0.094952  175884800        0.0   \n",
              "2  1980-12-16  0.088418  0.088418  0.087983  0.087983  105728000        0.0   \n",
              "3  1980-12-17  0.090160  0.090596  0.090160  0.090160   86441600        0.0   \n",
              "4  1980-12-18  0.092774  0.093210  0.092774  0.092774   73449600        0.0   \n",
              "\n",
              "   Stock Splits  \n",
              "0           0.0  \n",
              "1           0.0  \n",
              "2           0.0  \n",
              "3           0.0  \n",
              "4           0.0  "
            ]
          },
          "execution_count": 15,
          "metadata": {},
          "output_type": "execute_result"
        }
      ],
      "source": [
        "df.head(5)"
      ]
    },
    {
      "cell_type": "code",
      "execution_count": 16,
      "metadata": {
        "colab": {
          "base_uri": "https://localhost:8080/",
          "height": 619
        },
        "id": "aMUHA2dAtNfa",
        "outputId": "9bbeee71-9be8-4924-fecc-549c85d9f35c"
      },
      "outputs": [
        {
          "data": {
            "text/plain": [
              "<AxesSubplot:>"
            ]
          },
          "execution_count": 16,
          "metadata": {},
          "output_type": "execute_result"
        },
        {
          "data": {
            "image/png": "[encoded data removed]",
            "text/plain": [
              "<Figure size 1080x720 with 1 Axes>"
            ]
          },
          "metadata": {
            "needs_background": "light"
          },
          "output_type": "display_data"
        }
      ],
      "source": [
        "plt.figure(figsize=(15,10))\n",
        "df['Volume'].plot()"
      ]
    },
    {
      "cell_type": "code",
      "execution_count": 17,
      "metadata": {
        "colab": {
          "base_uri": "https://localhost:8080/"
        },
        "id": "WzgSHjJstWXO",
        "outputId": "7d40221f-0bcf-4b1d-cfb4-c005ee7b7f32"
      },
      "outputs": [
        {
          "data": {
            "text/plain": [
              "246400000    7\n",
              "239680000    6\n",
              "244160000    6\n",
              "255360000    5\n",
              "302400000    5\n",
              "            ..\n",
              "244652800    1\n",
              "209171200    1\n",
              "119470400    1\n",
              "149150400    1\n",
              "73237900     1\n",
              "Name: Volume, Length: 9907, dtype: int64"
            ]
          },
          "execution_count": 17,
          "metadata": {},
          "output_type": "execute_result"
        }
      ],
      "source": [
        "df['Volume'].value_counts()"
      ]
    },
    {
      "cell_type": "code",
      "execution_count": 18,
      "metadata": {
        "colab": {
          "base_uri": "https://localhost:8080/"
        },
        "id": "wOg7TGUvtdcB",
        "outputId": "79b60609-4f67-4309-e7f9-7e0169a47fef"
      },
      "outputs": [
        {
          "data": {
            "text/plain": [
              "0.000000    10395\n",
              "0.001071       21\n",
              "0.130000        4\n",
              "0.220000        4\n",
              "0.205000        4\n",
              "0.192500        4\n",
              "0.182500        4\n",
              "0.157500        4\n",
              "0.142500        4\n",
              "0.117500        4\n",
              "0.108929        4\n",
              "0.000982        4\n",
              "0.000893        4\n",
              "0.000714        4\n",
              "0.094643        3\n",
              "0.000536        2\n",
              "0.230000        1\n",
              "Name: Dividends, dtype: int64"
            ]
          },
          "execution_count": 18,
          "metadata": {},
          "output_type": "execute_result"
        }
      ],
      "source": [
        "df['Dividends'].value_counts()"
      ]
    },
    {
      "cell_type": "code",
      "execution_count": 19,
      "metadata": {
        "colab": {
          "base_uri": "https://localhost:8080/"
        },
        "id": "KOr32LUStjG-",
        "outputId": "2b10fb0c-b37d-4565-a262-ab279b008ac8"
      },
      "outputs": [
        {
          "data": {
            "text/plain": [
              "0.0    10465\n",
              "2.0        3\n",
              "7.0        1\n",
              "4.0        1\n",
              "Name: Stock Splits, dtype: int64"
            ]
          },
          "execution_count": 19,
          "metadata": {},
          "output_type": "execute_result"
        }
      ],
      "source": [
        "df['Stock Splits'].value_counts()"
      ]
    },
    {
      "cell_type": "code",
      "execution_count": 20,
      "metadata": {
        "id": "jFaao0HmusTi"
      },
      "outputs": [],
      "source": [
        "# dropping 'Dividends' and 'Stock Splits' attribute as they have constant value of 0's which are of no use\n",
        "df.drop(['Dividends', 'Stock Splits'], axis=1, inplace=True)"
      ]
    },
    {
      "cell_type": "code",
      "execution_count": 21,
      "metadata": {
        "colab": {
          "base_uri": "https://localhost:8080/",
          "height": 424
        },
        "id": "CXPGMsULvaLs",
        "outputId": "e8caef40-7184-4f1d-e111-d52710a96360"
      },
      "outputs": [
        {
          "data": {
            "text/html": [
              "<div>\n",
              "<style scoped>\n",
              "    .dataframe tbody tr th:only-of-type {\n",
              "        vertical-align: middle;\n",
              "    }\n",
              "\n",
              "    .dataframe tbody tr th {\n",
              "        vertical-align: top;\n",
              "    }\n",
              "\n",
              "    .dataframe thead th {\n",
              "        text-align: right;\n",
              "    }\n",
              "</style>\n",
              "<table border=\"1\" class=\"dataframe\">\n",
              "  <thead>\n",
              "    <tr style=\"text-align: right;\">\n",
              "      <th></th>\n",
              "      <th>Date</th>\n",
              "      <th>Open</th>\n",
              "      <th>High</th>\n",
              "      <th>Low</th>\n",
              "      <th>Close</th>\n",
              "      <th>Volume</th>\n",
              "    </tr>\n",
              "  </thead>\n",
              "  <tbody>\n",
              "    <tr>\n",
              "      <th>0</th>\n",
              "      <td>1980-12-12</td>\n",
              "      <td>0.100178</td>\n",
              "      <td>0.100614</td>\n",
              "      <td>0.100178</td>\n",
              "      <td>0.100178</td>\n",
              "      <td>469033600</td>\n",
              "    </tr>\n",
              "    <tr>\n",
              "      <th>1</th>\n",
              "      <td>1980-12-15</td>\n",
              "      <td>0.095388</td>\n",
              "      <td>0.095388</td>\n",
              "      <td>0.094952</td>\n",
              "      <td>0.094952</td>\n",
              "      <td>175884800</td>\n",
              "    </tr>\n",
              "    <tr>\n",
              "      <th>2</th>\n",
              "      <td>1980-12-16</td>\n",
              "      <td>0.088418</td>\n",
              "      <td>0.088418</td>\n",
              "      <td>0.087983</td>\n",
              "      <td>0.087983</td>\n",
              "      <td>105728000</td>\n",
              "    </tr>\n",
              "    <tr>\n",
              "      <th>3</th>\n",
              "      <td>1980-12-17</td>\n",
              "      <td>0.090160</td>\n",
              "      <td>0.090596</td>\n",
              "      <td>0.090160</td>\n",
              "      <td>0.090160</td>\n",
              "      <td>86441600</td>\n",
              "    </tr>\n",
              "    <tr>\n",
              "      <th>4</th>\n",
              "      <td>1980-12-18</td>\n",
              "      <td>0.092774</td>\n",
              "      <td>0.093210</td>\n",
              "      <td>0.092774</td>\n",
              "      <td>0.092774</td>\n",
              "      <td>73449600</td>\n",
              "    </tr>\n",
              "    <tr>\n",
              "      <th>...</th>\n",
              "      <td>...</td>\n",
              "      <td>...</td>\n",
              "      <td>...</td>\n",
              "      <td>...</td>\n",
              "      <td>...</td>\n",
              "      <td>...</td>\n",
              "    </tr>\n",
              "    <tr>\n",
              "      <th>10465</th>\n",
              "      <td>2022-06-15</td>\n",
              "      <td>134.289993</td>\n",
              "      <td>137.339996</td>\n",
              "      <td>132.160004</td>\n",
              "      <td>135.429993</td>\n",
              "      <td>91533000</td>\n",
              "    </tr>\n",
              "    <tr>\n",
              "      <th>10466</th>\n",
              "      <td>2022-06-16</td>\n",
              "      <td>132.080002</td>\n",
              "      <td>132.389999</td>\n",
              "      <td>129.039993</td>\n",
              "      <td>130.059998</td>\n",
              "      <td>108123900</td>\n",
              "    </tr>\n",
              "    <tr>\n",
              "      <th>10467</th>\n",
              "      <td>2022-06-17</td>\n",
              "      <td>130.070007</td>\n",
              "      <td>133.080002</td>\n",
              "      <td>129.809998</td>\n",
              "      <td>131.559998</td>\n",
              "      <td>134118500</td>\n",
              "    </tr>\n",
              "    <tr>\n",
              "      <th>10468</th>\n",
              "      <td>2022-06-21</td>\n",
              "      <td>133.419998</td>\n",
              "      <td>137.059998</td>\n",
              "      <td>133.320007</td>\n",
              "      <td>135.869995</td>\n",
              "      <td>81000500</td>\n",
              "    </tr>\n",
              "    <tr>\n",
              "      <th>10469</th>\n",
              "      <td>2022-06-22</td>\n",
              "      <td>134.789993</td>\n",
              "      <td>137.759995</td>\n",
              "      <td>133.910004</td>\n",
              "      <td>135.350006</td>\n",
              "      <td>73237900</td>\n",
              "    </tr>\n",
              "  </tbody>\n",
              "</table>\n",
              "<p>10470 rows × 6 columns</p>\n",
              "</div>"
            ],
            "text/plain": [
              "             Date        Open        High         Low       Close     Volume\n",
              "0      1980-12-12    0.100178    0.100614    0.100178    0.100178  469033600\n",
              "1      1980-12-15    0.095388    0.095388    0.094952    0.094952  175884800\n",
              "2      1980-12-16    0.088418    0.088418    0.087983    0.087983  105728000\n",
              "3      1980-12-17    0.090160    0.090596    0.090160    0.090160   86441600\n",
              "4      1980-12-18    0.092774    0.093210    0.092774    0.092774   73449600\n",
              "...           ...         ...         ...         ...         ...        ...\n",
              "10465  2022-06-15  134.289993  137.339996  132.160004  135.429993   91533000\n",
              "10466  2022-06-16  132.080002  132.389999  129.039993  130.059998  108123900\n",
              "10467  2022-06-17  130.070007  133.080002  129.809998  131.559998  134118500\n",
              "10468  2022-06-21  133.419998  137.059998  133.320007  135.869995   81000500\n",
              "10469  2022-06-22  134.789993  137.759995  133.910004  135.350006   73237900\n",
              "\n",
              "[10470 rows x 6 columns]"
            ]
          },
          "execution_count": 21,
          "metadata": {},
          "output_type": "execute_result"
        }
      ],
      "source": [
        "df"
      ]
    },
    {
      "cell_type": "code",
      "execution_count": 22,
      "metadata": {
        "colab": {
          "base_uri": "https://localhost:8080/"
        },
        "id": "XhboYd0KKFVK",
        "outputId": "6d8cf25c-c4a7-433f-fdb6-1963e3741bba"
      },
      "outputs": [
        {
          "data": {
            "text/plain": [
              "Date      0\n",
              "Open      0\n",
              "High      0\n",
              "Low       0\n",
              "Close     0\n",
              "Volume    0\n",
              "dtype: int64"
            ]
          },
          "execution_count": 22,
          "metadata": {},
          "output_type": "execute_result"
        }
      ],
      "source": [
        "df.isna().sum() # no null values"
      ]
    },
    {
      "cell_type": "code",
      "execution_count": 23,
      "metadata": {
        "colab": {
          "base_uri": "https://localhost:8080/"
        },
        "id": "_fxcRRwwKUzR",
        "outputId": "96be6f97-3edf-4543-e512-98248b689e55"
      },
      "outputs": [
        {
          "name": "stdout",
          "output_type": "stream",
          "text": [
            "<class 'pandas.core.frame.DataFrame'>\n",
            "RangeIndex: 10470 entries, 0 to 10469\n",
            "Data columns (total 6 columns):\n",
            " #   Column  Non-Null Count  Dtype  \n",
            "---  ------  --------------  -----  \n",
            " 0   Date    10470 non-null  object \n",
            " 1   Open    10470 non-null  float64\n",
            " 2   High    10470 non-null  float64\n",
            " 3   Low     10470 non-null  float64\n",
            " 4   Close   10470 non-null  float64\n",
            " 5   Volume  10470 non-null  int64  \n",
            "dtypes: float64(4), int64(1), object(1)\n",
            "memory usage: 490.9+ KB\n"
          ]
        }
      ],
      "source": [
        "df.info()"
      ]
    },
    {
      "cell_type": "code",
      "execution_count": 24,
      "metadata": {
        "colab": {
          "base_uri": "https://localhost:8080/",
          "height": 300
        },
        "id": "o2-RlKIsKXbO",
        "outputId": "76313fff-d96d-48e3-9f71-25658c069c28"
      },
      "outputs": [
        {
          "data": {
            "text/html": [
              "<div>\n",
              "<style scoped>\n",
              "    .dataframe tbody tr th:only-of-type {\n",
              "        vertical-align: middle;\n",
              "    }\n",
              "\n",
              "    .dataframe tbody tr th {\n",
              "        vertical-align: top;\n",
              "    }\n",
              "\n",
              "    .dataframe thead th {\n",
              "        text-align: right;\n",
              "    }\n",
              "</style>\n",
              "<table border=\"1\" class=\"dataframe\">\n",
              "  <thead>\n",
              "    <tr style=\"text-align: right;\">\n",
              "      <th></th>\n",
              "      <th>Open</th>\n",
              "      <th>High</th>\n",
              "      <th>Low</th>\n",
              "      <th>Close</th>\n",
              "      <th>Volume</th>\n",
              "    </tr>\n",
              "  </thead>\n",
              "  <tbody>\n",
              "    <tr>\n",
              "      <th>count</th>\n",
              "      <td>10470.000000</td>\n",
              "      <td>10470.000000</td>\n",
              "      <td>10470.000000</td>\n",
              "      <td>10470.000000</td>\n",
              "      <td>1.047000e+04</td>\n",
              "    </tr>\n",
              "    <tr>\n",
              "      <th>mean</th>\n",
              "      <td>14.147726</td>\n",
              "      <td>14.305250</td>\n",
              "      <td>13.991229</td>\n",
              "      <td>14.153636</td>\n",
              "      <td>3.308004e+08</td>\n",
              "    </tr>\n",
              "    <tr>\n",
              "      <th>std</th>\n",
              "      <td>31.662384</td>\n",
              "      <td>32.037141</td>\n",
              "      <td>31.294634</td>\n",
              "      <td>31.678773</td>\n",
              "      <td>3.388276e+08</td>\n",
              "    </tr>\n",
              "    <tr>\n",
              "      <th>min</th>\n",
              "      <td>0.038765</td>\n",
              "      <td>0.038765</td>\n",
              "      <td>0.038329</td>\n",
              "      <td>0.038329</td>\n",
              "      <td>0.000000e+00</td>\n",
              "    </tr>\n",
              "    <tr>\n",
              "      <th>25%</th>\n",
              "      <td>0.235617</td>\n",
              "      <td>0.240905</td>\n",
              "      <td>0.230030</td>\n",
              "      <td>0.235471</td>\n",
              "      <td>1.237336e+08</td>\n",
              "    </tr>\n",
              "    <tr>\n",
              "      <th>50%</th>\n",
              "      <td>0.392065</td>\n",
              "      <td>0.398738</td>\n",
              "      <td>0.384646</td>\n",
              "      <td>0.392373</td>\n",
              "      <td>2.181508e+08</td>\n",
              "    </tr>\n",
              "    <tr>\n",
              "      <th>75%</th>\n",
              "      <td>12.863365</td>\n",
              "      <td>12.957567</td>\n",
              "      <td>12.722852</td>\n",
              "      <td>12.860231</td>\n",
              "      <td>4.105332e+08</td>\n",
              "    </tr>\n",
              "    <tr>\n",
              "      <th>max</th>\n",
              "      <td>182.130025</td>\n",
              "      <td>182.439174</td>\n",
              "      <td>178.629624</td>\n",
              "      <td>181.511703</td>\n",
              "      <td>7.421641e+09</td>\n",
              "    </tr>\n",
              "  </tbody>\n",
              "</table>\n",
              "</div>"
            ],
            "text/plain": [
              "               Open          High           Low         Close        Volume\n",
              "count  10470.000000  10470.000000  10470.000000  10470.000000  1.047000e+04\n",
              "mean      14.147726     14.305250     13.991229     14.153636  3.308004e+08\n",
              "std       31.662384     32.037141     31.294634     31.678773  3.388276e+08\n",
              "min        0.038765      0.038765      0.038329      0.038329  0.000000e+00\n",
              "25%        0.235617      0.240905      0.230030      0.235471  1.237336e+08\n",
              "50%        0.392065      0.398738      0.384646      0.392373  2.181508e+08\n",
              "75%       12.863365     12.957567     12.722852     12.860231  4.105332e+08\n",
              "max      182.130025    182.439174    178.629624    181.511703  7.421641e+09"
            ]
          },
          "execution_count": 24,
          "metadata": {},
          "output_type": "execute_result"
        }
      ],
      "source": [
        "df.describe()"
      ]
    },
    {
      "cell_type": "code",
      "execution_count": 25,
      "metadata": {
        "id": "kj8DFGIeKkWb"
      },
      "outputs": [],
      "source": [
        "df['Date'] = pd.to_datetime(df['Date'], format='%Y-%m-%d')"
      ]
    },
    {
      "cell_type": "code",
      "execution_count": 26,
      "metadata": {
        "id": "NVibS65TONlW"
      },
      "outputs": [],
      "source": [
        "df['Year'] = df['Date'].dt.year\n",
        "df['Month'] = df['Date'].dt.month\n",
        "df['Day'] = df['Date'].dt.day"
      ]
    },
    {
      "cell_type": "code",
      "execution_count": 27,
      "metadata": {
        "colab": {
          "base_uri": "https://localhost:8080/",
          "height": 300
        },
        "id": "-gongLuhR2U_",
        "outputId": "380a0541-3e07-4e13-822f-244ce6e2e450"
      },
      "outputs": [
        {
          "data": {
            "text/html": [
              "<div>\n",
              "<style scoped>\n",
              "    .dataframe tbody tr th:only-of-type {\n",
              "        vertical-align: middle;\n",
              "    }\n",
              "\n",
              "    .dataframe tbody tr th {\n",
              "        vertical-align: top;\n",
              "    }\n",
              "\n",
              "    .dataframe thead th {\n",
              "        text-align: right;\n",
              "    }\n",
              "</style>\n",
              "<table border=\"1\" class=\"dataframe\">\n",
              "  <thead>\n",
              "    <tr style=\"text-align: right;\">\n",
              "      <th></th>\n",
              "      <th>Open</th>\n",
              "      <th>High</th>\n",
              "      <th>Low</th>\n",
              "      <th>Close</th>\n",
              "      <th>Volume</th>\n",
              "      <th>Year</th>\n",
              "      <th>Month</th>\n",
              "      <th>Day</th>\n",
              "    </tr>\n",
              "  </thead>\n",
              "  <tbody>\n",
              "    <tr>\n",
              "      <th>Open</th>\n",
              "      <td>1.000000</td>\n",
              "      <td>0.999944</td>\n",
              "      <td>0.999925</td>\n",
              "      <td>0.999851</td>\n",
              "      <td>-0.199339</td>\n",
              "      <td>0.630884</td>\n",
              "      <td>-0.006505</td>\n",
              "      <td>-0.003753</td>\n",
              "    </tr>\n",
              "    <tr>\n",
              "      <th>High</th>\n",
              "      <td>0.999944</td>\n",
              "      <td>1.000000</td>\n",
              "      <td>0.999910</td>\n",
              "      <td>0.999925</td>\n",
              "      <td>-0.198799</td>\n",
              "      <td>0.630480</td>\n",
              "      <td>-0.006709</td>\n",
              "      <td>-0.003649</td>\n",
              "    </tr>\n",
              "    <tr>\n",
              "      <th>Low</th>\n",
              "      <td>0.999925</td>\n",
              "      <td>0.999910</td>\n",
              "      <td>1.000000</td>\n",
              "      <td>0.999929</td>\n",
              "      <td>-0.200205</td>\n",
              "      <td>0.631292</td>\n",
              "      <td>-0.006272</td>\n",
              "      <td>-0.003592</td>\n",
              "    </tr>\n",
              "    <tr>\n",
              "      <th>Close</th>\n",
              "      <td>0.999851</td>\n",
              "      <td>0.999925</td>\n",
              "      <td>0.999929</td>\n",
              "      <td>1.000000</td>\n",
              "      <td>-0.199520</td>\n",
              "      <td>0.630877</td>\n",
              "      <td>-0.006463</td>\n",
              "      <td>-0.003648</td>\n",
              "    </tr>\n",
              "    <tr>\n",
              "      <th>Volume</th>\n",
              "      <td>-0.199339</td>\n",
              "      <td>-0.198799</td>\n",
              "      <td>-0.200205</td>\n",
              "      <td>-0.199520</td>\n",
              "      <td>1.000000</td>\n",
              "      <td>0.167200</td>\n",
              "      <td>-0.051808</td>\n",
              "      <td>-0.010896</td>\n",
              "    </tr>\n",
              "    <tr>\n",
              "      <th>Year</th>\n",
              "      <td>0.630884</td>\n",
              "      <td>0.630480</td>\n",
              "      <td>0.631292</td>\n",
              "      <td>0.630877</td>\n",
              "      <td>0.167200</td>\n",
              "      <td>1.000000</td>\n",
              "      <td>-0.019196</td>\n",
              "      <td>-0.003500</td>\n",
              "    </tr>\n",
              "    <tr>\n",
              "      <th>Month</th>\n",
              "      <td>-0.006505</td>\n",
              "      <td>-0.006709</td>\n",
              "      <td>-0.006272</td>\n",
              "      <td>-0.006463</td>\n",
              "      <td>-0.051808</td>\n",
              "      <td>-0.019196</td>\n",
              "      <td>1.000000</td>\n",
              "      <td>0.000831</td>\n",
              "    </tr>\n",
              "    <tr>\n",
              "      <th>Day</th>\n",
              "      <td>-0.003753</td>\n",
              "      <td>-0.003649</td>\n",
              "      <td>-0.003592</td>\n",
              "      <td>-0.003648</td>\n",
              "      <td>-0.010896</td>\n",
              "      <td>-0.003500</td>\n",
              "      <td>0.000831</td>\n",
              "      <td>1.000000</td>\n",
              "    </tr>\n",
              "  </tbody>\n",
              "</table>\n",
              "</div>"
            ],
            "text/plain": [
              "            Open      High       Low     Close    Volume      Year     Month  \\\n",
              "Open    1.000000  0.999944  0.999925  0.999851 -0.199339  0.630884 -0.006505   \n",
              "High    0.999944  1.000000  0.999910  0.999925 -0.198799  0.630480 -0.006709   \n",
              "Low     0.999925  0.999910  1.000000  0.999929 -0.200205  0.631292 -0.006272   \n",
              "Close   0.999851  0.999925  0.999929  1.000000 -0.199520  0.630877 -0.006463   \n",
              "Volume -0.199339 -0.198799 -0.200205 -0.199520  1.000000  0.167200 -0.051808   \n",
              "Year    0.630884  0.630480  0.631292  0.630877  0.167200  1.000000 -0.019196   \n",
              "Month  -0.006505 -0.006709 -0.006272 -0.006463 -0.051808 -0.019196  1.000000   \n",
              "Day    -0.003753 -0.003649 -0.003592 -0.003648 -0.010896 -0.003500  0.000831   \n",
              "\n",
              "             Day  \n",
              "Open   -0.003753  \n",
              "High   -0.003649  \n",
              "Low    -0.003592  \n",
              "Close  -0.003648  \n",
              "Volume -0.010896  \n",
              "Year   -0.003500  \n",
              "Month   0.000831  \n",
              "Day     1.000000  "
            ]
          },
          "execution_count": 27,
          "metadata": {},
          "output_type": "execute_result"
        }
      ],
      "source": [
        "df.corr()"
      ]
    },
    {
      "cell_type": "code",
      "execution_count": 28,
      "metadata": {
        "colab": {
          "base_uri": "https://localhost:8080/",
          "height": 206
        },
        "id": "S69Mxk5bQU-i",
        "outputId": "906dbaec-0fae-49d9-ced7-9445ddeabfb4"
      },
      "outputs": [
        {
          "data": {
            "text/html": [
              "<div>\n",
              "<style scoped>\n",
              "    .dataframe tbody tr th:only-of-type {\n",
              "        vertical-align: middle;\n",
              "    }\n",
              "\n",
              "    .dataframe tbody tr th {\n",
              "        vertical-align: top;\n",
              "    }\n",
              "\n",
              "    .dataframe thead th {\n",
              "        text-align: right;\n",
              "    }\n",
              "</style>\n",
              "<table border=\"1\" class=\"dataframe\">\n",
              "  <thead>\n",
              "    <tr style=\"text-align: right;\">\n",
              "      <th></th>\n",
              "      <th>Date</th>\n",
              "      <th>Open</th>\n",
              "      <th>High</th>\n",
              "      <th>Low</th>\n",
              "      <th>Close</th>\n",
              "      <th>Volume</th>\n",
              "      <th>Year</th>\n",
              "      <th>Month</th>\n",
              "      <th>Day</th>\n",
              "    </tr>\n",
              "  </thead>\n",
              "  <tbody>\n",
              "    <tr>\n",
              "      <th>0</th>\n",
              "      <td>1980-12-12</td>\n",
              "      <td>0.100178</td>\n",
              "      <td>0.100614</td>\n",
              "      <td>0.100178</td>\n",
              "      <td>0.100178</td>\n",
              "      <td>469033600</td>\n",
              "      <td>1980</td>\n",
              "      <td>12</td>\n",
              "      <td>12</td>\n",
              "    </tr>\n",
              "    <tr>\n",
              "      <th>1</th>\n",
              "      <td>1980-12-15</td>\n",
              "      <td>0.095388</td>\n",
              "      <td>0.095388</td>\n",
              "      <td>0.094952</td>\n",
              "      <td>0.094952</td>\n",
              "      <td>175884800</td>\n",
              "      <td>1980</td>\n",
              "      <td>12</td>\n",
              "      <td>15</td>\n",
              "    </tr>\n",
              "    <tr>\n",
              "      <th>2</th>\n",
              "      <td>1980-12-16</td>\n",
              "      <td>0.088418</td>\n",
              "      <td>0.088418</td>\n",
              "      <td>0.087983</td>\n",
              "      <td>0.087983</td>\n",
              "      <td>105728000</td>\n",
              "      <td>1980</td>\n",
              "      <td>12</td>\n",
              "      <td>16</td>\n",
              "    </tr>\n",
              "    <tr>\n",
              "      <th>3</th>\n",
              "      <td>1980-12-17</td>\n",
              "      <td>0.090160</td>\n",
              "      <td>0.090596</td>\n",
              "      <td>0.090160</td>\n",
              "      <td>0.090160</td>\n",
              "      <td>86441600</td>\n",
              "      <td>1980</td>\n",
              "      <td>12</td>\n",
              "      <td>17</td>\n",
              "    </tr>\n",
              "    <tr>\n",
              "      <th>4</th>\n",
              "      <td>1980-12-18</td>\n",
              "      <td>0.092774</td>\n",
              "      <td>0.093210</td>\n",
              "      <td>0.092774</td>\n",
              "      <td>0.092774</td>\n",
              "      <td>73449600</td>\n",
              "      <td>1980</td>\n",
              "      <td>12</td>\n",
              "      <td>18</td>\n",
              "    </tr>\n",
              "  </tbody>\n",
              "</table>\n",
              "</div>"
            ],
            "text/plain": [
              "        Date      Open      High       Low     Close     Volume  Year  Month  \\\n",
              "0 1980-12-12  0.100178  0.100614  0.100178  0.100178  469033600  1980     12   \n",
              "1 1980-12-15  0.095388  0.095388  0.094952  0.094952  175884800  1980     12   \n",
              "2 1980-12-16  0.088418  0.088418  0.087983  0.087983  105728000  1980     12   \n",
              "3 1980-12-17  0.090160  0.090596  0.090160  0.090160   86441600  1980     12   \n",
              "4 1980-12-18  0.092774  0.093210  0.092774  0.092774   73449600  1980     12   \n",
              "\n",
              "   Day  \n",
              "0   12  \n",
              "1   15  \n",
              "2   16  \n",
              "3   17  \n",
              "4   18  "
            ]
          },
          "execution_count": 28,
          "metadata": {},
          "output_type": "execute_result"
        }
      ],
      "source": [
        "df.head()"
      ]
    },
    {
      "cell_type": "code",
      "execution_count": 29,
      "metadata": {
        "colab": {
          "base_uri": "https://localhost:8080/",
          "height": 516
        },
        "id": "BWNApJvMRGTa",
        "outputId": "68fe0b76-8cc9-43ab-d648-a91044c95847"
      },
      "outputs": [
        {
          "data": {
            "text/plain": [
              "Text(0.5, 1.0, 'HEATMAP')"
            ]
          },
          "execution_count": 29,
          "metadata": {},
          "output_type": "execute_result"
        },
        {
          "data": {
            "image/png": "[encoded data removed]",
            "text/plain": [
              "<Figure size 1080x576 with 2 Axes>"
            ]
          },
          "metadata": {
            "needs_background": "light"
          },
          "output_type": "display_data"
        }
      ],
      "source": [
        "plt.figure(figsize=(15,8))\n",
        "sns.heatmap(df.corr(), annot=True, linewidth=1)\n",
        "plt.title('HEATMAP')"
      ]
    },
    {
      "cell_type": "code",
      "execution_count": null,
      "metadata": {},
      "outputs": [],
      "source": []
    }
  ],
  "metadata": {
    "colab": {
      "name": "historical_data.ipynb",
      "provenance": []
    },
    "kernelspec": {
      "display_name": "Python 3.9.12 ('gaip-tf')",
      "language": "python",
      "name": "python3"
    },
    "language_info": {
      "codemirror_mode": {
        "name": "ipython",
        "version": 3
      },
      "file_extension": ".py",
      "mimetype": "text/x-python",
      "name": "python",
      "nbconvert_exporter": "python",
      "pygments_lexer": "ipython3",
      "version": "3.9.12"
    },
    "orig_nbformat": 4,
    "vscode": {
      "interpreter": {
        "hash": "1b36a6aceba897fda56d7e90acf89496ac0a03fe03fb67196d25146dede7cb16"
      }
    }
  },
  "nbformat": 4,
  "nbformat_minor": 0
}
